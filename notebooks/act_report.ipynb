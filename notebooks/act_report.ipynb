{
 "cells": [
  {
   "cell_type": "markdown",
   "metadata": {},
   "source": [
    "## Data Wrangling Project: WeRateDogs\n",
    "\n",
    "<p style='text-align: justify;'><b>Project Introduction</b>: The dataset which is going to be wrangled is the tweet archive of Twitter user @dog_rates, also known as WeRateDogs. WeRateDogs is a Twitter account that rates people's dogs with a humorous comment about the dog. These ratings almost always have a denominator of 10. The numerators, though? Almost always greater than 10. WeRateDogs has over 4 million followers and has received international media coverage.</p>\n",
    "\n",
    "In this report, you may find some conclusions and insights based on given datasets:\n",
    "\n",
    "**1. twitter-archive-enhanced.csv**: The WeRateDogs Twitter archive.\n",
    "<br>\n",
    "**2. image-predictions.tsv**: Predictions for breed of dog according to a neural network.\n",
    "<br>\n",
    "**3. The Twitter API & JSON**: Each tweet's retweet count and favorite (\"like\") count."
   ]
  },
  {
   "cell_type": "markdown",
   "metadata": {},
   "source": [
    "**Research questions:**\n",
    "1. Which dog breeds are popular? Find top-10!<br> \n",
    "2. Is there a time-trend of rating?<br>\n",
    "3. Is there a correlation between favorites, ratings and number of retweets? How strong is it?<br>\n",
    "4. Try to find the proportion of genders of dogs.\n",
    "5. Find the photo of the most favourited dog!"
   ]
  },
  {
   "cell_type": "markdown",
   "metadata": {},
   "source": [
    "**Top-10 Dog Breeds**<br>\n",
    "Here, breeds were compared based on their popularities.<br>\n",
    "In this study, 'popularity' means total number of retweets and favorites!<br>"
   ]
  },
  {
   "cell_type": "markdown",
   "metadata": {},
   "source": [
    "![](pic_populars.png)"
   ]
  },
  {
   "cell_type": "markdown",
   "metadata": {},
   "source": [
    "**Conclusion:** Irish_water_spaniel seems the most popular breed!<br>\n",
    "Boston bull and dalmatian seem pretty close to each other."
   ]
  },
  {
   "cell_type": "markdown",
   "metadata": {},
   "source": [
    "**Time Trend of Ratings!**<br>\n",
    "A plot is given which contain ratings and their corresponding dates so as to shown the trend."
   ]
  },
  {
   "cell_type": "markdown",
   "metadata": {},
   "source": [
    "![](pic_trend.png)"
   ]
  },
  {
   "cell_type": "markdown",
   "metadata": {},
   "source": [
    "**Conclusion:** Above diagram shows that ratings increase over time!"
   ]
  },
  {
   "cell_type": "markdown",
   "metadata": {},
   "source": [
    "**Correlations Between Number of Favorites, Ratings and Number of Retweets!**<br>\n"
   ]
  },
  {
   "cell_type": "markdown",
   "metadata": {},
   "source": [
    "Intuitively, we expect a pairwise correlation rating and between number of favorites.<br>\n",
    "Because we give high ratings to our favorites!<br>\n",
    "Let's check the correlation between rating and favorites!"
   ]
  },
  {
   "cell_type": "markdown",
   "metadata": {},
   "source": [
    "![](pic_cor1.png)<br>"
   ]
  },
  {
   "cell_type": "markdown",
   "metadata": {},
   "source": [
    "It's hard to see whether there is a correlation between ratings and favorites.<br>\n",
    "Let's calculate the pearson's correlation coefficient."
   ]
  },
  {
   "cell_type": "markdown",
   "metadata": {},
   "source": [
    "![](pic_cor12.png)<br>"
   ]
  },
  {
   "cell_type": "markdown",
   "metadata": {},
   "source": [
    "There is a moderate correlation (~70%) between number of favorites and number of retweets.<br>\n",
    "Now, let's also consider the retweets."
   ]
  },
  {
   "cell_type": "markdown",
   "metadata": {},
   "source": [
    "![](pic_cor2.png)<br>"
   ]
  },
  {
   "cell_type": "markdown",
   "metadata": {},
   "source": [
    "**Conclusion:** There is a moderate correlation between number of favorites and number of retweets.<br>\n",
    "However, those two have a weak correlation with ratings!"
   ]
  },
  {
   "cell_type": "markdown",
   "metadata": {},
   "source": [
    "**Proportion of Dog Genders!**"
   ]
  },
  {
   "cell_type": "markdown",
   "metadata": {},
   "source": [
    "This information is not given directly however it's basically derived from the tweets based on some words that describes or signs a gender such as he, she, boy, girl etc."
   ]
  },
  {
   "cell_type": "markdown",
   "metadata": {},
   "source": [
    "![](pic_genders.png)"
   ]
  },
  {
   "cell_type": "markdown",
   "metadata": {},
   "source": [
    "**Conclusion:** It's clear that number of male dogs are significantly higher than female dogs."
   ]
  },
  {
   "cell_type": "markdown",
   "metadata": {},
   "source": [
    "**Ladies and Gentlemen!**<br>\n",
    "**Here is the most favorited dog:**<br>\n",
    "<br>\n",
    "But please keep it mind that 'they're all good dogs :)'"
   ]
  },
  {
   "cell_type": "markdown",
   "metadata": {},
   "source": [
    "![](most_fav_jpg.jpg)"
   ]
  },
  {
   "cell_type": "markdown",
   "metadata": {},
   "source": [
    "### Summary"
   ]
  },
  {
   "cell_type": "markdown",
   "metadata": {},
   "source": [
    "Irish_water_spaniel is the most popular breed currently. Good news is there is increasing trend for the dog ratings and this can be considered as that people are getting used to love dogs more. However, this is just an insight. There might be other factors such as increased number of tweeter users or people are getting to spend more time in twitter etc.<br>\n",
    "\n",
    "Based on the data derived from the WeRateDogs tweeter account, people who retweet a dog also make it his/her favorite likely. \n",
    "However, no significant correlation found between ratings and number of favorites (and between ratings and number of retweets as well!). It seem odd initially because intuitevely we might expect that most favorited and/or most retweeted dogs should also have high ratings. However it is not impossible. Think about it, in almost every social media platform (such as twitter, instagram and facebook) there are 'haters'! And these people are tend to give dislikes, low ratings etc. however for some reason they might retweet the tweets as well for example to say \"see this ugly dog\"! However, they are just 'haters'! The fact that 'they're all good dogs :)'.<br>\n",
    "\n",
    "Interestingly, there are much more male gender dogs than female gender dogs. Most probably they are easy to take care however it's just a guess, there is no knowledge derived from the given datasets."
   ]
  },
  {
   "cell_type": "markdown",
   "metadata": {},
   "source": [
    "Reported by Ugur URESIN, MSc.<br>\n",
    "Thanks!"
   ]
  }
 ],
 "metadata": {
  "kernelspec": {
   "display_name": "Python 3",
   "language": "python",
   "name": "python3"
  },
  "language_info": {
   "codemirror_mode": {
    "name": "ipython",
    "version": 3
   },
   "file_extension": ".py",
   "mimetype": "text/x-python",
   "name": "python",
   "nbconvert_exporter": "python",
   "pygments_lexer": "ipython3",
   "version": "3.6.3"
  }
 },
 "nbformat": 4,
 "nbformat_minor": 2
}
