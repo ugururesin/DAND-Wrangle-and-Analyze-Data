{
 "cells": [
  {
   "cell_type": "markdown",
   "metadata": {},
   "source": [
    "### Data Wrangling Project Report: WeRateDogs (by Ugur URESIN)\n",
    "\n",
    "<p style='text-align: justify;'><b>Project Introduction</b>: The dataset which is going to be wrangled is the tweet archive of Twitter user @dog_rates, also known as WeRateDogs. WeRateDogs is a Twitter account that rates people's dogs with a humorous comment about the dog. These ratings almost always have a denominator of 10. The numerators, though? Almost always greater than 10. WeRateDogs has over 4 million followers and has received international media coverage.</p>"
   ]
  },
  {
   "cell_type": "markdown",
   "metadata": {},
   "source": [
    "#### REQUIRED PYTHON LIBRARIES"
   ]
  },
  {
   "cell_type": "markdown",
   "metadata": {},
   "source": [
    "* numpy \n",
    "* pandas\n",
    "* requests\n",
    "* os\n",
    "* tweepy\n",
    "* json\n",
    "* scipy\n",
    "* seaborn\n",
    "* matplotlib.pyplot"
   ]
  },
  {
   "cell_type": "markdown",
   "metadata": {},
   "source": [
    "#### DATA GATHERING PROCESS"
   ]
  },
  {
   "cell_type": "markdown",
   "metadata": {},
   "source": [
    "**1. twitter-archive-enhanced.csv**: The WeRateDogs Twitter archive. It's downloaded via the following URL:<br>\n",
    "https://d17h27t6h515a5.cloudfront.net/topher/2017/August/59a4e958_twitter-archive-enhanced/twitter-archive-enhanced.csv<br>\n",
    "<br>\n",
    "**2. image-predictions.tsv**: i.e., what breed of dog (or other object, animal, etc.) is present in each tweet according to a neural network. This file (image_predictions.tsv) is hosted on Udacity's servers and should be downloaded programmatically using the Requests library and the following URL:<br>\n",
    "https://d17h27t6h515a5.cloudfront.net/topher/2017/August/599fd2ad_image-predictions/image-predictions.tsv<br>\n",
    "<br>\n",
    "**3. The Twitter API & JSON**: Each tweet's retweet count and favorite (\"like\") count at minimum, and any additional data you find interesting. Using the tweet IDs in the WeRateDogs Twitter archive, query the Twitter API for each tweet's JSON data using Python's Tweepy library and store each tweet's entire set of JSON data in a file called tweet_json.txt file. Each tweet's JSON data should be written to its own line. Then read this .txt file line by line into a pandas DataFrame with (at minimum) tweet ID, retweet count, and favorite count.<br>\n",
    "<br>\n",
    "**Note that:** My twitter developer account application was not approved without a reason or any additional request. Thus, I imported the following file manually:<br>\n",
    "<br>\n",
    "File: tweet_json.txt<br>\n",
    "URL: https://s3.amazonaws.com/video.udacity-data.com/topher/2018/November/5be5fb7d_tweet-json/tweet-json.txt"
   ]
  },
  {
   "cell_type": "markdown",
   "metadata": {},
   "source": [
    "#### DATA ASSESSMENT PROCESS"
   ]
  },
  {
   "cell_type": "markdown",
   "metadata": {},
   "source": [
    "Given data is examined **visually** in Excel first.<br>\n",
    "Then, some numerical assessments were done using some python libraries such as numpy and pandas.\n",
    "\n",
    "Especially following methods are used:\n",
    "* info()\n",
    "* head()\n",
    "* tail()\n",
    "* sample()\n",
    "* describe()\n",
    "\n",
    "And there had been found following data issues:\n",
    "\n",
    "##### ATTENTION for the REVIEWER:\n",
    "My previous submission is commented as follows:<br>\n",
    "\"The fact that the rating numerators are greater than the denominators does not need to be cleaned. This unique rating system is a big part of the popularity of WeRateDogs. You can see this on Project Motivation -> Key Points section in the classroom.\"\n",
    "However, the aim is NOT to remove the rows that numerator > denominator!<br>\n",
    "The aim is to remove the numerator that >>10 because they can be considered as **outliers**!<br>\n",
    "(I assume this understood wrong due to my expression.)<br>\n",
    "Thus, I kept this issue as it is.<br>\n",
    "Thanks!"
   ]
  },
  {
   "cell_type": "markdown",
   "metadata": {},
   "source": [
    "##### Quality Issues\n",
    "1. Twitter-archieve dataframe contains rows in which the denominator is not 10. These rows should be removed. Why the denominator is 10? Because \"they're good dogs Brent\" (https://knowyourmeme.com/memes/theyre-good-dogs-brent\")<br>\n",
    "2. The tweet-json dataframe has duplicates!<br>\n",
    "3. Twitter-archieve-enhanced dataframe contains rows in which the rating numerator is much bigger than 10. These rows should be removed.<br>\n",
    "4. Number of rows are not matched.\n",
    "<br>\n",
    "'Twitter_archive_enhanced' contains 2356 rows.\n",
    "<br>\n",
    "'image_predictions' contains 2075 rows.\n",
    "<br>\n",
    "'tweet-json' contains 2354 rows.\n",
    "<br>\n",
    "5. The type of 'tweet_id' should be object however it's int64 in twitter-archieve-enhanced and image-prediction dataframes.\n",
    "6. Following columns in the \"twitter-archieve-enhanced\" dataframe contain NAN values in most. Thus, these columns will not provide information to us. These columns should be removed.<br>\n",
    "*in_reply_to_status_id         78 non-null float64<br>\n",
    "*in_reply_to_user_id           78 non-null float64<br>\n",
    "*retweeted_status_id           181 non-null float64<br>\n",
    "*retweeted_status_user_id      181 non-null float64<br>\n",
    "*retweeted_status_timestamp    181 non-null object<br>\n",
    "7. In twitter-archieve-enhanced dataframe, the timestamp column has redundant numbers '+0000'.\n",
    "8. In twitter-archieve-enhanced dataframe, the type of timestamp column is not datetime! \n",
    "\n",
    "##### Structural Issues (Tidiness Issues)\n",
    "1. There are 3 dataframes. However, only 1 data frame is needed.<br>\n",
    "2. Twitter-archieve-enhanced dataframe contains 4 columns: doggo, floofer, pupper, puppo. These columns are categories. Thus, these columns can be united in same column.<br>\n",
    "3. Image-predictions dataframe contains 3 predictions. Instead of 3 different prediction outcome, only the best can be used."
   ]
  },
  {
   "cell_type": "markdown",
   "metadata": {},
   "source": [
    "#### DATA CLEANING PROCESS"
   ]
  },
  {
   "cell_type": "markdown",
   "metadata": {},
   "source": [
    "Both quality-issues and structural-issues (given above) were fixed by using python libraries.<br>\n",
    "<br>\n",
    "\n",
    "\n",
    "##### Quality Issue 1\n",
    "Twitter-archieve-enhanced dataframe contains rows in which the denominator is not 10. These rows were removed because they may led to inproper results.\n",
    "\n",
    "##### Quality Issue 2\n",
    "The duplicates were dropped from the tweet-json dataframe. (In the process, this issue is intentionally left to the end because previous cleaning operations might yield another duplicates or simply might drop all duplicates).\n",
    "\n",
    "##### Quality Issue 3\n",
    "Twitter-archieve-enhanced dataframe contains rows in which the rating is much bigger than 10. These rows should be removed (QI-3). Because these values can be considered as **outliers** and they may led to inproper results. Thus, these rows were removed.\n",
    "\n",
    "##### Quality Issue 4\n",
    "Number of rows are not matched in the dataframes (QI-4). Redundant observations were dropped. (See also Quality Issue-6)\n",
    "\n",
    "##### Quality Issue 5\n",
    "The type of 'tweet_id' should be object however it's int64 in twitter-archieve-enhanced and image-prediction dataframes (QI-5).\n",
    "\n",
    "##### Quality Issue 6\n",
    "Following columns in the \"twitter-archieve-enhanced\" dataframe contain NAN values in most. Thus, these columns will not provide information to us. These columns were removed.<br>\n",
    "*in_reply_to_status_id         78 non-null float64<br>\n",
    "*in_reply_to_user_id           78 non-null float64<br>\n",
    "*retweeted_status_id           181 non-null float64<br>\n",
    "*retweeted_status_user_id      181 non-null float64<br>\n",
    "*retweeted_status_timestamp    181 non-null object<br>\n",
    "\n",
    "##### Quality Issue 7\n",
    "The timestamp column has redundant numbers '+0000' (QI-7). These numbers were removed.\n",
    "\n",
    "##### Quality Issue 8\n",
    "The type of timestamp column is converted to 'datetime' (QI-8).\n",
    "\n",
    "\n",
    "##### Structural Issue 1\n",
    "There are 3 dataframes. However, only 1 data frame is needed. Thus, these dataframes were merged based on tweet_id values.\n",
    "\n",
    "##### Structural Issue 2\n",
    "Twitter-archieve-enhanced dataframe contains 4 columns: doggo, floofer, pupper, puppo. These columns are categories. Thus, these columns can be united in same column (SI-2).<br>\n",
    "And also, it should be considered that there are some rows in which there are **multiple stages** such as doggo-floofer instead of one!\n",
    "\n",
    "##### Structural Issue 3\n",
    "Image-predictions dataframe contains 3 predictions. Instead of 3 different prediction outcome, only the best can be used (SI-3).<br>\n",
    "Based on the number of true predictions, there is no significant difference between the predictors.<br>\n",
    "The best predictor has a prediction accuracy around 66% which is weak.<br>\n",
    "Thus, the true predictions from the 3 predictors can be merged."
   ]
  },
  {
   "cell_type": "markdown",
   "metadata": {},
   "source": [
    "#### LIMITATIONS"
   ]
  },
  {
   "cell_type": "markdown",
   "metadata": {},
   "source": [
    "Given datasets contain missing information in some observations (tweets).<br>\n",
    "Some of them were dropped from the datasets, the rest were used in 'Analyze' phase.<br>"
   ]
  },
  {
   "cell_type": "markdown",
   "metadata": {},
   "source": [
    "### Conclusion"
   ]
  },
  {
   "cell_type": "markdown",
   "metadata": {},
   "source": [
    "A master dataframe is cretad and checked both visually and using Python methods mentioned above.<br>\n",
    "In the ANALYZE phase no problem is occured. Desired outputs and conclusion could be drawn from the master dataframe.\n",
    "\n",
    "Reported by Ugur URESIN, MSc.\n",
    "Thanks!"
   ]
  }
 ],
 "metadata": {
  "kernelspec": {
   "display_name": "Python 3",
   "language": "python",
   "name": "python3"
  },
  "language_info": {
   "codemirror_mode": {
    "name": "ipython",
    "version": 3
   },
   "file_extension": ".py",
   "mimetype": "text/x-python",
   "name": "python",
   "nbconvert_exporter": "python",
   "pygments_lexer": "ipython3",
   "version": "3.6.3"
  }
 },
 "nbformat": 4,
 "nbformat_minor": 2
}
