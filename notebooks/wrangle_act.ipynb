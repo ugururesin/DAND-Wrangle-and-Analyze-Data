{
 "cells": [
  {
   "cell_type": "markdown",
   "metadata": {},
   "source": [
    "## Data Wrangling Project: WeRateDogs\n",
    "\n",
    "<p style='text-align: justify;'><b>Project Introduction</b>: The dataset which is going to be wrangled is the tweet archive of Twitter user @dog_rates, also known as WeRateDogs. WeRateDogs is a Twitter account that rates people's dogs with a humorous comment about the dog. These ratings almost always have a denominator of 10. The numerators, though? Almost always greater than 10. WeRateDogs has over 4 million followers and has received international media coverage.</p>\n",
    "\n",
    "**Given datasets:**<br>\n",
    "<br>\n",
    "**1. twitter-archive-enhanced.csv**: The WeRateDogs Twitter archive. It's downloaded via the following URL:<br>\n",
    "https://d17h27t6h515a5.cloudfront.net/topher/2017/August/59a4e958_twitter-archive-enhanced/twitter-archive-enhanced.csv<br>\n",
    "<br>\n",
    "**2. image-predictions.tsv**: i.e., what breed of dog (or other object, animal, etc.) is present in each tweet according to a neural network. This file (image_predictions.tsv) is hosted on Udacity's servers and should be downloaded programmatically using the Requests library and the following URL:<br>\n",
    "https://d17h27t6h515a5.cloudfront.net/topher/2017/August/599fd2ad_image-predictions/image-predictions.tsv<br>\n",
    "<br>\n",
    "**3. The Twitter API & JSON**: Each tweet's retweet count and favorite (\"like\") count at minimum, and any additional data you find interesting. Using the tweet IDs in the WeRateDogs Twitter archive, query the Twitter API for each tweet's JSON data using Python's Tweepy library and store each tweet's entire set of JSON data in a file called tweet_json.txt file. Each tweet's JSON data should be written to its own line. Then read this .txt file line by line into a pandas DataFrame with (at minimum) tweet ID, retweet count, and favorite count.<br>\n",
    "<br>\n",
    "**Note that:** My twitter developer account application was not approved without a reason or any additional request. Thus, I imported the following files manually:<br>\n",
    "<br>\n",
    "File: twitter_api.py<br>\n",
    "URL:https://s3.amazonaws.com/video.udacity-data.com/topher/2018/November/5be5fb4c_twitter-api/twitter-api.py<br>\n",
    "<br>\n",
    "File: tweet_json.txt<br>\n",
    "URL: https://s3.amazonaws.com/video.udacity-data.com/topher/2018/November/5be5fb7d_tweet-json/tweet-json.txt"
   ]
  },
  {
   "cell_type": "markdown",
   "metadata": {},
   "source": [
    "#### REQUIRED LIBRARIES"
   ]
  },
  {
   "cell_type": "code",
   "execution_count": 2,
   "metadata": {},
   "outputs": [],
   "source": [
    "import numpy as np\n",
    "import pandas as pd\n",
    "import requests\n",
    "import os\n",
    "import tweepy\n",
    "from tweepy import OAuthHandler\n",
    "import json\n",
    "from timeit import default_timer as timer\n",
    "from scipy import stats\n",
    "import seaborn as sns\n",
    "import matplotlib.pyplot as plt\n",
    "%matplotlib inline"
   ]
  },
  {
   "cell_type": "markdown",
   "metadata": {},
   "source": [
    "### DATA GATHERING"
   ]
  },
  {
   "cell_type": "code",
   "execution_count": 3,
   "metadata": {},
   "outputs": [
    {
     "data": {
      "text/html": [
       "<div>\n",
       "<style scoped>\n",
       "    .dataframe tbody tr th:only-of-type {\n",
       "        vertical-align: middle;\n",
       "    }\n",
       "\n",
       "    .dataframe tbody tr th {\n",
       "        vertical-align: top;\n",
       "    }\n",
       "\n",
       "    .dataframe thead th {\n",
       "        text-align: right;\n",
       "    }\n",
       "</style>\n",
       "<table border=\"1\" class=\"dataframe\">\n",
       "  <thead>\n",
       "    <tr style=\"text-align: right;\">\n",
       "      <th></th>\n",
       "      <th>tweet_id</th>\n",
       "      <th>in_reply_to_status_id</th>\n",
       "      <th>in_reply_to_user_id</th>\n",
       "      <th>timestamp</th>\n",
       "      <th>source</th>\n",
       "      <th>text</th>\n",
       "      <th>retweeted_status_id</th>\n",
       "      <th>retweeted_status_user_id</th>\n",
       "      <th>retweeted_status_timestamp</th>\n",
       "      <th>expanded_urls</th>\n",
       "      <th>rating_numerator</th>\n",
       "      <th>rating_denominator</th>\n",
       "      <th>name</th>\n",
       "      <th>doggo</th>\n",
       "      <th>floofer</th>\n",
       "      <th>pupper</th>\n",
       "      <th>puppo</th>\n",
       "    </tr>\n",
       "  </thead>\n",
       "  <tbody>\n",
       "    <tr>\n",
       "      <th>0</th>\n",
       "      <td>892420643555336193</td>\n",
       "      <td>NaN</td>\n",
       "      <td>NaN</td>\n",
       "      <td>2017-08-01 16:23:56 +0000</td>\n",
       "      <td>&lt;a href=\"http://twitter.com/download/iphone\" r...</td>\n",
       "      <td>This is Phineas. He's a mystical boy. Only eve...</td>\n",
       "      <td>NaN</td>\n",
       "      <td>NaN</td>\n",
       "      <td>NaN</td>\n",
       "      <td>https://twitter.com/dog_rates/status/892420643...</td>\n",
       "      <td>13</td>\n",
       "      <td>10</td>\n",
       "      <td>Phineas</td>\n",
       "      <td>None</td>\n",
       "      <td>None</td>\n",
       "      <td>None</td>\n",
       "      <td>None</td>\n",
       "    </tr>\n",
       "    <tr>\n",
       "      <th>1</th>\n",
       "      <td>892177421306343426</td>\n",
       "      <td>NaN</td>\n",
       "      <td>NaN</td>\n",
       "      <td>2017-08-01 00:17:27 +0000</td>\n",
       "      <td>&lt;a href=\"http://twitter.com/download/iphone\" r...</td>\n",
       "      <td>This is Tilly. She's just checking pup on you....</td>\n",
       "      <td>NaN</td>\n",
       "      <td>NaN</td>\n",
       "      <td>NaN</td>\n",
       "      <td>https://twitter.com/dog_rates/status/892177421...</td>\n",
       "      <td>13</td>\n",
       "      <td>10</td>\n",
       "      <td>Tilly</td>\n",
       "      <td>None</td>\n",
       "      <td>None</td>\n",
       "      <td>None</td>\n",
       "      <td>None</td>\n",
       "    </tr>\n",
       "  </tbody>\n",
       "</table>\n",
       "</div>"
      ],
      "text/plain": [
       "             tweet_id  in_reply_to_status_id  in_reply_to_user_id  \\\n",
       "0  892420643555336193                    NaN                  NaN   \n",
       "1  892177421306343426                    NaN                  NaN   \n",
       "\n",
       "                   timestamp  \\\n",
       "0  2017-08-01 16:23:56 +0000   \n",
       "1  2017-08-01 00:17:27 +0000   \n",
       "\n",
       "                                              source  \\\n",
       "0  <a href=\"http://twitter.com/download/iphone\" r...   \n",
       "1  <a href=\"http://twitter.com/download/iphone\" r...   \n",
       "\n",
       "                                                text  retweeted_status_id  \\\n",
       "0  This is Phineas. He's a mystical boy. Only eve...                  NaN   \n",
       "1  This is Tilly. She's just checking pup on you....                  NaN   \n",
       "\n",
       "   retweeted_status_user_id retweeted_status_timestamp  \\\n",
       "0                       NaN                        NaN   \n",
       "1                       NaN                        NaN   \n",
       "\n",
       "                                       expanded_urls  rating_numerator  \\\n",
       "0  https://twitter.com/dog_rates/status/892420643...                13   \n",
       "1  https://twitter.com/dog_rates/status/892177421...                13   \n",
       "\n",
       "   rating_denominator     name doggo floofer pupper puppo  \n",
       "0                  10  Phineas  None    None   None  None  \n",
       "1                  10    Tilly  None    None   None  None  "
      ]
     },
     "execution_count": 3,
     "metadata": {},
     "output_type": "execute_result"
    }
   ],
   "source": [
    "# Twitter Archieve\n",
    "df_1 = pd.read_csv('twitter-archive-enhanced.csv')\n",
    "df_1.head(2)"
   ]
  },
  {
   "cell_type": "code",
   "execution_count": 4,
   "metadata": {},
   "outputs": [
    {
     "data": {
      "text/plain": [
       "<Response [200]>"
      ]
     },
     "execution_count": 4,
     "metadata": {},
     "output_type": "execute_result"
    }
   ],
   "source": [
    "# Image Predictions\n",
    "imp_url = 'https://d17h27t6h515a5.cloudfront.net/topher/2017/August/599fd2ad_image-predictions/image-predictions.tsv'\n",
    "response = requests.get(imp_url)\n",
    "response #returns 200 if ran successfully"
   ]
  },
  {
   "cell_type": "code",
   "execution_count": 5,
   "metadata": {},
   "outputs": [],
   "source": [
    "with open('image-predictions.tsv', mode='wb') as file: #wb:write binary\n",
    "    file.write(response.content)"
   ]
  },
  {
   "cell_type": "code",
   "execution_count": 6,
   "metadata": {},
   "outputs": [
    {
     "data": {
      "text/html": [
       "<div>\n",
       "<style scoped>\n",
       "    .dataframe tbody tr th:only-of-type {\n",
       "        vertical-align: middle;\n",
       "    }\n",
       "\n",
       "    .dataframe tbody tr th {\n",
       "        vertical-align: top;\n",
       "    }\n",
       "\n",
       "    .dataframe thead th {\n",
       "        text-align: right;\n",
       "    }\n",
       "</style>\n",
       "<table border=\"1\" class=\"dataframe\">\n",
       "  <thead>\n",
       "    <tr style=\"text-align: right;\">\n",
       "      <th></th>\n",
       "      <th>tweet_id</th>\n",
       "      <th>jpg_url</th>\n",
       "      <th>img_num</th>\n",
       "      <th>p1</th>\n",
       "      <th>p1_conf</th>\n",
       "      <th>p1_dog</th>\n",
       "      <th>p2</th>\n",
       "      <th>p2_conf</th>\n",
       "      <th>p2_dog</th>\n",
       "      <th>p3</th>\n",
       "      <th>p3_conf</th>\n",
       "      <th>p3_dog</th>\n",
       "    </tr>\n",
       "  </thead>\n",
       "  <tbody>\n",
       "    <tr>\n",
       "      <th>0</th>\n",
       "      <td>666020888022790149</td>\n",
       "      <td>https://pbs.twimg.com/media/CT4udn0WwAA0aMy.jpg</td>\n",
       "      <td>1</td>\n",
       "      <td>Welsh_springer_spaniel</td>\n",
       "      <td>0.465074</td>\n",
       "      <td>True</td>\n",
       "      <td>collie</td>\n",
       "      <td>0.156665</td>\n",
       "      <td>True</td>\n",
       "      <td>Shetland_sheepdog</td>\n",
       "      <td>0.061428</td>\n",
       "      <td>True</td>\n",
       "    </tr>\n",
       "    <tr>\n",
       "      <th>1</th>\n",
       "      <td>666029285002620928</td>\n",
       "      <td>https://pbs.twimg.com/media/CT42GRgUYAA5iDo.jpg</td>\n",
       "      <td>1</td>\n",
       "      <td>redbone</td>\n",
       "      <td>0.506826</td>\n",
       "      <td>True</td>\n",
       "      <td>miniature_pinscher</td>\n",
       "      <td>0.074192</td>\n",
       "      <td>True</td>\n",
       "      <td>Rhodesian_ridgeback</td>\n",
       "      <td>0.072010</td>\n",
       "      <td>True</td>\n",
       "    </tr>\n",
       "  </tbody>\n",
       "</table>\n",
       "</div>"
      ],
      "text/plain": [
       "             tweet_id                                          jpg_url  \\\n",
       "0  666020888022790149  https://pbs.twimg.com/media/CT4udn0WwAA0aMy.jpg   \n",
       "1  666029285002620928  https://pbs.twimg.com/media/CT42GRgUYAA5iDo.jpg   \n",
       "\n",
       "   img_num                      p1   p1_conf  p1_dog                  p2  \\\n",
       "0        1  Welsh_springer_spaniel  0.465074    True              collie   \n",
       "1        1                 redbone  0.506826    True  miniature_pinscher   \n",
       "\n",
       "    p2_conf  p2_dog                   p3   p3_conf  p3_dog  \n",
       "0  0.156665    True    Shetland_sheepdog  0.061428    True  \n",
       "1  0.074192    True  Rhodesian_ridgeback  0.072010    True  "
      ]
     },
     "execution_count": 6,
     "metadata": {},
     "output_type": "execute_result"
    }
   ],
   "source": [
    "df_2 = pd.read_csv('image-predictions.tsv', sep='\\t' )\n",
    "df_2.head(2)"
   ]
  },
  {
   "cell_type": "code",
   "execution_count": 7,
   "metadata": {},
   "outputs": [
    {
     "data": {
      "text/plain": [
       "2356"
      ]
     },
     "execution_count": 7,
     "metadata": {},
     "output_type": "execute_result"
    }
   ],
   "source": [
    "# NOTE TO STUDENT WITH MOBILE VERIFICATION ISSUES:\n",
    "# df_1 is a DataFrame with the twitter_archive_enhanced.csv file. You may have to\n",
    "# change line 17 to match the name of your DataFrame with twitter_archive_enhanced.csv\n",
    "\n",
    "# NOTE TO REVIEWER: this student had mobile verification issues so the following\n",
    "# Twitter API code was sent to this student from a Udacity instructor\n",
    "# Tweet IDs for which to gather additional data via Twitter's API\n",
    "tweet_ids = df_1.tweet_id.values\n",
    "len(tweet_ids)"
   ]
  },
  {
   "cell_type": "code",
   "execution_count": 8,
   "metadata": {},
   "outputs": [],
   "source": [
    "tweets_data = []\n",
    "tweet_file = open('tweet_json.txt', \"r\")\n",
    "for line in tweet_file:\n",
    "    try:\n",
    "        tweet = json.loads(line)\n",
    "        tweets_data.append(tweet)\n",
    "    except:\n",
    "        continue   \n",
    "tweet_file.close()\n",
    "df_3 = pd.DataFrame()\n",
    "df_3['tweet_id'] = list(map(lambda tweet: tweet['id'], tweets_data))\n",
    "df_3['retweet_count'] = list(map(lambda tweet: tweet['retweet_count'], tweets_data))\n",
    "df_3['favorite_count'] = list(map(lambda tweet: tweet['favorite_count'], tweets_data))"
   ]
  },
  {
   "cell_type": "code",
   "execution_count": 9,
   "metadata": {},
   "outputs": [
    {
     "data": {
      "text/html": [
       "<div>\n",
       "<style scoped>\n",
       "    .dataframe tbody tr th:only-of-type {\n",
       "        vertical-align: middle;\n",
       "    }\n",
       "\n",
       "    .dataframe tbody tr th {\n",
       "        vertical-align: top;\n",
       "    }\n",
       "\n",
       "    .dataframe thead th {\n",
       "        text-align: right;\n",
       "    }\n",
       "</style>\n",
       "<table border=\"1\" class=\"dataframe\">\n",
       "  <thead>\n",
       "    <tr style=\"text-align: right;\">\n",
       "      <th></th>\n",
       "      <th>tweet_id</th>\n",
       "      <th>retweet_count</th>\n",
       "      <th>favorite_count</th>\n",
       "    </tr>\n",
       "  </thead>\n",
       "  <tbody>\n",
       "    <tr>\n",
       "      <th>0</th>\n",
       "      <td>892420643555336193</td>\n",
       "      <td>8853</td>\n",
       "      <td>39467</td>\n",
       "    </tr>\n",
       "    <tr>\n",
       "      <th>1</th>\n",
       "      <td>892177421306343426</td>\n",
       "      <td>6514</td>\n",
       "      <td>33819</td>\n",
       "    </tr>\n",
       "  </tbody>\n",
       "</table>\n",
       "</div>"
      ],
      "text/plain": [
       "             tweet_id  retweet_count  favorite_count\n",
       "0  892420643555336193           8853           39467\n",
       "1  892177421306343426           6514           33819"
      ]
     },
     "execution_count": 9,
     "metadata": {},
     "output_type": "execute_result"
    }
   ],
   "source": [
    "df_3.head(2)"
   ]
  },
  {
   "cell_type": "markdown",
   "metadata": {},
   "source": [
    "### DATA ASSESSMENT"
   ]
  },
  {
   "cell_type": "code",
   "execution_count": 10,
   "metadata": {},
   "outputs": [
    {
     "name": "stdout",
     "output_type": "stream",
     "text": [
      "df_1 contains 2356 rows\n",
      "df_2 contains 2075 rows\n",
      "df_3 contains 2354 rows\n",
      "\n"
     ]
    }
   ],
   "source": [
    "#Dataframe Dimensions\n",
    "print('df_1 contains {} rows\\ndf_2 contains {} rows\\ndf_3 contains {} rows\\n'.format(df_1.shape[0], df_2.shape[0], df_3.shape[0]))"
   ]
  },
  {
   "cell_type": "markdown",
   "metadata": {},
   "source": [
    "**1. twitter-archive-enhanced.csv**"
   ]
  },
  {
   "cell_type": "code",
   "execution_count": 11,
   "metadata": {},
   "outputs": [
    {
     "name": "stdout",
     "output_type": "stream",
     "text": [
      "<class 'pandas.core.frame.DataFrame'>\n",
      "RangeIndex: 2356 entries, 0 to 2355\n",
      "Data columns (total 17 columns):\n",
      "tweet_id                      2356 non-null int64\n",
      "in_reply_to_status_id         78 non-null float64\n",
      "in_reply_to_user_id           78 non-null float64\n",
      "timestamp                     2356 non-null object\n",
      "source                        2356 non-null object\n",
      "text                          2356 non-null object\n",
      "retweeted_status_id           181 non-null float64\n",
      "retweeted_status_user_id      181 non-null float64\n",
      "retweeted_status_timestamp    181 non-null object\n",
      "expanded_urls                 2297 non-null object\n",
      "rating_numerator              2356 non-null int64\n",
      "rating_denominator            2356 non-null int64\n",
      "name                          2356 non-null object\n",
      "doggo                         2356 non-null object\n",
      "floofer                       2356 non-null object\n",
      "pupper                        2356 non-null object\n",
      "puppo                         2356 non-null object\n",
      "dtypes: float64(4), int64(3), object(10)\n",
      "memory usage: 313.0+ KB\n"
     ]
    }
   ],
   "source": [
    "df_1.info()"
   ]
  },
  {
   "cell_type": "code",
   "execution_count": 12,
   "metadata": {},
   "outputs": [
    {
     "data": {
      "text/html": [
       "<div>\n",
       "<style scoped>\n",
       "    .dataframe tbody tr th:only-of-type {\n",
       "        vertical-align: middle;\n",
       "    }\n",
       "\n",
       "    .dataframe tbody tr th {\n",
       "        vertical-align: top;\n",
       "    }\n",
       "\n",
       "    .dataframe thead th {\n",
       "        text-align: right;\n",
       "    }\n",
       "</style>\n",
       "<table border=\"1\" class=\"dataframe\">\n",
       "  <thead>\n",
       "    <tr style=\"text-align: right;\">\n",
       "      <th></th>\n",
       "      <th>tweet_id</th>\n",
       "      <th>in_reply_to_status_id</th>\n",
       "      <th>in_reply_to_user_id</th>\n",
       "      <th>timestamp</th>\n",
       "      <th>source</th>\n",
       "      <th>text</th>\n",
       "      <th>retweeted_status_id</th>\n",
       "      <th>retweeted_status_user_id</th>\n",
       "      <th>retweeted_status_timestamp</th>\n",
       "      <th>expanded_urls</th>\n",
       "      <th>rating_numerator</th>\n",
       "      <th>rating_denominator</th>\n",
       "      <th>name</th>\n",
       "      <th>doggo</th>\n",
       "      <th>floofer</th>\n",
       "      <th>pupper</th>\n",
       "      <th>puppo</th>\n",
       "    </tr>\n",
       "  </thead>\n",
       "  <tbody>\n",
       "    <tr>\n",
       "      <th>0</th>\n",
       "      <td>False</td>\n",
       "      <td>True</td>\n",
       "      <td>True</td>\n",
       "      <td>False</td>\n",
       "      <td>False</td>\n",
       "      <td>False</td>\n",
       "      <td>True</td>\n",
       "      <td>True</td>\n",
       "      <td>True</td>\n",
       "      <td>False</td>\n",
       "      <td>False</td>\n",
       "      <td>False</td>\n",
       "      <td>False</td>\n",
       "      <td>False</td>\n",
       "      <td>False</td>\n",
       "      <td>False</td>\n",
       "      <td>False</td>\n",
       "    </tr>\n",
       "    <tr>\n",
       "      <th>1</th>\n",
       "      <td>False</td>\n",
       "      <td>True</td>\n",
       "      <td>True</td>\n",
       "      <td>False</td>\n",
       "      <td>False</td>\n",
       "      <td>False</td>\n",
       "      <td>True</td>\n",
       "      <td>True</td>\n",
       "      <td>True</td>\n",
       "      <td>False</td>\n",
       "      <td>False</td>\n",
       "      <td>False</td>\n",
       "      <td>False</td>\n",
       "      <td>False</td>\n",
       "      <td>False</td>\n",
       "      <td>False</td>\n",
       "      <td>False</td>\n",
       "    </tr>\n",
       "  </tbody>\n",
       "</table>\n",
       "</div>"
      ],
      "text/plain": [
       "   tweet_id  in_reply_to_status_id  in_reply_to_user_id  timestamp  source  \\\n",
       "0     False                   True                 True      False   False   \n",
       "1     False                   True                 True      False   False   \n",
       "\n",
       "    text  retweeted_status_id  retweeted_status_user_id  \\\n",
       "0  False                 True                      True   \n",
       "1  False                 True                      True   \n",
       "\n",
       "   retweeted_status_timestamp  expanded_urls  rating_numerator  \\\n",
       "0                        True          False             False   \n",
       "1                        True          False             False   \n",
       "\n",
       "   rating_denominator   name  doggo  floofer  pupper  puppo  \n",
       "0               False  False  False    False   False  False  \n",
       "1               False  False  False    False   False  False  "
      ]
     },
     "execution_count": 12,
     "metadata": {},
     "output_type": "execute_result"
    }
   ],
   "source": [
    "df_1.isnull().head(2)"
   ]
  },
  {
   "cell_type": "code",
   "execution_count": 13,
   "metadata": {},
   "outputs": [
    {
     "data": {
      "text/html": [
       "<div>\n",
       "<style scoped>\n",
       "    .dataframe tbody tr th:only-of-type {\n",
       "        vertical-align: middle;\n",
       "    }\n",
       "\n",
       "    .dataframe tbody tr th {\n",
       "        vertical-align: top;\n",
       "    }\n",
       "\n",
       "    .dataframe thead th {\n",
       "        text-align: right;\n",
       "    }\n",
       "</style>\n",
       "<table border=\"1\" class=\"dataframe\">\n",
       "  <thead>\n",
       "    <tr style=\"text-align: right;\">\n",
       "      <th></th>\n",
       "      <th>tweet_id</th>\n",
       "      <th>in_reply_to_status_id</th>\n",
       "      <th>in_reply_to_user_id</th>\n",
       "      <th>timestamp</th>\n",
       "      <th>source</th>\n",
       "      <th>text</th>\n",
       "      <th>retweeted_status_id</th>\n",
       "      <th>retweeted_status_user_id</th>\n",
       "      <th>retweeted_status_timestamp</th>\n",
       "      <th>expanded_urls</th>\n",
       "      <th>rating_numerator</th>\n",
       "      <th>rating_denominator</th>\n",
       "      <th>name</th>\n",
       "      <th>doggo</th>\n",
       "      <th>floofer</th>\n",
       "      <th>pupper</th>\n",
       "      <th>puppo</th>\n",
       "    </tr>\n",
       "  </thead>\n",
       "  <tbody>\n",
       "    <tr>\n",
       "      <th>2354</th>\n",
       "      <td>False</td>\n",
       "      <td>True</td>\n",
       "      <td>True</td>\n",
       "      <td>False</td>\n",
       "      <td>False</td>\n",
       "      <td>False</td>\n",
       "      <td>True</td>\n",
       "      <td>True</td>\n",
       "      <td>True</td>\n",
       "      <td>False</td>\n",
       "      <td>False</td>\n",
       "      <td>False</td>\n",
       "      <td>False</td>\n",
       "      <td>False</td>\n",
       "      <td>False</td>\n",
       "      <td>False</td>\n",
       "      <td>False</td>\n",
       "    </tr>\n",
       "    <tr>\n",
       "      <th>2355</th>\n",
       "      <td>False</td>\n",
       "      <td>True</td>\n",
       "      <td>True</td>\n",
       "      <td>False</td>\n",
       "      <td>False</td>\n",
       "      <td>False</td>\n",
       "      <td>True</td>\n",
       "      <td>True</td>\n",
       "      <td>True</td>\n",
       "      <td>False</td>\n",
       "      <td>False</td>\n",
       "      <td>False</td>\n",
       "      <td>False</td>\n",
       "      <td>False</td>\n",
       "      <td>False</td>\n",
       "      <td>False</td>\n",
       "      <td>False</td>\n",
       "    </tr>\n",
       "  </tbody>\n",
       "</table>\n",
       "</div>"
      ],
      "text/plain": [
       "      tweet_id  in_reply_to_status_id  in_reply_to_user_id  timestamp  source  \\\n",
       "2354     False                   True                 True      False   False   \n",
       "2355     False                   True                 True      False   False   \n",
       "\n",
       "       text  retweeted_status_id  retweeted_status_user_id  \\\n",
       "2354  False                 True                      True   \n",
       "2355  False                 True                      True   \n",
       "\n",
       "      retweeted_status_timestamp  expanded_urls  rating_numerator  \\\n",
       "2354                        True          False             False   \n",
       "2355                        True          False             False   \n",
       "\n",
       "      rating_denominator   name  doggo  floofer  pupper  puppo  \n",
       "2354               False  False  False    False   False  False  \n",
       "2355               False  False  False    False   False  False  "
      ]
     },
     "execution_count": 13,
     "metadata": {},
     "output_type": "execute_result"
    }
   ],
   "source": [
    "df_1.isnull().tail(2)"
   ]
  },
  {
   "cell_type": "code",
   "execution_count": 14,
   "metadata": {},
   "outputs": [
    {
     "name": "stdout",
     "output_type": "stream",
     "text": [
      "Sum of the null values are given below:\n",
      "2278 for in_reply_to_status_id\n",
      "2278 for in_reply_to_user_id\n",
      "2175 for retweeted_status_id\n",
      "2175 for retweeted_status_user_id\n",
      "2175 for retweeted_status_timestamp\n"
     ]
    }
   ],
   "source": [
    "msg01 = sum(df_1['in_reply_to_status_id'].isnull())\n",
    "msg02 = sum(df_1['in_reply_to_user_id'].isnull())\n",
    "msg03 = sum(df_1['retweeted_status_id'].isnull())\n",
    "msg04 = sum(df_1['retweeted_status_user_id'].isnull())\n",
    "msg05 = sum(df_1['retweeted_status_timestamp'].isnull())\n",
    "#\n",
    "print('Sum of the null values are given below:')\n",
    "print('{} for {}'.format(msg01, 'in_reply_to_status_id'))\n",
    "print('{} for {}'.format(msg02, 'in_reply_to_user_id'))\n",
    "print('{} for {}'.format(msg03, 'retweeted_status_id'))\n",
    "print('{} for {}'.format(msg04, 'retweeted_status_user_id'))\n",
    "print('{} for {}'.format(msg05, 'retweeted_status_timestamp'))"
   ]
  },
  {
   "cell_type": "code",
   "execution_count": 15,
   "metadata": {},
   "outputs": [
    {
     "data": {
      "text/plain": [
       "23"
      ]
     },
     "execution_count": 15,
     "metadata": {},
     "output_type": "execute_result"
    }
   ],
   "source": [
    "# Number of rows in which denominator is not equal to 10!\n",
    "df_1[df_1['rating_denominator']!=10].shape[0]"
   ]
  },
  {
   "cell_type": "code",
   "execution_count": 16,
   "metadata": {},
   "outputs": [
    {
     "data": {
      "text/plain": [
       "440"
      ]
     },
     "execution_count": 16,
     "metadata": {},
     "output_type": "execute_result"
    }
   ],
   "source": [
    "# Number of rows in which numerator is less than 10!\n",
    "df_1[df_1['rating_numerator']<10].shape[0]"
   ]
  },
  {
   "cell_type": "code",
   "execution_count": 17,
   "metadata": {},
   "outputs": [
    {
     "data": {
      "text/plain": [
       "count    2356.000000\n",
       "mean       13.126486\n",
       "std        45.876648\n",
       "min         0.000000\n",
       "25%        10.000000\n",
       "50%        11.000000\n",
       "75%        12.000000\n",
       "max      1776.000000\n",
       "Name: rating_numerator, dtype: float64"
      ]
     },
     "execution_count": 17,
     "metadata": {},
     "output_type": "execute_result"
    }
   ],
   "source": [
    "# Statistics for ratings\n",
    "df_1['rating_numerator'].describe()"
   ]
  },
  {
   "cell_type": "markdown",
   "metadata": {},
   "source": [
    "Above statistics shows that<br>\n",
    "* The standard deviation is too high considering the mean\n",
    "* The maximum value is not logical (most probably it's a typo)\n",
    "* Most probably there some outliers in this column"
   ]
  },
  {
   "cell_type": "code",
   "execution_count": 18,
   "metadata": {},
   "outputs": [
    {
     "data": {
      "text/plain": [
       "10      461\n",
       "11      464\n",
       "12      558\n",
       "13      351\n",
       "14       54\n",
       "15        2\n",
       "17        1\n",
       "20        1\n",
       "24        1\n",
       "26        1\n",
       "27        1\n",
       "44        1\n",
       "45        1\n",
       "50        1\n",
       "60        1\n",
       "75        2\n",
       "80        1\n",
       "84        1\n",
       "88        1\n",
       "99        1\n",
       "121       1\n",
       "143       1\n",
       "144       1\n",
       "165       1\n",
       "182       1\n",
       "204       1\n",
       "420       2\n",
       "666       1\n",
       "960       1\n",
       "1776      1\n",
       "Name: rating_numerator, dtype: int64"
      ]
     },
     "execution_count": 18,
     "metadata": {},
     "output_type": "execute_result"
    }
   ],
   "source": [
    "#Let's check the ratings (>=10) and their frequencies\n",
    "df_1[df_1['rating_numerator']>=10].rating_numerator.value_counts().sort_index()"
   ]
  },
  {
   "cell_type": "code",
   "execution_count": 19,
   "metadata": {},
   "outputs": [
    {
     "data": {
      "text/plain": [
       "24"
      ]
     },
     "execution_count": 19,
     "metadata": {},
     "output_type": "execute_result"
    }
   ],
   "source": [
    "#Number of rows in which the rating is bigger than 20!\n",
    "sum(df_1[df_1['rating_numerator']>20].rating_numerator.value_counts())"
   ]
  },
  {
   "cell_type": "markdown",
   "metadata": {},
   "source": [
    "**2. image-predictions.tsv**"
   ]
  },
  {
   "cell_type": "code",
   "execution_count": 20,
   "metadata": {},
   "outputs": [
    {
     "name": "stdout",
     "output_type": "stream",
     "text": [
      "<class 'pandas.core.frame.DataFrame'>\n",
      "RangeIndex: 2075 entries, 0 to 2074\n",
      "Data columns (total 12 columns):\n",
      "tweet_id    2075 non-null int64\n",
      "jpg_url     2075 non-null object\n",
      "img_num     2075 non-null int64\n",
      "p1          2075 non-null object\n",
      "p1_conf     2075 non-null float64\n",
      "p1_dog      2075 non-null bool\n",
      "p2          2075 non-null object\n",
      "p2_conf     2075 non-null float64\n",
      "p2_dog      2075 non-null bool\n",
      "p3          2075 non-null object\n",
      "p3_conf     2075 non-null float64\n",
      "p3_dog      2075 non-null bool\n",
      "dtypes: bool(3), float64(3), int64(2), object(4)\n",
      "memory usage: 152.1+ KB\n"
     ]
    }
   ],
   "source": [
    "df_2.info()"
   ]
  },
  {
   "cell_type": "markdown",
   "metadata": {},
   "source": [
    "**3. tweet-json.txt**"
   ]
  },
  {
   "cell_type": "code",
   "execution_count": 21,
   "metadata": {},
   "outputs": [
    {
     "name": "stdout",
     "output_type": "stream",
     "text": [
      "<class 'pandas.core.frame.DataFrame'>\n",
      "RangeIndex: 2354 entries, 0 to 2353\n",
      "Data columns (total 3 columns):\n",
      "tweet_id          2354 non-null int64\n",
      "retweet_count     2354 non-null int64\n",
      "favorite_count    2354 non-null int64\n",
      "dtypes: int64(3)\n",
      "memory usage: 55.2 KB\n"
     ]
    }
   ],
   "source": [
    "df_3.info()"
   ]
  },
  {
   "cell_type": "code",
   "execution_count": 22,
   "metadata": {},
   "outputs": [
    {
     "data": {
      "text/html": [
       "<div>\n",
       "<style scoped>\n",
       "    .dataframe tbody tr th:only-of-type {\n",
       "        vertical-align: middle;\n",
       "    }\n",
       "\n",
       "    .dataframe tbody tr th {\n",
       "        vertical-align: top;\n",
       "    }\n",
       "\n",
       "    .dataframe thead th {\n",
       "        text-align: right;\n",
       "    }\n",
       "</style>\n",
       "<table border=\"1\" class=\"dataframe\">\n",
       "  <thead>\n",
       "    <tr style=\"text-align: right;\">\n",
       "      <th></th>\n",
       "      <th>tweet_id</th>\n",
       "      <th>retweet_count</th>\n",
       "      <th>favorite_count</th>\n",
       "    </tr>\n",
       "  </thead>\n",
       "  <tbody>\n",
       "    <tr>\n",
       "      <th>count</th>\n",
       "      <td>2.354000e+03</td>\n",
       "      <td>2354.000000</td>\n",
       "      <td>2354.000000</td>\n",
       "    </tr>\n",
       "    <tr>\n",
       "      <th>mean</th>\n",
       "      <td>7.426978e+17</td>\n",
       "      <td>3164.797366</td>\n",
       "      <td>8080.968564</td>\n",
       "    </tr>\n",
       "    <tr>\n",
       "      <th>std</th>\n",
       "      <td>6.852812e+16</td>\n",
       "      <td>5284.770364</td>\n",
       "      <td>11814.771334</td>\n",
       "    </tr>\n",
       "    <tr>\n",
       "      <th>min</th>\n",
       "      <td>6.660209e+17</td>\n",
       "      <td>0.000000</td>\n",
       "      <td>0.000000</td>\n",
       "    </tr>\n",
       "    <tr>\n",
       "      <th>25%</th>\n",
       "      <td>6.783975e+17</td>\n",
       "      <td>624.500000</td>\n",
       "      <td>1415.000000</td>\n",
       "    </tr>\n",
       "    <tr>\n",
       "      <th>50%</th>\n",
       "      <td>7.194596e+17</td>\n",
       "      <td>1473.500000</td>\n",
       "      <td>3603.500000</td>\n",
       "    </tr>\n",
       "    <tr>\n",
       "      <th>75%</th>\n",
       "      <td>7.993058e+17</td>\n",
       "      <td>3652.000000</td>\n",
       "      <td>10122.250000</td>\n",
       "    </tr>\n",
       "    <tr>\n",
       "      <th>max</th>\n",
       "      <td>8.924206e+17</td>\n",
       "      <td>79515.000000</td>\n",
       "      <td>132810.000000</td>\n",
       "    </tr>\n",
       "  </tbody>\n",
       "</table>\n",
       "</div>"
      ],
      "text/plain": [
       "           tweet_id  retweet_count  favorite_count\n",
       "count  2.354000e+03    2354.000000     2354.000000\n",
       "mean   7.426978e+17    3164.797366     8080.968564\n",
       "std    6.852812e+16    5284.770364    11814.771334\n",
       "min    6.660209e+17       0.000000        0.000000\n",
       "25%    6.783975e+17     624.500000     1415.000000\n",
       "50%    7.194596e+17    1473.500000     3603.500000\n",
       "75%    7.993058e+17    3652.000000    10122.250000\n",
       "max    8.924206e+17   79515.000000   132810.000000"
      ]
     },
     "execution_count": 22,
     "metadata": {},
     "output_type": "execute_result"
    }
   ],
   "source": [
    "df_3.describe() #retweet_count and favorite_count should be non-negaative"
   ]
  },
  {
   "cell_type": "code",
   "execution_count": 23,
   "metadata": {},
   "outputs": [
    {
     "data": {
      "text/plain": [
       "0"
      ]
     },
     "execution_count": 23,
     "metadata": {},
     "output_type": "execute_result"
    }
   ],
   "source": [
    "sum(df_3.retweet_count.isnull())"
   ]
  },
  {
   "cell_type": "code",
   "execution_count": 24,
   "metadata": {},
   "outputs": [
    {
     "data": {
      "text/plain": [
       "0"
      ]
     },
     "execution_count": 24,
     "metadata": {},
     "output_type": "execute_result"
    }
   ],
   "source": [
    "sum(df_3.favorite_count.isnull())"
   ]
  },
  {
   "cell_type": "markdown",
   "metadata": {},
   "source": [
    "#### Duplicates"
   ]
  },
  {
   "cell_type": "code",
   "execution_count": 25,
   "metadata": {},
   "outputs": [
    {
     "name": "stdout",
     "output_type": "stream",
     "text": [
      "Number of duplicated rows are given below:\n",
      "0 for twitter-archive-enhanced\n",
      "0 for image-predictions\n",
      "0 for tweet-json\n"
     ]
    }
   ],
   "source": [
    "msg07 = sum(df_1.duplicated())\n",
    "msg08 = sum(df_2.duplicated())\n",
    "msg09 = sum(df_3.duplicated())\n",
    "#\n",
    "print('Number of duplicated rows are given below:')\n",
    "print('{} for {}'.format(msg07, 'twitter-archive-enhanced'))\n",
    "print('{} for {}'.format(msg08, 'image-predictions'))\n",
    "print('{} for {}'.format(msg09, 'tweet-json'))"
   ]
  },
  {
   "cell_type": "code",
   "execution_count": 26,
   "metadata": {},
   "outputs": [
    {
     "name": "stdout",
     "output_type": "stream",
     "text": [
      "Number of duplicated tweet id's:\n",
      "0 in twitter-archive-enhanced\n"
     ]
    }
   ],
   "source": [
    "msg10 = sum(df_1['tweet_id'].duplicated())\n",
    "print('Number of duplicated tweet id\\'s:')\n",
    "print('{} in {}'.format(msg10, 'twitter-archive-enhanced'))"
   ]
  },
  {
   "cell_type": "code",
   "execution_count": 27,
   "metadata": {},
   "outputs": [
    {
     "name": "stdout",
     "output_type": "stream",
     "text": [
      "Number of duplicated tweet id's:\n",
      "0 in image-predictions\n"
     ]
    }
   ],
   "source": [
    "msg11 = sum(df_2['tweet_id'].duplicated())\n",
    "print('Number of duplicated tweet id\\'s:')\n",
    "print('{} in {}'.format(msg10, 'image-predictions'))"
   ]
  },
  {
   "cell_type": "code",
   "execution_count": 28,
   "metadata": {},
   "outputs": [
    {
     "name": "stdout",
     "output_type": "stream",
     "text": [
      "Number of duplicated tweet id's:\n",
      "0 in tweet-json\n"
     ]
    }
   ],
   "source": [
    "msg12 = sum(df_3['tweet_id'].duplicated())\n",
    "print('Number of duplicated tweet id\\'s:')\n",
    "print('{} in {}'.format(msg12, 'tweet-json'))"
   ]
  },
  {
   "cell_type": "code",
   "execution_count": 29,
   "metadata": {},
   "outputs": [
    {
     "data": {
      "text/plain": [
       "array([False, False, False, ..., False, False, False], dtype=bool)"
      ]
     },
     "execution_count": 29,
     "metadata": {},
     "output_type": "execute_result"
    }
   ],
   "source": [
    "df_3['tweet_id'].index.duplicated()"
   ]
  },
  {
   "cell_type": "markdown",
   "metadata": {},
   "source": [
    "### Data Issues\n",
    "In this section, several data issues (quality and structural issues) are mentioned.\n",
    "\n",
    "#### ATTENTION for the REVIEWER:\n",
    "My previous submission is commented as follows:<br>\n",
    "\"The fact that the rating numerators are greater than the denominators does not need to be cleaned. This unique rating system is a big part of the popularity of WeRateDogs. You can see this on Project Motivation -> Key Points section in the classroom.\"\n",
    "However, the aim is NOT to remove the rows that numerator > denominator!<br>\n",
    "The aim is to remove the numerator that >>10 because they're outliers!\n",
    "(I assume this understood wrong due to my expression.)\n",
    "Thus, I kept this issue as it is.\n",
    "In case of not accepting this issue, there are additional quality issues in the \"Additional Checks\" section. Please consider those issues as well.\n",
    "Thanks!\n",
    "\n",
    "\n",
    "#### Quality Issues\n",
    "1. Twitter-archieve dataframe contains rows in which the denominator is not 10. These rows should be removed. Why the denominator is 10? Because \"they're good dogs Brent\" (https://knowyourmeme.com/memes/theyre-good-dogs-brent\")<br>\n",
    "2. The tweet-json dataframe has duplicates!<br>\n",
    "3. Twitter-archieve-enhanced dataframe contains rows in which the rating numerator is much bigger than 10. These rows should be removed.<br>\n",
    "4. Number of rows are not matched.\n",
    "<br>\n",
    "'Twitter_archive_enhanced' contains 2356 rows.\n",
    "<br>\n",
    "'image_predictions' contains 2075 rows.\n",
    "<br>\n",
    "'tweet-json' contains 2354 rows.\n",
    "<br>\n",
    "5. The type of 'tweet_id' should be object however it's int64 in twitter-archieve-enhanced and image-prediction dataframes.\n",
    "6. Following columns in the \"twitter-archieve-enhanced\" dataframe contain NAN values in most. Thus, these columns will not provide information to us. These columns should be removed.<br>\n",
    "*in_reply_to_status_id         78 non-null float64<br>\n",
    "*in_reply_to_user_id           78 non-null float64<br>\n",
    "*retweeted_status_id           181 non-null float64<br>\n",
    "*retweeted_status_user_id      181 non-null float64<br>\n",
    "*retweeted_status_timestamp    181 non-null object<br>\n",
    "7. In twitter-archieve-enhanced dataframe, the timestamp column has redundant numbers '+0000'.\n",
    "8. In twitter-archieve-enhanced dataframe, the type of timestamp column is not datetime! \n",
    "\n",
    "#### Structural Issues (Tidiness Issues)\n",
    "1. There are 3 dataframes. However, only 1 data frame is needed.<br>\n",
    "2. Twitter-archieve-enhanced dataframe contains 4 columns: doggo, floofer, pupper, puppo. These columns are categories. Thus, these columns can be united in same column.<br>\n",
    "3. Image-predictions dataframe contains 3 predictions. Instead of 3 different prediction outcome, only the best can be used.\n",
    "\n",
    "**Note-1:** In this notebook QI stands for 'Quality Issue' and SI stands for 'Structural Issue'.\n",
    "\n",
    "**Note-2:** The issues given above are just **initally** detected issues in this project. There might be additional issues which is solved in this project."
   ]
  },
  {
   "cell_type": "markdown",
   "metadata": {},
   "source": [
    "### DATA CLEANING"
   ]
  },
  {
   "cell_type": "code",
   "execution_count": 30,
   "metadata": {},
   "outputs": [],
   "source": [
    "#Creating copies of dataframes in purpose of having spares.\n",
    "#Later, a final master dataframe will be saved after all cleaning operations.\n",
    "df_1c = df_1.copy()\n",
    "df_2c = df_2.copy()\n",
    "df_3c = df_3.copy()"
   ]
  },
  {
   "cell_type": "code",
   "execution_count": 31,
   "metadata": {},
   "outputs": [],
   "source": [
    "##FROM PREVIOUS SUBMISSION (DE-ACTIVATED)\n",
    "#Saving the copies in 'comma separated value' format\n",
    "#df_1c.to_csv('df_1c.csv', encoding='UTF-8', index=False)\n",
    "#df_2c.to_csv('df_2c.csv', encoding='UTF-8', index=False)\n",
    "#df_3c.to_csv('df_3c.csv', encoding='UTF-8', index=False)\n",
    "##Importing the copies of dataframes\n",
    "#df_1c = pd.read_csv('df_1c.csv')\n",
    "#df_2c = pd.read_csv('df_2c.csv')\n",
    "#df_3c = pd.read_csv('df_3c.csv')"
   ]
  },
  {
   "cell_type": "code",
   "execution_count": 32,
   "metadata": {},
   "outputs": [
    {
     "data": {
      "text/html": [
       "<div>\n",
       "<style scoped>\n",
       "    .dataframe tbody tr th:only-of-type {\n",
       "        vertical-align: middle;\n",
       "    }\n",
       "\n",
       "    .dataframe tbody tr th {\n",
       "        vertical-align: top;\n",
       "    }\n",
       "\n",
       "    .dataframe thead th {\n",
       "        text-align: right;\n",
       "    }\n",
       "</style>\n",
       "<table border=\"1\" class=\"dataframe\">\n",
       "  <thead>\n",
       "    <tr style=\"text-align: right;\">\n",
       "      <th></th>\n",
       "      <th>tweet_id</th>\n",
       "      <th>in_reply_to_status_id</th>\n",
       "      <th>in_reply_to_user_id</th>\n",
       "      <th>timestamp</th>\n",
       "      <th>source</th>\n",
       "      <th>text</th>\n",
       "      <th>retweeted_status_id</th>\n",
       "      <th>retweeted_status_user_id</th>\n",
       "      <th>retweeted_status_timestamp</th>\n",
       "      <th>expanded_urls</th>\n",
       "      <th>rating_numerator</th>\n",
       "      <th>rating_denominator</th>\n",
       "      <th>name</th>\n",
       "      <th>doggo</th>\n",
       "      <th>floofer</th>\n",
       "      <th>pupper</th>\n",
       "      <th>puppo</th>\n",
       "    </tr>\n",
       "  </thead>\n",
       "  <tbody>\n",
       "    <tr>\n",
       "      <th>506</th>\n",
       "      <td>812747805718642688</td>\n",
       "      <td>NaN</td>\n",
       "      <td>NaN</td>\n",
       "      <td>2016-12-24 19:52:31 +0000</td>\n",
       "      <td>&lt;a href=\"http://twitter.com/download/iphone\" r...</td>\n",
       "      <td>RT @dog_rates: Meet Sammy. At first I was like...</td>\n",
       "      <td>6.800555e+17</td>\n",
       "      <td>4.196984e+09</td>\n",
       "      <td>2015-12-24 16:00:30 +0000</td>\n",
       "      <td>https://twitter.com/dog_rates/status/680055455...</td>\n",
       "      <td>10</td>\n",
       "      <td>10</td>\n",
       "      <td>Sammy</td>\n",
       "      <td>None</td>\n",
       "      <td>None</td>\n",
       "      <td>None</td>\n",
       "      <td>None</td>\n",
       "    </tr>\n",
       "    <tr>\n",
       "      <th>1228</th>\n",
       "      <td>713900603437621249</td>\n",
       "      <td>NaN</td>\n",
       "      <td>NaN</td>\n",
       "      <td>2016-03-27 01:29:02 +0000</td>\n",
       "      <td>&lt;a href=\"http://twitter.com/download/iphone\" r...</td>\n",
       "      <td>Happy Saturday here's 9 puppers on a bench. 99...</td>\n",
       "      <td>NaN</td>\n",
       "      <td>NaN</td>\n",
       "      <td>NaN</td>\n",
       "      <td>https://twitter.com/dog_rates/status/713900603...</td>\n",
       "      <td>99</td>\n",
       "      <td>90</td>\n",
       "      <td>None</td>\n",
       "      <td>None</td>\n",
       "      <td>None</td>\n",
       "      <td>None</td>\n",
       "      <td>None</td>\n",
       "    </tr>\n",
       "  </tbody>\n",
       "</table>\n",
       "</div>"
      ],
      "text/plain": [
       "                tweet_id  in_reply_to_status_id  in_reply_to_user_id  \\\n",
       "506   812747805718642688                    NaN                  NaN   \n",
       "1228  713900603437621249                    NaN                  NaN   \n",
       "\n",
       "                      timestamp  \\\n",
       "506   2016-12-24 19:52:31 +0000   \n",
       "1228  2016-03-27 01:29:02 +0000   \n",
       "\n",
       "                                                 source  \\\n",
       "506   <a href=\"http://twitter.com/download/iphone\" r...   \n",
       "1228  <a href=\"http://twitter.com/download/iphone\" r...   \n",
       "\n",
       "                                                   text  retweeted_status_id  \\\n",
       "506   RT @dog_rates: Meet Sammy. At first I was like...         6.800555e+17   \n",
       "1228  Happy Saturday here's 9 puppers on a bench. 99...                  NaN   \n",
       "\n",
       "      retweeted_status_user_id retweeted_status_timestamp  \\\n",
       "506               4.196984e+09  2015-12-24 16:00:30 +0000   \n",
       "1228                       NaN                        NaN   \n",
       "\n",
       "                                          expanded_urls  rating_numerator  \\\n",
       "506   https://twitter.com/dog_rates/status/680055455...                10   \n",
       "1228  https://twitter.com/dog_rates/status/713900603...                99   \n",
       "\n",
       "      rating_denominator   name doggo floofer pupper puppo  \n",
       "506                   10  Sammy  None    None   None  None  \n",
       "1228                  90   None  None    None   None  None  "
      ]
     },
     "execution_count": 32,
     "metadata": {},
     "output_type": "execute_result"
    }
   ],
   "source": [
    "df_1c.sample(2)"
   ]
  },
  {
   "cell_type": "code",
   "execution_count": 33,
   "metadata": {},
   "outputs": [
    {
     "data": {
      "text/html": [
       "<div>\n",
       "<style scoped>\n",
       "    .dataframe tbody tr th:only-of-type {\n",
       "        vertical-align: middle;\n",
       "    }\n",
       "\n",
       "    .dataframe tbody tr th {\n",
       "        vertical-align: top;\n",
       "    }\n",
       "\n",
       "    .dataframe thead th {\n",
       "        text-align: right;\n",
       "    }\n",
       "</style>\n",
       "<table border=\"1\" class=\"dataframe\">\n",
       "  <thead>\n",
       "    <tr style=\"text-align: right;\">\n",
       "      <th></th>\n",
       "      <th>tweet_id</th>\n",
       "      <th>jpg_url</th>\n",
       "      <th>img_num</th>\n",
       "      <th>p1</th>\n",
       "      <th>p1_conf</th>\n",
       "      <th>p1_dog</th>\n",
       "      <th>p2</th>\n",
       "      <th>p2_conf</th>\n",
       "      <th>p2_dog</th>\n",
       "      <th>p3</th>\n",
       "      <th>p3_conf</th>\n",
       "      <th>p3_dog</th>\n",
       "    </tr>\n",
       "  </thead>\n",
       "  <tbody>\n",
       "    <tr>\n",
       "      <th>488</th>\n",
       "      <td>675517828909424640</td>\n",
       "      <td>https://pbs.twimg.com/media/CV_r3v4VAAALvwg.jpg</td>\n",
       "      <td>1</td>\n",
       "      <td>Scottish_deerhound</td>\n",
       "      <td>0.240591</td>\n",
       "      <td>True</td>\n",
       "      <td>groenendael</td>\n",
       "      <td>0.156916</td>\n",
       "      <td>True</td>\n",
       "      <td>flat-coated_retriever</td>\n",
       "      <td>0.090899</td>\n",
       "      <td>True</td>\n",
       "    </tr>\n",
       "    <tr>\n",
       "      <th>151</th>\n",
       "      <td>668643542311546881</td>\n",
       "      <td>https://pbs.twimg.com/media/CUd_wYRWUAAZsKr.jpg</td>\n",
       "      <td>1</td>\n",
       "      <td>common_iguana</td>\n",
       "      <td>0.483972</td>\n",
       "      <td>False</td>\n",
       "      <td>frilled_lizard</td>\n",
       "      <td>0.111377</td>\n",
       "      <td>False</td>\n",
       "      <td>sandbar</td>\n",
       "      <td>0.078983</td>\n",
       "      <td>False</td>\n",
       "    </tr>\n",
       "  </tbody>\n",
       "</table>\n",
       "</div>"
      ],
      "text/plain": [
       "               tweet_id                                          jpg_url  \\\n",
       "488  675517828909424640  https://pbs.twimg.com/media/CV_r3v4VAAALvwg.jpg   \n",
       "151  668643542311546881  https://pbs.twimg.com/media/CUd_wYRWUAAZsKr.jpg   \n",
       "\n",
       "     img_num                  p1   p1_conf  p1_dog              p2   p2_conf  \\\n",
       "488        1  Scottish_deerhound  0.240591    True     groenendael  0.156916   \n",
       "151        1       common_iguana  0.483972   False  frilled_lizard  0.111377   \n",
       "\n",
       "     p2_dog                     p3   p3_conf  p3_dog  \n",
       "488    True  flat-coated_retriever  0.090899    True  \n",
       "151   False                sandbar  0.078983   False  "
      ]
     },
     "execution_count": 33,
     "metadata": {},
     "output_type": "execute_result"
    }
   ],
   "source": [
    "df_2c.sample(2)"
   ]
  },
  {
   "cell_type": "code",
   "execution_count": 34,
   "metadata": {},
   "outputs": [
    {
     "data": {
      "text/html": [
       "<div>\n",
       "<style scoped>\n",
       "    .dataframe tbody tr th:only-of-type {\n",
       "        vertical-align: middle;\n",
       "    }\n",
       "\n",
       "    .dataframe tbody tr th {\n",
       "        vertical-align: top;\n",
       "    }\n",
       "\n",
       "    .dataframe thead th {\n",
       "        text-align: right;\n",
       "    }\n",
       "</style>\n",
       "<table border=\"1\" class=\"dataframe\">\n",
       "  <thead>\n",
       "    <tr style=\"text-align: right;\">\n",
       "      <th></th>\n",
       "      <th>tweet_id</th>\n",
       "      <th>retweet_count</th>\n",
       "      <th>favorite_count</th>\n",
       "    </tr>\n",
       "  </thead>\n",
       "  <tbody>\n",
       "    <tr>\n",
       "      <th>1343</th>\n",
       "      <td>704491224099647488</td>\n",
       "      <td>97</td>\n",
       "      <td>840</td>\n",
       "    </tr>\n",
       "    <tr>\n",
       "      <th>20</th>\n",
       "      <td>887705289381826560</td>\n",
       "      <td>5609</td>\n",
       "      <td>30779</td>\n",
       "    </tr>\n",
       "  </tbody>\n",
       "</table>\n",
       "</div>"
      ],
      "text/plain": [
       "                tweet_id  retweet_count  favorite_count\n",
       "1343  704491224099647488             97             840\n",
       "20    887705289381826560           5609           30779"
      ]
     },
     "execution_count": 34,
     "metadata": {},
     "output_type": "execute_result"
    }
   ],
   "source": [
    "df_3c.sample(2)"
   ]
  },
  {
   "cell_type": "markdown",
   "metadata": {},
   "source": [
    "#### Define-01:\n",
    "The type of 'tweet_id' should be object however it's int64 in twitter-archieve-enhanced and image-prediction dataframes (QI-5)."
   ]
  },
  {
   "cell_type": "code",
   "execution_count": 35,
   "metadata": {},
   "outputs": [],
   "source": [
    "#Code-01\n",
    "df_1c['tweet_id'] = df_1c['tweet_id'].astype(str)\n",
    "df_2c['tweet_id'] = df_2c['tweet_id'].astype(str)\n",
    "df_3c['tweet_id'] = df_3c['tweet_id'].astype(str)"
   ]
  },
  {
   "cell_type": "code",
   "execution_count": 36,
   "metadata": {},
   "outputs": [
    {
     "name": "stdout",
     "output_type": "stream",
     "text": [
      "<class 'pandas.core.frame.DataFrame'>\n",
      "RangeIndex: 2356 entries, 0 to 2355\n",
      "Data columns (total 17 columns):\n",
      "tweet_id                      2356 non-null object\n",
      "in_reply_to_status_id         78 non-null float64\n",
      "in_reply_to_user_id           78 non-null float64\n",
      "timestamp                     2356 non-null object\n",
      "source                        2356 non-null object\n",
      "text                          2356 non-null object\n",
      "retweeted_status_id           181 non-null float64\n",
      "retweeted_status_user_id      181 non-null float64\n",
      "retweeted_status_timestamp    181 non-null object\n",
      "expanded_urls                 2297 non-null object\n",
      "rating_numerator              2356 non-null int64\n",
      "rating_denominator            2356 non-null int64\n",
      "name                          2356 non-null object\n",
      "doggo                         2356 non-null object\n",
      "floofer                       2356 non-null object\n",
      "pupper                        2356 non-null object\n",
      "puppo                         2356 non-null object\n",
      "dtypes: float64(4), int64(2), object(11)\n",
      "memory usage: 313.0+ KB\n",
      "\n",
      "\n",
      "<class 'pandas.core.frame.DataFrame'>\n",
      "RangeIndex: 2075 entries, 0 to 2074\n",
      "Data columns (total 12 columns):\n",
      "tweet_id    2075 non-null object\n",
      "jpg_url     2075 non-null object\n",
      "img_num     2075 non-null int64\n",
      "p1          2075 non-null object\n",
      "p1_conf     2075 non-null float64\n",
      "p1_dog      2075 non-null bool\n",
      "p2          2075 non-null object\n",
      "p2_conf     2075 non-null float64\n",
      "p2_dog      2075 non-null bool\n",
      "p3          2075 non-null object\n",
      "p3_conf     2075 non-null float64\n",
      "p3_dog      2075 non-null bool\n",
      "dtypes: bool(3), float64(3), int64(1), object(5)\n",
      "memory usage: 152.1+ KB\n"
     ]
    }
   ],
   "source": [
    "#Test-01\n",
    "df_1c.info();\n",
    "print('\\n')\n",
    "df_2c.info();"
   ]
  },
  {
   "cell_type": "markdown",
   "metadata": {},
   "source": [
    "#### Define-02:\n",
    "Number of rows are not matched in the dataframes (QI-4) and also There are 3 dataframes. However, only 1 data frame is needed (SI-1). "
   ]
  },
  {
   "cell_type": "code",
   "execution_count": 37,
   "metadata": {},
   "outputs": [],
   "source": [
    "#NOTE: This code returns favorite_count & retweet_count NAN!!!\n",
    "subset = ['tweet_id']\n",
    "df_12 = df_1c.merge(df_2c, on=subset, how='left')\n",
    "df_123 = df_12.merge(df_3c, on=subset, how='left')"
   ]
  },
  {
   "cell_type": "code",
   "execution_count": 38,
   "metadata": {},
   "outputs": [
    {
     "data": {
      "text/html": [
       "<div>\n",
       "<style scoped>\n",
       "    .dataframe tbody tr th:only-of-type {\n",
       "        vertical-align: middle;\n",
       "    }\n",
       "\n",
       "    .dataframe tbody tr th {\n",
       "        vertical-align: top;\n",
       "    }\n",
       "\n",
       "    .dataframe thead th {\n",
       "        text-align: right;\n",
       "    }\n",
       "</style>\n",
       "<table border=\"1\" class=\"dataframe\">\n",
       "  <thead>\n",
       "    <tr style=\"text-align: right;\">\n",
       "      <th></th>\n",
       "      <th>tweet_id</th>\n",
       "      <th>in_reply_to_status_id</th>\n",
       "      <th>in_reply_to_user_id</th>\n",
       "      <th>timestamp</th>\n",
       "      <th>source</th>\n",
       "      <th>text</th>\n",
       "      <th>retweeted_status_id</th>\n",
       "      <th>retweeted_status_user_id</th>\n",
       "      <th>retweeted_status_timestamp</th>\n",
       "      <th>expanded_urls</th>\n",
       "      <th>...</th>\n",
       "      <th>p1_conf</th>\n",
       "      <th>p1_dog</th>\n",
       "      <th>p2</th>\n",
       "      <th>p2_conf</th>\n",
       "      <th>p2_dog</th>\n",
       "      <th>p3</th>\n",
       "      <th>p3_conf</th>\n",
       "      <th>p3_dog</th>\n",
       "      <th>retweet_count</th>\n",
       "      <th>favorite_count</th>\n",
       "    </tr>\n",
       "  </thead>\n",
       "  <tbody>\n",
       "    <tr>\n",
       "      <th>2246</th>\n",
       "      <td>667878741721415682</td>\n",
       "      <td>NaN</td>\n",
       "      <td>NaN</td>\n",
       "      <td>2015-11-21 01:34:35 +0000</td>\n",
       "      <td>&lt;a href=\"http://twitter.com/download/iphone\" r...</td>\n",
       "      <td>This is Tedrick. He lives on the edge. Needs s...</td>\n",
       "      <td>NaN</td>\n",
       "      <td>NaN</td>\n",
       "      <td>NaN</td>\n",
       "      <td>https://twitter.com/dog_rates/status/667878741...</td>\n",
       "      <td>...</td>\n",
       "      <td>0.200373</td>\n",
       "      <td>False</td>\n",
       "      <td>miniature_pinscher</td>\n",
       "      <td>0.106003</td>\n",
       "      <td>True</td>\n",
       "      <td>schipperke</td>\n",
       "      <td>0.104733</td>\n",
       "      <td>True</td>\n",
       "      <td>127.0</td>\n",
       "      <td>409.0</td>\n",
       "    </tr>\n",
       "    <tr>\n",
       "      <th>1173</th>\n",
       "      <td>720340705894408192</td>\n",
       "      <td>NaN</td>\n",
       "      <td>NaN</td>\n",
       "      <td>2016-04-13 19:59:42 +0000</td>\n",
       "      <td>&lt;a href=\"http://twitter.com/download/iphone\" r...</td>\n",
       "      <td>This is Derek. He just got balled on. Can't ev...</td>\n",
       "      <td>NaN</td>\n",
       "      <td>NaN</td>\n",
       "      <td>NaN</td>\n",
       "      <td>https://twitter.com/dog_rates/status/720340705...</td>\n",
       "      <td>...</td>\n",
       "      <td>0.320126</td>\n",
       "      <td>False</td>\n",
       "      <td>lawn_mower</td>\n",
       "      <td>0.080808</td>\n",
       "      <td>False</td>\n",
       "      <td>viaduct</td>\n",
       "      <td>0.065321</td>\n",
       "      <td>False</td>\n",
       "      <td>1098.0</td>\n",
       "      <td>3131.0</td>\n",
       "    </tr>\n",
       "  </tbody>\n",
       "</table>\n",
       "<p>2 rows × 30 columns</p>\n",
       "</div>"
      ],
      "text/plain": [
       "                tweet_id  in_reply_to_status_id  in_reply_to_user_id  \\\n",
       "2246  667878741721415682                    NaN                  NaN   \n",
       "1173  720340705894408192                    NaN                  NaN   \n",
       "\n",
       "                      timestamp  \\\n",
       "2246  2015-11-21 01:34:35 +0000   \n",
       "1173  2016-04-13 19:59:42 +0000   \n",
       "\n",
       "                                                 source  \\\n",
       "2246  <a href=\"http://twitter.com/download/iphone\" r...   \n",
       "1173  <a href=\"http://twitter.com/download/iphone\" r...   \n",
       "\n",
       "                                                   text  retweeted_status_id  \\\n",
       "2246  This is Tedrick. He lives on the edge. Needs s...                  NaN   \n",
       "1173  This is Derek. He just got balled on. Can't ev...                  NaN   \n",
       "\n",
       "      retweeted_status_user_id retweeted_status_timestamp  \\\n",
       "2246                       NaN                        NaN   \n",
       "1173                       NaN                        NaN   \n",
       "\n",
       "                                          expanded_urls      ...        \\\n",
       "2246  https://twitter.com/dog_rates/status/667878741...      ...         \n",
       "1173  https://twitter.com/dog_rates/status/720340705...      ...         \n",
       "\n",
       "       p1_conf  p1_dog                  p2   p2_conf p2_dog          p3  \\\n",
       "2246  0.200373   False  miniature_pinscher  0.106003   True  schipperke   \n",
       "1173  0.320126   False          lawn_mower  0.080808  False     viaduct   \n",
       "\n",
       "       p3_conf p3_dog  retweet_count favorite_count  \n",
       "2246  0.104733   True          127.0          409.0  \n",
       "1173  0.065321  False         1098.0         3131.0  \n",
       "\n",
       "[2 rows x 30 columns]"
      ]
     },
     "execution_count": 38,
     "metadata": {},
     "output_type": "execute_result"
    }
   ],
   "source": [
    "#Test-02\n",
    "df_123.sample(2)"
   ]
  },
  {
   "cell_type": "code",
   "execution_count": 39,
   "metadata": {},
   "outputs": [
    {
     "data": {
      "text/plain": [
       "(2356, 30)"
      ]
     },
     "execution_count": 39,
     "metadata": {},
     "output_type": "execute_result"
    }
   ],
   "source": [
    "df_123.shape"
   ]
  },
  {
   "cell_type": "markdown",
   "metadata": {},
   "source": [
    "#### Define-03:\n",
    "Following columns in the \"twitter-archieve-enhanced\" dataframe contain NAN values in most. Thus, these columns will not provide information to us. These columns should be removed.<br>\n",
    "*in_reply_to_status_id         78 non-null float64<br>\n",
    "*in_reply_to_user_id           78 non-null float64<br>\n",
    "*retweeted_status_id           181 non-null float64<br>\n",
    "*retweeted_status_user_id      181 non-null float64<br>\n",
    "*retweeted_status_timestamp    181 non-null object<br>\n",
    "<br>(QI-6)"
   ]
  },
  {
   "cell_type": "code",
   "execution_count": 40,
   "metadata": {},
   "outputs": [
    {
     "name": "stdout",
     "output_type": "stream",
     "text": [
      "tweet_id\n",
      "timestamp\n",
      "source\n",
      "text\n",
      "expanded_urls\n",
      "rating_numerator\n",
      "rating_denominator\n",
      "name\n",
      "doggo\n",
      "floofer\n",
      "pupper\n",
      "puppo\n",
      "jpg_url\n",
      "img_num\n",
      "p1\n",
      "p1_conf\n",
      "p1_dog\n",
      "p2\n",
      "p2_conf\n",
      "p2_dog\n",
      "p3\n",
      "p3_conf\n",
      "p3_dog\n",
      "retweet_count\n",
      "favorite_count\n"
     ]
    }
   ],
   "source": [
    "#Code-03 & Test-03\n",
    "drop_cols = ['in_reply_to_status_id','in_reply_to_user_id','retweeted_status_id','retweeted_status_user_id','retweeted_status_timestamp']\n",
    "df_123.drop(drop_cols, axis=1, inplace=True)\n",
    "#\n",
    "for col in df_123.columns: \n",
    "    print(col) "
   ]
  },
  {
   "cell_type": "markdown",
   "metadata": {},
   "source": [
    "#### Define-04:\n",
    "The timestamp column has redundant numbers '+0000' (QI-7). These should be removed."
   ]
  },
  {
   "cell_type": "code",
   "execution_count": 41,
   "metadata": {},
   "outputs": [],
   "source": [
    "#Code-04\n",
    "df_123.timestamp = df_123.timestamp.str.strip('+0000')"
   ]
  },
  {
   "cell_type": "code",
   "execution_count": 42,
   "metadata": {},
   "outputs": [
    {
     "data": {
      "text/html": [
       "<div>\n",
       "<style scoped>\n",
       "    .dataframe tbody tr th:only-of-type {\n",
       "        vertical-align: middle;\n",
       "    }\n",
       "\n",
       "    .dataframe tbody tr th {\n",
       "        vertical-align: top;\n",
       "    }\n",
       "\n",
       "    .dataframe thead th {\n",
       "        text-align: right;\n",
       "    }\n",
       "</style>\n",
       "<table border=\"1\" class=\"dataframe\">\n",
       "  <thead>\n",
       "    <tr style=\"text-align: right;\">\n",
       "      <th></th>\n",
       "      <th>timestamp</th>\n",
       "    </tr>\n",
       "  </thead>\n",
       "  <tbody>\n",
       "    <tr>\n",
       "      <th>0</th>\n",
       "      <td>2017-08-01 16:23:56</td>\n",
       "    </tr>\n",
       "    <tr>\n",
       "      <th>1</th>\n",
       "      <td>2017-08-01 00:17:27</td>\n",
       "    </tr>\n",
       "  </tbody>\n",
       "</table>\n",
       "</div>"
      ],
      "text/plain": [
       "              timestamp\n",
       "0  2017-08-01 16:23:56 \n",
       "1  2017-08-01 00:17:27 "
      ]
     },
     "execution_count": 42,
     "metadata": {},
     "output_type": "execute_result"
    }
   ],
   "source": [
    "#Test-04\n",
    "pd.DataFrame(df_123.timestamp).head(2)"
   ]
  },
  {
   "cell_type": "markdown",
   "metadata": {},
   "source": [
    "#### Define-05:\n",
    "The type of timestamp column should be 'datetime' (QI-8)."
   ]
  },
  {
   "cell_type": "code",
   "execution_count": 43,
   "metadata": {},
   "outputs": [],
   "source": [
    "#Code-05\n",
    "df_123.timestamp = pd.to_datetime(df_123.timestamp)"
   ]
  },
  {
   "cell_type": "code",
   "execution_count": 44,
   "metadata": {},
   "outputs": [
    {
     "name": "stdout",
     "output_type": "stream",
     "text": [
      "<class 'pandas.core.frame.DataFrame'>\n",
      "Int64Index: 2356 entries, 0 to 2355\n",
      "Data columns (total 1 columns):\n",
      "timestamp    2356 non-null datetime64[ns]\n",
      "dtypes: datetime64[ns](1)\n",
      "memory usage: 36.8 KB\n"
     ]
    }
   ],
   "source": [
    "#Test-05\n",
    "pd.DataFrame(df_123.timestamp).info()"
   ]
  },
  {
   "cell_type": "code",
   "execution_count": 45,
   "metadata": {},
   "outputs": [
    {
     "data": {
      "text/html": [
       "<div>\n",
       "<style scoped>\n",
       "    .dataframe tbody tr th:only-of-type {\n",
       "        vertical-align: middle;\n",
       "    }\n",
       "\n",
       "    .dataframe tbody tr th {\n",
       "        vertical-align: top;\n",
       "    }\n",
       "\n",
       "    .dataframe thead th {\n",
       "        text-align: right;\n",
       "    }\n",
       "</style>\n",
       "<table border=\"1\" class=\"dataframe\">\n",
       "  <thead>\n",
       "    <tr style=\"text-align: right;\">\n",
       "      <th></th>\n",
       "      <th>timestamp</th>\n",
       "    </tr>\n",
       "  </thead>\n",
       "  <tbody>\n",
       "    <tr>\n",
       "      <th>0</th>\n",
       "      <td>2017-08-01 16:23:56</td>\n",
       "    </tr>\n",
       "    <tr>\n",
       "      <th>1</th>\n",
       "      <td>2017-08-01 00:17:27</td>\n",
       "    </tr>\n",
       "  </tbody>\n",
       "</table>\n",
       "</div>"
      ],
      "text/plain": [
       "            timestamp\n",
       "0 2017-08-01 16:23:56\n",
       "1 2017-08-01 00:17:27"
      ]
     },
     "execution_count": 45,
     "metadata": {},
     "output_type": "execute_result"
    }
   ],
   "source": [
    "pd.DataFrame(df_123.timestamp).head(2)"
   ]
  },
  {
   "cell_type": "markdown",
   "metadata": {},
   "source": [
    "#### Define-06:\n",
    "Twitter-archieve-enhanced dataframe contains 4 columns: doggo, floofer, pupper, puppo. These columns are categories. Thus, these columns can be united in same column (SI-2).<br>\n",
    "And also, it should be considered that there are some rows in which there are multiple stages such as doggo-floofer instead of one!"
   ]
  },
  {
   "cell_type": "code",
   "execution_count": 46,
   "metadata": {},
   "outputs": [
    {
     "name": "stdout",
     "output_type": "stream",
     "text": [
      "<class 'pandas.core.frame.DataFrame'>\n",
      "Int64Index: 2356 entries, 0 to 2355\n",
      "Data columns (total 25 columns):\n",
      "tweet_id              2356 non-null object\n",
      "timestamp             2356 non-null datetime64[ns]\n",
      "source                2356 non-null object\n",
      "text                  2356 non-null object\n",
      "expanded_urls         2297 non-null object\n",
      "rating_numerator      2356 non-null int64\n",
      "rating_denominator    2356 non-null int64\n",
      "name                  2356 non-null object\n",
      "doggo                 2356 non-null object\n",
      "floofer               2356 non-null object\n",
      "pupper                2356 non-null object\n",
      "puppo                 2356 non-null object\n",
      "jpg_url               2075 non-null object\n",
      "img_num               2075 non-null float64\n",
      "p1                    2075 non-null object\n",
      "p1_conf               2075 non-null float64\n",
      "p1_dog                2075 non-null object\n",
      "p2                    2075 non-null object\n",
      "p2_conf               2075 non-null float64\n",
      "p2_dog                2075 non-null object\n",
      "p3                    2075 non-null object\n",
      "p3_conf               2075 non-null float64\n",
      "p3_dog                2075 non-null object\n",
      "retweet_count         2354 non-null float64\n",
      "favorite_count        2354 non-null float64\n",
      "dtypes: datetime64[ns](1), float64(6), int64(2), object(16)\n",
      "memory usage: 478.6+ KB\n"
     ]
    }
   ],
   "source": [
    "df_123.info();"
   ]
  },
  {
   "cell_type": "code",
   "execution_count": 47,
   "metadata": {},
   "outputs": [
    {
     "data": {
      "text/plain": [
       "1685    pupper\n",
       "701      puppo\n",
       "1157    pupper\n",
       "1152    pupper\n",
       "1811    pupper\n",
       "418     pupper\n",
       "731      doggo\n",
       "973     pupper\n",
       "1464    pupper\n",
       "1429    pupper\n",
       "919      doggo\n",
       "793     pupper\n",
       "1606    pupper\n",
       "764      doggo\n",
       "1652    pupper\n",
       "449      doggo\n",
       "581     pupper\n",
       "460     pupper\n",
       "499      doggo\n",
       "1617    pupper\n",
       "Name: stage, dtype: category\n",
       "Categories (5, object): [None, doggo, floofer, pupper, puppo]"
      ]
     },
     "execution_count": 47,
     "metadata": {},
     "output_type": "execute_result"
    }
   ],
   "source": [
    "#Code-06\n",
    "#Creating a column called 'stage' to merge the doggo, floofer, pupper and puppo columns\n",
    "df_123['stage'] = df_123[['doggo', 'floofer', 'pupper', 'puppo']].max(axis=1)\n",
    "#These are labels thus they're all need to be converted into categories\n",
    "df_123.stage = df_123.stage.astype('category')\n",
    "df_123[df_123['stage']!='None'].stage.sample(20)"
   ]
  },
  {
   "cell_type": "code",
   "execution_count": 48,
   "metadata": {},
   "outputs": [],
   "source": [
    "#Now, let's dorp doggo, floofer, pupper and puppo columns!\n",
    "df_123.drop(['doggo', 'floofer', 'pupper', 'puppo'], axis=1, inplace=True)"
   ]
  },
  {
   "cell_type": "code",
   "execution_count": 49,
   "metadata": {},
   "outputs": [
    {
     "name": "stdout",
     "output_type": "stream",
     "text": [
      "<class 'pandas.core.frame.DataFrame'>\n",
      "Int64Index: 2356 entries, 0 to 2355\n",
      "Data columns (total 22 columns):\n",
      "tweet_id              2356 non-null object\n",
      "timestamp             2356 non-null datetime64[ns]\n",
      "source                2356 non-null object\n",
      "text                  2356 non-null object\n",
      "expanded_urls         2297 non-null object\n",
      "rating_numerator      2356 non-null int64\n",
      "rating_denominator    2356 non-null int64\n",
      "name                  2356 non-null object\n",
      "jpg_url               2075 non-null object\n",
      "img_num               2075 non-null float64\n",
      "p1                    2075 non-null object\n",
      "p1_conf               2075 non-null float64\n",
      "p1_dog                2075 non-null object\n",
      "p2                    2075 non-null object\n",
      "p2_conf               2075 non-null float64\n",
      "p2_dog                2075 non-null object\n",
      "p3                    2075 non-null object\n",
      "p3_conf               2075 non-null float64\n",
      "p3_dog                2075 non-null object\n",
      "retweet_count         2354 non-null float64\n",
      "favorite_count        2354 non-null float64\n",
      "stage                 2356 non-null category\n",
      "dtypes: category(1), datetime64[ns](1), float64(6), int64(2), object(12)\n",
      "memory usage: 407.4+ KB\n"
     ]
    }
   ],
   "source": [
    "#Test-06\n",
    "df_123.info() #there shouldn't be 'doggo', 'floofer', 'pupper', 'puppo' columns!"
   ]
  },
  {
   "cell_type": "markdown",
   "metadata": {},
   "source": [
    "#### Define-07:\n",
    "Twitter-archieve-enhanced dataframe contains rows in which the denominator is not 10. These rows should be removed."
   ]
  },
  {
   "cell_type": "code",
   "execution_count": 50,
   "metadata": {},
   "outputs": [],
   "source": [
    "#Code-07\n",
    "wrong_rd = df_123[df_123['rating_denominator']!=10].index\n",
    "df_123.drop(wrong_rd, axis=0, inplace=True);"
   ]
  },
  {
   "cell_type": "code",
   "execution_count": 51,
   "metadata": {},
   "outputs": [
    {
     "data": {
      "text/plain": [
       "0"
      ]
     },
     "execution_count": 51,
     "metadata": {},
     "output_type": "execute_result"
    }
   ],
   "source": [
    "#Test-07\n",
    "df_123[df_123['rating_denominator']!=10].shape[0] #should return 0"
   ]
  },
  {
   "cell_type": "markdown",
   "metadata": {},
   "source": [
    "#### Define-08:\n",
    "Twitter-archieve-enhanced dataframe contains rows in which the rating is much bigger than 10. These rows should be removed (QI-3)."
   ]
  },
  {
   "cell_type": "code",
   "execution_count": 52,
   "metadata": {},
   "outputs": [],
   "source": [
    "#Code-08\n",
    "excessive_rn = df_123[df_123['rating_numerator']>20].index\n",
    "df_123.drop(excessive_rn, axis=0, inplace=True);"
   ]
  },
  {
   "cell_type": "code",
   "execution_count": 53,
   "metadata": {},
   "outputs": [
    {
     "data": {
      "text/plain": [
       "0"
      ]
     },
     "execution_count": 53,
     "metadata": {},
     "output_type": "execute_result"
    }
   ],
   "source": [
    "#Test-08\n",
    "df_123[df_123['rating_numerator']>20].shape[0] #should return 0"
   ]
  },
  {
   "cell_type": "markdown",
   "metadata": {},
   "source": [
    "#### Define-09:\n",
    "Image-predictions dataframe contains 3 predictions. Instead of 3 different prediction outcome, only the best can be used (SI-3).<br>\n",
    "First, let's determine the best predictor."
   ]
  },
  {
   "cell_type": "code",
   "execution_count": 54,
   "metadata": {},
   "outputs": [
    {
     "name": "stdout",
     "output_type": "stream",
     "text": [
      "Number of true predictions for the predictors are given below:\n",
      "Predictor 1: 1514\n",
      "Predictor 2: 1535\n",
      "Predictor 3: 1481\n",
      "\n",
      "Accuracy of predictor 2: 0.6604991394148021\n"
     ]
    }
   ],
   "source": [
    "#Code-09\n",
    "#First let's calculate number of True predictions for 3 predictors\n",
    "true_p1 = df_123[df_123['p1_dog']==True].shape[0]\n",
    "true_p2 = df_123[df_123['p2_dog']==True].shape[0]\n",
    "true_p3 = df_123[df_123['p3_dog']==True].shape[0]\n",
    "#\n",
    "print('Number of true predictions for the predictors are given below:')\n",
    "print('Predictor 1: {}'.format(true_p1))\n",
    "print('Predictor 2: {}'.format(true_p2))\n",
    "print('Predictor 3: {}'.format(true_p3))\n",
    "#\n",
    "print('\\nAccuracy of predictor 2: {}'.format(true_p2/df_123.shape[0]))"
   ]
  },
  {
   "cell_type": "markdown",
   "metadata": {},
   "source": [
    "Based on the number of true predictions, there is no significant difference between the predictors.<br>\n",
    "The best predictor has a prediction accuracy around 66% which is weak.<br>\n",
    "Thus, the true predictions from the 3 predictors can be merged."
   ]
  },
  {
   "cell_type": "code",
   "execution_count": 55,
   "metadata": {},
   "outputs": [
    {
     "data": {
      "text/html": [
       "<div>\n",
       "<style scoped>\n",
       "    .dataframe tbody tr th:only-of-type {\n",
       "        vertical-align: middle;\n",
       "    }\n",
       "\n",
       "    .dataframe tbody tr th {\n",
       "        vertical-align: top;\n",
       "    }\n",
       "\n",
       "    .dataframe thead th {\n",
       "        text-align: right;\n",
       "    }\n",
       "</style>\n",
       "<table border=\"1\" class=\"dataframe\">\n",
       "  <thead>\n",
       "    <tr style=\"text-align: right;\">\n",
       "      <th></th>\n",
       "      <th>tweet_id</th>\n",
       "      <th>timestamp</th>\n",
       "      <th>source</th>\n",
       "      <th>text</th>\n",
       "      <th>expanded_urls</th>\n",
       "      <th>rating_numerator</th>\n",
       "      <th>rating_denominator</th>\n",
       "      <th>name</th>\n",
       "      <th>jpg_url</th>\n",
       "      <th>img_num</th>\n",
       "      <th>...</th>\n",
       "      <th>p2_conf</th>\n",
       "      <th>p2_dog</th>\n",
       "      <th>p3</th>\n",
       "      <th>p3_conf</th>\n",
       "      <th>p3_dog</th>\n",
       "      <th>retweet_count</th>\n",
       "      <th>favorite_count</th>\n",
       "      <th>stage</th>\n",
       "      <th>prediction</th>\n",
       "      <th>confidence</th>\n",
       "    </tr>\n",
       "  </thead>\n",
       "  <tbody>\n",
       "    <tr>\n",
       "      <th>0</th>\n",
       "      <td>892420643555336193</td>\n",
       "      <td>2017-08-01 16:23:56</td>\n",
       "      <td>&lt;a href=\"http://twitter.com/download/iphone\" r...</td>\n",
       "      <td>This is Phineas. He's a mystical boy. Only eve...</td>\n",
       "      <td>https://twitter.com/dog_rates/status/892420643...</td>\n",
       "      <td>13</td>\n",
       "      <td>10</td>\n",
       "      <td>Phineas</td>\n",
       "      <td>https://pbs.twimg.com/media/DGKD1-bXoAAIAUK.jpg</td>\n",
       "      <td>1.0</td>\n",
       "      <td>...</td>\n",
       "      <td>0.085851</td>\n",
       "      <td>False</td>\n",
       "      <td>banana</td>\n",
       "      <td>0.076110</td>\n",
       "      <td>False</td>\n",
       "      <td>8853.0</td>\n",
       "      <td>39467.0</td>\n",
       "      <td>None</td>\n",
       "      <td>no_prediction</td>\n",
       "      <td>0.000000</td>\n",
       "    </tr>\n",
       "    <tr>\n",
       "      <th>1</th>\n",
       "      <td>892177421306343426</td>\n",
       "      <td>2017-08-01 00:17:27</td>\n",
       "      <td>&lt;a href=\"http://twitter.com/download/iphone\" r...</td>\n",
       "      <td>This is Tilly. She's just checking pup on you....</td>\n",
       "      <td>https://twitter.com/dog_rates/status/892177421...</td>\n",
       "      <td>13</td>\n",
       "      <td>10</td>\n",
       "      <td>Tilly</td>\n",
       "      <td>https://pbs.twimg.com/media/DGGmoV4XsAAUL6n.jpg</td>\n",
       "      <td>1.0</td>\n",
       "      <td>...</td>\n",
       "      <td>0.090647</td>\n",
       "      <td>True</td>\n",
       "      <td>papillon</td>\n",
       "      <td>0.068957</td>\n",
       "      <td>True</td>\n",
       "      <td>6514.0</td>\n",
       "      <td>33819.0</td>\n",
       "      <td>None</td>\n",
       "      <td>Pekinese</td>\n",
       "      <td>0.090647</td>\n",
       "    </tr>\n",
       "  </tbody>\n",
       "</table>\n",
       "<p>2 rows × 24 columns</p>\n",
       "</div>"
      ],
      "text/plain": [
       "             tweet_id           timestamp  \\\n",
       "0  892420643555336193 2017-08-01 16:23:56   \n",
       "1  892177421306343426 2017-08-01 00:17:27   \n",
       "\n",
       "                                              source  \\\n",
       "0  <a href=\"http://twitter.com/download/iphone\" r...   \n",
       "1  <a href=\"http://twitter.com/download/iphone\" r...   \n",
       "\n",
       "                                                text  \\\n",
       "0  This is Phineas. He's a mystical boy. Only eve...   \n",
       "1  This is Tilly. She's just checking pup on you....   \n",
       "\n",
       "                                       expanded_urls  rating_numerator  \\\n",
       "0  https://twitter.com/dog_rates/status/892420643...                13   \n",
       "1  https://twitter.com/dog_rates/status/892177421...                13   \n",
       "\n",
       "   rating_denominator     name  \\\n",
       "0                  10  Phineas   \n",
       "1                  10    Tilly   \n",
       "\n",
       "                                           jpg_url  img_num     ...      \\\n",
       "0  https://pbs.twimg.com/media/DGKD1-bXoAAIAUK.jpg      1.0     ...       \n",
       "1  https://pbs.twimg.com/media/DGGmoV4XsAAUL6n.jpg      1.0     ...       \n",
       "\n",
       "    p2_conf  p2_dog        p3   p3_conf  p3_dog retweet_count favorite_count  \\\n",
       "0  0.085851   False    banana  0.076110   False        8853.0        39467.0   \n",
       "1  0.090647    True  papillon  0.068957    True        6514.0        33819.0   \n",
       "\n",
       "   stage     prediction  confidence  \n",
       "0   None  no_prediction    0.000000  \n",
       "1   None       Pekinese    0.090647  \n",
       "\n",
       "[2 rows x 24 columns]"
      ]
     },
     "execution_count": 55,
     "metadata": {},
     "output_type": "execute_result"
    }
   ],
   "source": [
    "#Creating two empty lists\n",
    "prediction = []\n",
    "confidence = []\n",
    "\n",
    "#Defining a function that will take the true predictions\n",
    "def predictors(line):\n",
    "    if line['p2_dog']==True:\n",
    "        prediction.append(line['p2'])\n",
    "        confidence.append(line['p2_conf'])\n",
    "    elif line['p1_dog']==True:\n",
    "        prediction.append(line['p1'])\n",
    "        confidence.append(line['p1_conf'])\n",
    "    elif line['p3_dog']==True:\n",
    "        prediction.append(line['p3'])\n",
    "        confidence.append(line['p3_conf'])\n",
    "    else:\n",
    "        prediction.append('no_prediction')\n",
    "        confidence.append(0)\n",
    "\n",
    "#Applying the function to the master dataframe\n",
    "df_123.apply(predictors, axis=1)\n",
    "\n",
    "#Adding lists to the master dataframe\n",
    "df_123['prediction']=prediction\n",
    "df_123['confidence']=confidence\n",
    "\n",
    "df_123.head(2)"
   ]
  },
  {
   "cell_type": "code",
   "execution_count": 56,
   "metadata": {},
   "outputs": [],
   "source": [
    "#Delete unnecessary columns\n",
    "df_123.drop(['p1','p1_conf','p1_dog','p2','p2_conf','p2_dog',\n",
    "             'p3','p3_conf','p3_dog'], axis=1, inplace=True)"
   ]
  },
  {
   "cell_type": "code",
   "execution_count": 57,
   "metadata": {},
   "outputs": [
    {
     "data": {
      "text/html": [
       "<div>\n",
       "<style scoped>\n",
       "    .dataframe tbody tr th:only-of-type {\n",
       "        vertical-align: middle;\n",
       "    }\n",
       "\n",
       "    .dataframe tbody tr th {\n",
       "        vertical-align: top;\n",
       "    }\n",
       "\n",
       "    .dataframe thead th {\n",
       "        text-align: right;\n",
       "    }\n",
       "</style>\n",
       "<table border=\"1\" class=\"dataframe\">\n",
       "  <thead>\n",
       "    <tr style=\"text-align: right;\">\n",
       "      <th></th>\n",
       "      <th>tweet_id</th>\n",
       "      <th>timestamp</th>\n",
       "      <th>source</th>\n",
       "      <th>text</th>\n",
       "      <th>expanded_urls</th>\n",
       "      <th>rating_numerator</th>\n",
       "      <th>rating_denominator</th>\n",
       "      <th>name</th>\n",
       "      <th>jpg_url</th>\n",
       "      <th>img_num</th>\n",
       "      <th>retweet_count</th>\n",
       "      <th>favorite_count</th>\n",
       "      <th>stage</th>\n",
       "      <th>prediction</th>\n",
       "      <th>confidence</th>\n",
       "    </tr>\n",
       "  </thead>\n",
       "  <tbody>\n",
       "    <tr>\n",
       "      <th>173</th>\n",
       "      <td>858471635011153920</td>\n",
       "      <td>2017-04-30 00:02:42</td>\n",
       "      <td>&lt;a href=\"http://twitter.com/download/iphone\" r...</td>\n",
       "      <td>This is Sophie. She just arrived. Used paworit...</td>\n",
       "      <td>https://twitter.com/dog_rates/status/858471635...</td>\n",
       "      <td>13</td>\n",
       "      <td>10</td>\n",
       "      <td>Sophie</td>\n",
       "      <td>https://pbs.twimg.com/media/C-nnZBdXkAAB-wg.jpg</td>\n",
       "      <td>1.0</td>\n",
       "      <td>5271.0</td>\n",
       "      <td>22640.0</td>\n",
       "      <td>None</td>\n",
       "      <td>Cardigan</td>\n",
       "      <td>0.008723</td>\n",
       "    </tr>\n",
       "    <tr>\n",
       "      <th>1834</th>\n",
       "      <td>676121918416756736</td>\n",
       "      <td>2015-12-13 19:30:01</td>\n",
       "      <td>&lt;a href=\"http://vine.co\" rel=\"nofollow\"&gt;Vine -...</td>\n",
       "      <td>Here we are witnessing a very excited dog. Cle...</td>\n",
       "      <td>https://vine.co/v/iZXg7VpeDAv</td>\n",
       "      <td>8</td>\n",
       "      <td>10</td>\n",
       "      <td>None</td>\n",
       "      <td>NaN</td>\n",
       "      <td>NaN</td>\n",
       "      <td>1297.0</td>\n",
       "      <td>2335.0</td>\n",
       "      <td>None</td>\n",
       "      <td>no_prediction</td>\n",
       "      <td>0.000000</td>\n",
       "    </tr>\n",
       "    <tr>\n",
       "      <th>1424</th>\n",
       "      <td>697990423684476929</td>\n",
       "      <td>2016-02-12 03:47:39</td>\n",
       "      <td>&lt;a href=\"http://twitter.com/download/iphone\" r...</td>\n",
       "      <td>This is Doug. He's a Draconian Jabbawockee. Ra...</td>\n",
       "      <td>https://twitter.com/dog_rates/status/697990423...</td>\n",
       "      <td>11</td>\n",
       "      <td>10</td>\n",
       "      <td>Doug</td>\n",
       "      <td>https://pbs.twimg.com/media/Ca_ClYOW0AAsvpE.jpg</td>\n",
       "      <td>2.0</td>\n",
       "      <td>1451.0</td>\n",
       "      <td>3592.0</td>\n",
       "      <td>None</td>\n",
       "      <td>Cardigan</td>\n",
       "      <td>0.015018</td>\n",
       "    </tr>\n",
       "  </tbody>\n",
       "</table>\n",
       "</div>"
      ],
      "text/plain": [
       "                tweet_id           timestamp  \\\n",
       "173   858471635011153920 2017-04-30 00:02:42   \n",
       "1834  676121918416756736 2015-12-13 19:30:01   \n",
       "1424  697990423684476929 2016-02-12 03:47:39   \n",
       "\n",
       "                                                 source  \\\n",
       "173   <a href=\"http://twitter.com/download/iphone\" r...   \n",
       "1834  <a href=\"http://vine.co\" rel=\"nofollow\">Vine -...   \n",
       "1424  <a href=\"http://twitter.com/download/iphone\" r...   \n",
       "\n",
       "                                                   text  \\\n",
       "173   This is Sophie. She just arrived. Used paworit...   \n",
       "1834  Here we are witnessing a very excited dog. Cle...   \n",
       "1424  This is Doug. He's a Draconian Jabbawockee. Ra...   \n",
       "\n",
       "                                          expanded_urls  rating_numerator  \\\n",
       "173   https://twitter.com/dog_rates/status/858471635...                13   \n",
       "1834                      https://vine.co/v/iZXg7VpeDAv                 8   \n",
       "1424  https://twitter.com/dog_rates/status/697990423...                11   \n",
       "\n",
       "      rating_denominator    name  \\\n",
       "173                   10  Sophie   \n",
       "1834                  10    None   \n",
       "1424                  10    Doug   \n",
       "\n",
       "                                              jpg_url  img_num  retweet_count  \\\n",
       "173   https://pbs.twimg.com/media/C-nnZBdXkAAB-wg.jpg      1.0         5271.0   \n",
       "1834                                              NaN      NaN         1297.0   \n",
       "1424  https://pbs.twimg.com/media/Ca_ClYOW0AAsvpE.jpg      2.0         1451.0   \n",
       "\n",
       "      favorite_count stage     prediction  confidence  \n",
       "173          22640.0  None       Cardigan    0.008723  \n",
       "1834          2335.0  None  no_prediction    0.000000  \n",
       "1424          3592.0  None       Cardigan    0.015018  "
      ]
     },
     "execution_count": 57,
     "metadata": {},
     "output_type": "execute_result"
    }
   ],
   "source": [
    "#Test-09\n",
    "df_123.sample(3)"
   ]
  },
  {
   "cell_type": "code",
   "execution_count": 58,
   "metadata": {},
   "outputs": [
    {
     "name": "stdout",
     "output_type": "stream",
     "text": [
      "Number of true predictions: 1731\n",
      "Proportion of true predictions: 0.74\n"
     ]
    }
   ],
   "source": [
    "#last check\n",
    "num_predicted = df_123[df_123['prediction']!='no_prediction'].shape[0]\n",
    "print('Number of true predictions: {}'.format(num_predicted))\n",
    "print('Proportion of true predictions: {:0.2f}'.format(num_predicted/df_123.shape[0]))"
   ]
  },
  {
   "cell_type": "markdown",
   "metadata": {},
   "source": [
    "#### Define-10:\n",
    "The tweet-json dataframe has duplicates (QI-2). This issue is intentionally left to the end because previous cleaning operations might yield another duplicates or simply might drop all duplicates.\n",
    "Let's check the master dataframe."
   ]
  },
  {
   "cell_type": "code",
   "execution_count": 59,
   "metadata": {},
   "outputs": [
    {
     "data": {
      "text/plain": [
       "0"
      ]
     },
     "execution_count": 59,
     "metadata": {},
     "output_type": "execute_result"
    }
   ],
   "source": [
    "#Code-10\n",
    "sum(df_123.duplicated())"
   ]
  },
  {
   "cell_type": "markdown",
   "metadata": {},
   "source": [
    "One (or more than one) of the cleaning operations above might be produced these duplicates!<br>\n",
    "Most probably in 'Define-07' (since we used a function there), we produced these duplicates.<br>\n",
    "An additional check confirms that we did it!<br>\n",
    "Now, let's drop these duplicates from the master dataframe."
   ]
  },
  {
   "cell_type": "code",
   "execution_count": 60,
   "metadata": {},
   "outputs": [
    {
     "data": {
      "text/plain": [
       "2324"
      ]
     },
     "execution_count": 60,
     "metadata": {},
     "output_type": "execute_result"
    }
   ],
   "source": [
    "#Dropping duplicates\n",
    "df_123.drop_duplicates(subset=['tweet_id'], inplace=True)\n",
    "df_123.shape[0]"
   ]
  },
  {
   "cell_type": "code",
   "execution_count": 61,
   "metadata": {},
   "outputs": [
    {
     "data": {
      "text/plain": [
       "False"
      ]
     },
     "execution_count": 61,
     "metadata": {},
     "output_type": "execute_result"
    }
   ],
   "source": [
    "#Test-10\n",
    "df_1c.shape[0] == df_123.shape[0] #should return true"
   ]
  },
  {
   "cell_type": "markdown",
   "metadata": {},
   "source": [
    "#### Additional Checks\n",
    "\n",
    "##### Attention for Reviewers:\n",
    "We can always go back to assessment phase (and even to gathering phase) after completing several cleaning operations.<br>\n",
    "Thus, it would be useful to check out master data frame again at this point."
   ]
  },
  {
   "cell_type": "code",
   "execution_count": 62,
   "metadata": {},
   "outputs": [
    {
     "name": "stdout",
     "output_type": "stream",
     "text": [
      "<class 'pandas.core.frame.DataFrame'>\n",
      "Int64Index: 2324 entries, 0 to 2355\n",
      "Data columns (total 15 columns):\n",
      "tweet_id              2324 non-null object\n",
      "timestamp             2324 non-null datetime64[ns]\n",
      "source                2324 non-null object\n",
      "text                  2324 non-null object\n",
      "expanded_urls         2272 non-null object\n",
      "rating_numerator      2324 non-null int64\n",
      "rating_denominator    2324 non-null int64\n",
      "name                  2324 non-null object\n",
      "jpg_url               2052 non-null object\n",
      "img_num               2052 non-null float64\n",
      "retweet_count         2322 non-null float64\n",
      "favorite_count        2322 non-null float64\n",
      "stage                 2324 non-null category\n",
      "prediction            2324 non-null object\n",
      "confidence            2324 non-null float64\n",
      "dtypes: category(1), datetime64[ns](1), float64(4), int64(2), object(7)\n",
      "memory usage: 274.8+ KB\n"
     ]
    }
   ],
   "source": [
    "df_123.info();"
   ]
  },
  {
   "cell_type": "markdown",
   "metadata": {},
   "source": [
    "There are some missing data in 'jpg_url' and 'img_num' columns.<br>\n",
    "However, this will NOT affect our analysis.\n",
    "Let's check the master dataframe visually."
   ]
  },
  {
   "cell_type": "code",
   "execution_count": 63,
   "metadata": {},
   "outputs": [
    {
     "data": {
      "text/html": [
       "<div>\n",
       "<style scoped>\n",
       "    .dataframe tbody tr th:only-of-type {\n",
       "        vertical-align: middle;\n",
       "    }\n",
       "\n",
       "    .dataframe tbody tr th {\n",
       "        vertical-align: top;\n",
       "    }\n",
       "\n",
       "    .dataframe thead th {\n",
       "        text-align: right;\n",
       "    }\n",
       "</style>\n",
       "<table border=\"1\" class=\"dataframe\">\n",
       "  <thead>\n",
       "    <tr style=\"text-align: right;\">\n",
       "      <th></th>\n",
       "      <th>tweet_id</th>\n",
       "      <th>timestamp</th>\n",
       "      <th>source</th>\n",
       "      <th>text</th>\n",
       "      <th>expanded_urls</th>\n",
       "      <th>rating_numerator</th>\n",
       "      <th>rating_denominator</th>\n",
       "      <th>name</th>\n",
       "      <th>jpg_url</th>\n",
       "      <th>img_num</th>\n",
       "      <th>retweet_count</th>\n",
       "      <th>favorite_count</th>\n",
       "      <th>stage</th>\n",
       "      <th>prediction</th>\n",
       "      <th>confidence</th>\n",
       "    </tr>\n",
       "  </thead>\n",
       "  <tbody>\n",
       "    <tr>\n",
       "      <th>60</th>\n",
       "      <td>880465832366813184</td>\n",
       "      <td>2017-06-29 16:39:47</td>\n",
       "      <td>&lt;a href=\"http://twitter.com/download/iphone\" r...</td>\n",
       "      <td>This is Bella. She had her first beach experie...</td>\n",
       "      <td>https://twitter.com/dog_rates/status/880465832...</td>\n",
       "      <td>12</td>\n",
       "      <td>10</td>\n",
       "      <td>Bella</td>\n",
       "      <td>https://pbs.twimg.com/media/DDgK-J4XUAIEV9W.jpg</td>\n",
       "      <td>1.0</td>\n",
       "      <td>6546.0</td>\n",
       "      <td>29075.0</td>\n",
       "      <td>None</td>\n",
       "      <td>Labrador_retriever</td>\n",
       "      <td>0.026329</td>\n",
       "    </tr>\n",
       "    <tr>\n",
       "      <th>636</th>\n",
       "      <td>793500921481273345</td>\n",
       "      <td>2016-11-01 17:12:16</td>\n",
       "      <td>&lt;a href=\"http://twitter.com/download/iphone\" r...</td>\n",
       "      <td>This is Fiona. She's an extremely mediocre cop...</td>\n",
       "      <td>https://twitter.com/dog_rates/status/793500921...</td>\n",
       "      <td>12</td>\n",
       "      <td>10</td>\n",
       "      <td>Fiona</td>\n",
       "      <td>https://pbs.twimg.com/media/CwMU34YWIAAz1nU.jpg</td>\n",
       "      <td>2.0</td>\n",
       "      <td>2786.0</td>\n",
       "      <td>11953.0</td>\n",
       "      <td>None</td>\n",
       "      <td>Labrador_retriever</td>\n",
       "      <td>0.219904</td>\n",
       "    </tr>\n",
       "    <tr>\n",
       "      <th>1012</th>\n",
       "      <td>747242308580548608</td>\n",
       "      <td>2016-06-27 01:37:04</td>\n",
       "      <td>&lt;a href=\"http://twitter.com/download/iphone\" r...</td>\n",
       "      <td>RT @dog_rates: This pupper killed this great w...</td>\n",
       "      <td>https://twitter.com/dog_rates/status/704761120...</td>\n",
       "      <td>13</td>\n",
       "      <td>10</td>\n",
       "      <td>None</td>\n",
       "      <td>NaN</td>\n",
       "      <td>NaN</td>\n",
       "      <td>3257.0</td>\n",
       "      <td>0.0</td>\n",
       "      <td>pupper</td>\n",
       "      <td>no_prediction</td>\n",
       "      <td>0.000000</td>\n",
       "    </tr>\n",
       "    <tr>\n",
       "      <th>226</th>\n",
       "      <td>848690551926992896</td>\n",
       "      <td>2017-04-03 00:16:10</td>\n",
       "      <td>&lt;a href=\"http://twitter.com/download/iphone\" r...</td>\n",
       "      <td>Please stop sending in animals other than dogs...</td>\n",
       "      <td>https://twitter.com/dog_rates/status/848690551...</td>\n",
       "      <td>12</td>\n",
       "      <td>10</td>\n",
       "      <td>None</td>\n",
       "      <td>https://pbs.twimg.com/media/C8cnjHuXsAAoZQf.jpg</td>\n",
       "      <td>1.0</td>\n",
       "      <td>4826.0</td>\n",
       "      <td>27104.0</td>\n",
       "      <td>None</td>\n",
       "      <td>Newfoundland</td>\n",
       "      <td>0.100571</td>\n",
       "    </tr>\n",
       "    <tr>\n",
       "      <th>2161</th>\n",
       "      <td>669564461267722241</td>\n",
       "      <td>2015-11-25 17:13:02</td>\n",
       "      <td>&lt;a href=\"http://twitter.com/download/iphone\" r...</td>\n",
       "      <td>This is a Coriander Baton Rouge named Alfredo....</td>\n",
       "      <td>https://twitter.com/dog_rates/status/669564461...</td>\n",
       "      <td>10</td>\n",
       "      <td>10</td>\n",
       "      <td>a</td>\n",
       "      <td>https://pbs.twimg.com/media/CUrFUvDVAAA9H-F.jpg</td>\n",
       "      <td>1.0</td>\n",
       "      <td>133.0</td>\n",
       "      <td>413.0</td>\n",
       "      <td>None</td>\n",
       "      <td>miniature_poodle</td>\n",
       "      <td>0.259920</td>\n",
       "    </tr>\n",
       "    <tr>\n",
       "      <th>1069</th>\n",
       "      <td>740365076218183684</td>\n",
       "      <td>2016-06-08 02:09:24</td>\n",
       "      <td>&lt;a href=\"http://twitter.com/download/iphone\" r...</td>\n",
       "      <td>When the photographer forgets to tell you wher...</td>\n",
       "      <td>https://twitter.com/dog_rates/status/740365076...</td>\n",
       "      <td>10</td>\n",
       "      <td>10</td>\n",
       "      <td>None</td>\n",
       "      <td>https://pbs.twimg.com/media/CkZOGhJWsAAHvPv.jpg</td>\n",
       "      <td>1.0</td>\n",
       "      <td>495.0</td>\n",
       "      <td>2727.0</td>\n",
       "      <td>None</td>\n",
       "      <td>no_prediction</td>\n",
       "      <td>0.000000</td>\n",
       "    </tr>\n",
       "    <tr>\n",
       "      <th>1816</th>\n",
       "      <td>676606785097199616</td>\n",
       "      <td>2015-12-15 03:36:42</td>\n",
       "      <td>&lt;a href=\"http://twitter.com/download/iphone\" r...</td>\n",
       "      <td>*screeches for a sec and then faints* 12/10 ht...</td>\n",
       "      <td>https://twitter.com/dog_rates/status/676606785...</td>\n",
       "      <td>12</td>\n",
       "      <td>10</td>\n",
       "      <td>None</td>\n",
       "      <td>https://pbs.twimg.com/media/CWPKSGpWcAQN6mw.jpg</td>\n",
       "      <td>1.0</td>\n",
       "      <td>490.0</td>\n",
       "      <td>2039.0</td>\n",
       "      <td>None</td>\n",
       "      <td>malinois</td>\n",
       "      <td>0.142300</td>\n",
       "    </tr>\n",
       "    <tr>\n",
       "      <th>2020</th>\n",
       "      <td>672095186491711488</td>\n",
       "      <td>2015-12-02 16:49:14</td>\n",
       "      <td>&lt;a href=\"http://twitter.com/download/iphone\" r...</td>\n",
       "      <td>This is Tuco. That's the toast that killed his...</td>\n",
       "      <td>https://twitter.com/dog_rates/status/672095186...</td>\n",
       "      <td>9</td>\n",
       "      <td>10</td>\n",
       "      <td>Tuco</td>\n",
       "      <td>https://pbs.twimg.com/media/CVPDAR9XIAAm8QB.jpg</td>\n",
       "      <td>1.0</td>\n",
       "      <td>395.0</td>\n",
       "      <td>1063.0</td>\n",
       "      <td>None</td>\n",
       "      <td>French_bulldog</td>\n",
       "      <td>0.140796</td>\n",
       "    </tr>\n",
       "    <tr>\n",
       "      <th>1560</th>\n",
       "      <td>688519176466644993</td>\n",
       "      <td>2016-01-17 00:32:18</td>\n",
       "      <td>&lt;a href=\"http://twitter.com/download/iphone\" r...</td>\n",
       "      <td>This pupper is sprouting a flower out of her h...</td>\n",
       "      <td>https://twitter.com/dog_rates/status/688519176...</td>\n",
       "      <td>12</td>\n",
       "      <td>10</td>\n",
       "      <td>None</td>\n",
       "      <td>https://pbs.twimg.com/media/CY4ciRFUMAAovos.jpg</td>\n",
       "      <td>1.0</td>\n",
       "      <td>825.0</td>\n",
       "      <td>2520.0</td>\n",
       "      <td>pupper</td>\n",
       "      <td>Cardigan</td>\n",
       "      <td>0.121052</td>\n",
       "    </tr>\n",
       "    <tr>\n",
       "      <th>639</th>\n",
       "      <td>793256262322548741</td>\n",
       "      <td>2016-11-01 01:00:05</td>\n",
       "      <td>&lt;a href=\"http://twitter.com/download/iphone\" r...</td>\n",
       "      <td>Oh h*ck look at this spookling right here. Fri...</td>\n",
       "      <td>https://twitter.com/dog_rates/status/793256262...</td>\n",
       "      <td>12</td>\n",
       "      <td>10</td>\n",
       "      <td>None</td>\n",
       "      <td>https://pbs.twimg.com/media/CwI2XCvXEAEO8mc.jpg</td>\n",
       "      <td>1.0</td>\n",
       "      <td>9714.0</td>\n",
       "      <td>22350.0</td>\n",
       "      <td>None</td>\n",
       "      <td>Walker_hound</td>\n",
       "      <td>0.060574</td>\n",
       "    </tr>\n",
       "    <tr>\n",
       "      <th>2057</th>\n",
       "      <td>671355857343524864</td>\n",
       "      <td>2015-11-30 15:51:24</td>\n",
       "      <td>&lt;a href=\"http://twitter.com/download/iphone\" r...</td>\n",
       "      <td>This is Lou. He's a Petrarch Sunni Pinto. Well...</td>\n",
       "      <td>https://twitter.com/dog_rates/status/671355857...</td>\n",
       "      <td>10</td>\n",
       "      <td>10</td>\n",
       "      <td>Lou</td>\n",
       "      <td>https://pbs.twimg.com/media/CVEilyCUwAETbJ-.jpg</td>\n",
       "      <td>1.0</td>\n",
       "      <td>119.0</td>\n",
       "      <td>508.0</td>\n",
       "      <td>None</td>\n",
       "      <td>toy_poodle</td>\n",
       "      <td>0.165585</td>\n",
       "    </tr>\n",
       "    <tr>\n",
       "      <th>2224</th>\n",
       "      <td>668291999406125056</td>\n",
       "      <td>2015-11-22 04:56:43</td>\n",
       "      <td>&lt;a href=\"http://twitter.com/download/iphone\" r...</td>\n",
       "      <td>I can't do better than he did. 10/10 https://t...</td>\n",
       "      <td>https://twitter.com/dog_rates/status/668291999...</td>\n",
       "      <td>10</td>\n",
       "      <td>10</td>\n",
       "      <td>None</td>\n",
       "      <td>https://pbs.twimg.com/media/CUZABzGW4AE5F0k.jpg</td>\n",
       "      <td>1.0</td>\n",
       "      <td>34.0</td>\n",
       "      <td>264.0</td>\n",
       "      <td>None</td>\n",
       "      <td>no_prediction</td>\n",
       "      <td>0.000000</td>\n",
       "    </tr>\n",
       "    <tr>\n",
       "      <th>624</th>\n",
       "      <td>795464331001561088</td>\n",
       "      <td>2016-11-07 03:14:10</td>\n",
       "      <td>&lt;a href=\"http://twitter.com/download/iphone\" r...</td>\n",
       "      <td>Elder doggo does a splash. Both 13/10 incredib...</td>\n",
       "      <td>https://twitter.com/dog_rates/status/795464331...</td>\n",
       "      <td>13</td>\n",
       "      <td>10</td>\n",
       "      <td>None</td>\n",
       "      <td>https://pbs.twimg.com/ext_tw_video_thumb/79546...</td>\n",
       "      <td>1.0</td>\n",
       "      <td>27728.0</td>\n",
       "      <td>55683.0</td>\n",
       "      <td>doggo</td>\n",
       "      <td>Chesapeake_Bay_retriever</td>\n",
       "      <td>0.157927</td>\n",
       "    </tr>\n",
       "    <tr>\n",
       "      <th>620</th>\n",
       "      <td>796125600683540480</td>\n",
       "      <td>2016-11-08 23:01:49</td>\n",
       "      <td>&lt;a href=\"http://twitter.com/download/iphone\" r...</td>\n",
       "      <td>#ImWithThor 13/10\\nhttps://t.co/a18mzkhTf6</td>\n",
       "      <td>https://twitter.com/king5seattle/status/796123...</td>\n",
       "      <td>13</td>\n",
       "      <td>10</td>\n",
       "      <td>None</td>\n",
       "      <td>NaN</td>\n",
       "      <td>NaN</td>\n",
       "      <td>2079.0</td>\n",
       "      <td>5511.0</td>\n",
       "      <td>None</td>\n",
       "      <td>no_prediction</td>\n",
       "      <td>0.000000</td>\n",
       "    </tr>\n",
       "    <tr>\n",
       "      <th>761</th>\n",
       "      <td>778286810187399168</td>\n",
       "      <td>2016-09-20 17:36:50</td>\n",
       "      <td>&lt;a href=\"http://twitter.com/download/iphone\" r...</td>\n",
       "      <td>This is Stanley. He has too much skin. Isn't h...</td>\n",
       "      <td>https://twitter.com/dog_rates/status/778286810...</td>\n",
       "      <td>11</td>\n",
       "      <td>10</td>\n",
       "      <td>Stanley</td>\n",
       "      <td>https://pbs.twimg.com/media/Cs0HuUTWcAUpSE8.jpg</td>\n",
       "      <td>1.0</td>\n",
       "      <td>3836.0</td>\n",
       "      <td>11576.0</td>\n",
       "      <td>None</td>\n",
       "      <td>pug</td>\n",
       "      <td>0.229903</td>\n",
       "    </tr>\n",
       "    <tr>\n",
       "      <th>714</th>\n",
       "      <td>784057939640352768</td>\n",
       "      <td>2016-10-06 15:49:14</td>\n",
       "      <td>&lt;a href=\"http://vine.co\" rel=\"nofollow\"&gt;Vine -...</td>\n",
       "      <td>This is Balto. He's very content. Legendary to...</td>\n",
       "      <td>https://vine.co/v/5gKxeUpuKEr</td>\n",
       "      <td>12</td>\n",
       "      <td>10</td>\n",
       "      <td>Balto</td>\n",
       "      <td>NaN</td>\n",
       "      <td>NaN</td>\n",
       "      <td>12953.0</td>\n",
       "      <td>33505.0</td>\n",
       "      <td>None</td>\n",
       "      <td>no_prediction</td>\n",
       "      <td>0.000000</td>\n",
       "    </tr>\n",
       "    <tr>\n",
       "      <th>849</th>\n",
       "      <td>766008592277377025</td>\n",
       "      <td>2016-08-17 20:27:34</td>\n",
       "      <td>&lt;a href=\"http://twitter.com/download/iphone\" r...</td>\n",
       "      <td>This is Angel. She stole the @ShopWeRateDogs s...</td>\n",
       "      <td>https://twitter.com/dog_rates/status/766008592...</td>\n",
       "      <td>11</td>\n",
       "      <td>10</td>\n",
       "      <td>Angel</td>\n",
       "      <td>https://pbs.twimg.com/media/CqFouXOXYAAYpzG.jpg</td>\n",
       "      <td>1.0</td>\n",
       "      <td>571.0</td>\n",
       "      <td>4149.0</td>\n",
       "      <td>None</td>\n",
       "      <td>basset</td>\n",
       "      <td>0.103842</td>\n",
       "    </tr>\n",
       "    <tr>\n",
       "      <th>974</th>\n",
       "      <td>750056684286914561</td>\n",
       "      <td>2016-07-04 20:00:23</td>\n",
       "      <td>&lt;a href=\"https://about.twitter.com/products/tw...</td>\n",
       "      <td>This is Jameson. He had a few too many in the ...</td>\n",
       "      <td>https://twitter.com/dog_rates/status/750056684...</td>\n",
       "      <td>11</td>\n",
       "      <td>10</td>\n",
       "      <td>Jameson</td>\n",
       "      <td>https://pbs.twimg.com/media/Cmfx2oNW8AAGg4H.jpg</td>\n",
       "      <td>1.0</td>\n",
       "      <td>1011.0</td>\n",
       "      <td>3444.0</td>\n",
       "      <td>None</td>\n",
       "      <td>borzoi</td>\n",
       "      <td>0.263550</td>\n",
       "    </tr>\n",
       "    <tr>\n",
       "      <th>771</th>\n",
       "      <td>776813020089548800</td>\n",
       "      <td>2016-09-16 16:00:31</td>\n",
       "      <td>&lt;a href=\"http://twitter.com/download/iphone\" r...</td>\n",
       "      <td>Meet Solomon. He was arrested for possession o...</td>\n",
       "      <td>https://twitter.com/dog_rates/status/776813020...</td>\n",
       "      <td>12</td>\n",
       "      <td>10</td>\n",
       "      <td>Solomon</td>\n",
       "      <td>https://pbs.twimg.com/media/CsfLUDbXEAAu0VF.jpg</td>\n",
       "      <td>1.0</td>\n",
       "      <td>1405.0</td>\n",
       "      <td>5444.0</td>\n",
       "      <td>None</td>\n",
       "      <td>miniature_poodle</td>\n",
       "      <td>0.255033</td>\n",
       "    </tr>\n",
       "    <tr>\n",
       "      <th>790</th>\n",
       "      <td>773922284943896577</td>\n",
       "      <td>2016-09-08 16:33:46</td>\n",
       "      <td>&lt;a href=\"http://twitter.com/download/iphone\" r...</td>\n",
       "      <td>This is Heinrich (pronounced \"Pat\"). He's a Bo...</td>\n",
       "      <td>https://twitter.com/dog_rates/status/773922284...</td>\n",
       "      <td>12</td>\n",
       "      <td>10</td>\n",
       "      <td>Heinrich</td>\n",
       "      <td>https://pbs.twimg.com/media/Cr2GNdlW8AAbojw.jpg</td>\n",
       "      <td>1.0</td>\n",
       "      <td>1999.0</td>\n",
       "      <td>7110.0</td>\n",
       "      <td>None</td>\n",
       "      <td>Samoyed</td>\n",
       "      <td>0.432158</td>\n",
       "    </tr>\n",
       "    <tr>\n",
       "      <th>260</th>\n",
       "      <td>842892208864923648</td>\n",
       "      <td>2017-03-18 00:15:37</td>\n",
       "      <td>&lt;a href=\"http://twitter.com/download/iphone\" r...</td>\n",
       "      <td>RT @dog_rates: This is Stephan. He just wants ...</td>\n",
       "      <td>https://twitter.com/dog_rates/status/807106840...</td>\n",
       "      <td>13</td>\n",
       "      <td>10</td>\n",
       "      <td>Stephan</td>\n",
       "      <td>https://pbs.twimg.com/ext_tw_video_thumb/80710...</td>\n",
       "      <td>1.0</td>\n",
       "      <td>56625.0</td>\n",
       "      <td>0.0</td>\n",
       "      <td>None</td>\n",
       "      <td>Pomeranian</td>\n",
       "      <td>0.120358</td>\n",
       "    </tr>\n",
       "    <tr>\n",
       "      <th>1879</th>\n",
       "      <td>675015141583413248</td>\n",
       "      <td>2015-12-10 18:12:05</td>\n",
       "      <td>&lt;a href=\"http://twitter.com/download/iphone\" r...</td>\n",
       "      <td>Meet Moe. He's a golden Fetty Woof. Doesn't re...</td>\n",
       "      <td>https://twitter.com/dog_rates/status/675015141...</td>\n",
       "      <td>10</td>\n",
       "      <td>10</td>\n",
       "      <td>Moe</td>\n",
       "      <td>https://pbs.twimg.com/media/CV4iqh5WcAEV1E6.jpg</td>\n",
       "      <td>1.0</td>\n",
       "      <td>1335.0</td>\n",
       "      <td>2918.0</td>\n",
       "      <td>None</td>\n",
       "      <td>golden_retriever</td>\n",
       "      <td>0.258372</td>\n",
       "    </tr>\n",
       "    <tr>\n",
       "      <th>354</th>\n",
       "      <td>831262627380748289</td>\n",
       "      <td>2017-02-13 22:03:49</td>\n",
       "      <td>&lt;a href=\"http://twitter.com/download/iphone\" r...</td>\n",
       "      <td>This is Tucker. He's feeling h*ckin festive an...</td>\n",
       "      <td>https://twitter.com/dog_rates/status/831262627...</td>\n",
       "      <td>12</td>\n",
       "      <td>10</td>\n",
       "      <td>Tucker</td>\n",
       "      <td>https://pbs.twimg.com/media/C4k88lGVMAEKNzb.jpg</td>\n",
       "      <td>1.0</td>\n",
       "      <td>2350.0</td>\n",
       "      <td>13066.0</td>\n",
       "      <td>None</td>\n",
       "      <td>Brittany_spaniel</td>\n",
       "      <td>0.200550</td>\n",
       "    </tr>\n",
       "    <tr>\n",
       "      <th>1823</th>\n",
       "      <td>676533798876651520</td>\n",
       "      <td>2015-12-14 22:46:41</td>\n",
       "      <td>&lt;a href=\"http://twitter.com/download/iphone\" r...</td>\n",
       "      <td>ITSOFLUFFAYYYYY 12/10 https://t.co/bfw13CnuuZ</td>\n",
       "      <td>https://twitter.com/dog_rates/status/676533798...</td>\n",
       "      <td>12</td>\n",
       "      <td>10</td>\n",
       "      <td>None</td>\n",
       "      <td>https://pbs.twimg.com/media/CWOH4s9U8AEtkmQ.jpg</td>\n",
       "      <td>1.0</td>\n",
       "      <td>621.0</td>\n",
       "      <td>2025.0</td>\n",
       "      <td>None</td>\n",
       "      <td>chow</td>\n",
       "      <td>0.265274</td>\n",
       "    </tr>\n",
       "    <tr>\n",
       "      <th>1721</th>\n",
       "      <td>680130881361686529</td>\n",
       "      <td>2015-12-24 21:00:12</td>\n",
       "      <td>&lt;a href=\"http://twitter.com/download/iphone\" r...</td>\n",
       "      <td>This is Reggie. His Santa hat is a little big....</td>\n",
       "      <td>https://twitter.com/dog_rates/status/680130881...</td>\n",
       "      <td>10</td>\n",
       "      <td>10</td>\n",
       "      <td>Reggie</td>\n",
       "      <td>https://pbs.twimg.com/media/CXBPbVtWAAA2Vus.jpg</td>\n",
       "      <td>1.0</td>\n",
       "      <td>1078.0</td>\n",
       "      <td>2519.0</td>\n",
       "      <td>None</td>\n",
       "      <td>West_Highland_white_terrier</td>\n",
       "      <td>0.197897</td>\n",
       "    </tr>\n",
       "    <tr>\n",
       "      <th>1611</th>\n",
       "      <td>685325112850124800</td>\n",
       "      <td>2016-01-08 05:00:14</td>\n",
       "      <td>&lt;a href=\"http://twitter.com/download/iphone\" r...</td>\n",
       "      <td>\"Tristan do not speak to me with that kind of ...</td>\n",
       "      <td>https://twitter.com/dog_rates/status/685325112...</td>\n",
       "      <td>10</td>\n",
       "      <td>10</td>\n",
       "      <td>None</td>\n",
       "      <td>https://pbs.twimg.com/media/CYLDikFWEAAIy1y.jpg</td>\n",
       "      <td>1.0</td>\n",
       "      <td>4535.0</td>\n",
       "      <td>10471.0</td>\n",
       "      <td>None</td>\n",
       "      <td>Labrador_retriever</td>\n",
       "      <td>0.398260</td>\n",
       "    </tr>\n",
       "    <tr>\n",
       "      <th>437</th>\n",
       "      <td>820078625395449857</td>\n",
       "      <td>2017-01-14 01:22:35</td>\n",
       "      <td>&lt;a href=\"http://twitter.com/download/iphone\" r...</td>\n",
       "      <td>I've never wanted to go to a camp more in my e...</td>\n",
       "      <td>https://twitter.com/dog_rates/status/820078625...</td>\n",
       "      <td>12</td>\n",
       "      <td>10</td>\n",
       "      <td>None</td>\n",
       "      <td>https://pbs.twimg.com/media/C2GBJADWIAQvcNb.jpg</td>\n",
       "      <td>3.0</td>\n",
       "      <td>7246.0</td>\n",
       "      <td>21979.0</td>\n",
       "      <td>None</td>\n",
       "      <td>no_prediction</td>\n",
       "      <td>0.000000</td>\n",
       "    </tr>\n",
       "    <tr>\n",
       "      <th>1556</th>\n",
       "      <td>688828561667567616</td>\n",
       "      <td>2016-01-17 21:01:41</td>\n",
       "      <td>&lt;a href=\"http://twitter.com/download/iphone\" r...</td>\n",
       "      <td>Say hello to Brad. His car probably has a spoi...</td>\n",
       "      <td>https://twitter.com/dog_rates/status/688828561...</td>\n",
       "      <td>9</td>\n",
       "      <td>10</td>\n",
       "      <td>Brad</td>\n",
       "      <td>https://pbs.twimg.com/media/CY816snW8AYltrQ.jpg</td>\n",
       "      <td>1.0</td>\n",
       "      <td>420.0</td>\n",
       "      <td>1508.0</td>\n",
       "      <td>None</td>\n",
       "      <td>Cardigan</td>\n",
       "      <td>0.614231</td>\n",
       "    </tr>\n",
       "    <tr>\n",
       "      <th>1685</th>\n",
       "      <td>681654059175129088</td>\n",
       "      <td>2015-12-29 01:52:46</td>\n",
       "      <td>&lt;a href=\"http://twitter.com/download/iphone\" r...</td>\n",
       "      <td>This is Toffee. He's a happy pupper. Appears d...</td>\n",
       "      <td>https://twitter.com/dog_rates/status/681654059...</td>\n",
       "      <td>12</td>\n",
       "      <td>10</td>\n",
       "      <td>Toffee</td>\n",
       "      <td>https://pbs.twimg.com/media/CXW4wGHWsAE_eBD.jpg</td>\n",
       "      <td>1.0</td>\n",
       "      <td>1045.0</td>\n",
       "      <td>2903.0</td>\n",
       "      <td>pupper</td>\n",
       "      <td>chow</td>\n",
       "      <td>0.146892</td>\n",
       "    </tr>\n",
       "    <tr>\n",
       "      <th>312</th>\n",
       "      <td>835264098648616962</td>\n",
       "      <td>2017-02-24 23:04:14</td>\n",
       "      <td>&lt;a href=\"http://twitter.com/download/iphone\" r...</td>\n",
       "      <td>Meet Lola. Her hobbies include being precious ...</td>\n",
       "      <td>https://www.gofundme.com/lolas-life-saving-sur...</td>\n",
       "      <td>12</td>\n",
       "      <td>10</td>\n",
       "      <td>Lola</td>\n",
       "      <td>https://pbs.twimg.com/media/C5d0QtvXMAI_7uz.jpg</td>\n",
       "      <td>2.0</td>\n",
       "      <td>1939.0</td>\n",
       "      <td>8503.0</td>\n",
       "      <td>None</td>\n",
       "      <td>Chesapeake_Bay_retriever</td>\n",
       "      <td>0.087503</td>\n",
       "    </tr>\n",
       "    <tr>\n",
       "      <th>486</th>\n",
       "      <td>814530161257443328</td>\n",
       "      <td>2016-12-29 17:54:58</td>\n",
       "      <td>&lt;a href=\"http://twitter.com/download/iphone\" r...</td>\n",
       "      <td>This is Alf. Someone just rubbed a balloon on ...</td>\n",
       "      <td>https://twitter.com/dog_rates/status/814530161...</td>\n",
       "      <td>12</td>\n",
       "      <td>10</td>\n",
       "      <td>Alf</td>\n",
       "      <td>https://pbs.twimg.com/media/C03K2-VWIAAK1iV.jpg</td>\n",
       "      <td>1.0</td>\n",
       "      <td>2156.0</td>\n",
       "      <td>9629.0</td>\n",
       "      <td>None</td>\n",
       "      <td>toy_poodle</td>\n",
       "      <td>0.265582</td>\n",
       "    </tr>\n",
       "    <tr>\n",
       "      <th>908</th>\n",
       "      <td>757729163776290825</td>\n",
       "      <td>2016-07-26 00:08:05</td>\n",
       "      <td>&lt;a href=\"http://twitter.com/download/iphone\" r...</td>\n",
       "      <td>RT @dog_rates: This is Chompsky. He lives up t...</td>\n",
       "      <td>https://twitter.com/dog_rates/status/679062614...</td>\n",
       "      <td>11</td>\n",
       "      <td>10</td>\n",
       "      <td>Chompsky</td>\n",
       "      <td>https://pbs.twimg.com/media/CWyD2HGUYAQ1Xa7.jpg</td>\n",
       "      <td>2.0</td>\n",
       "      <td>9299.0</td>\n",
       "      <td>0.0</td>\n",
       "      <td>None</td>\n",
       "      <td>schipperke</td>\n",
       "      <td>0.045519</td>\n",
       "    </tr>\n",
       "    <tr>\n",
       "      <th>903</th>\n",
       "      <td>758405701903519748</td>\n",
       "      <td>2016-07-27 20:56:24</td>\n",
       "      <td>&lt;a href=\"http://twitter.com/download/iphone\" r...</td>\n",
       "      <td>This is Odie. He falls asleep wherever he want...</td>\n",
       "      <td>https://twitter.com/dog_rates/status/758405701...</td>\n",
       "      <td>10</td>\n",
       "      <td>10</td>\n",
       "      <td>Odie</td>\n",
       "      <td>https://pbs.twimg.com/media/CoZl9fXWgAMox0n.jpg</td>\n",
       "      <td>4.0</td>\n",
       "      <td>2204.0</td>\n",
       "      <td>5756.0</td>\n",
       "      <td>None</td>\n",
       "      <td>Chesapeake_Bay_retriever</td>\n",
       "      <td>0.702954</td>\n",
       "    </tr>\n",
       "    <tr>\n",
       "      <th>343</th>\n",
       "      <td>832040443403784192</td>\n",
       "      <td>2017-02-16 01:34:34</td>\n",
       "      <td>&lt;a href=\"http://twitter.com/download/iphone\" r...</td>\n",
       "      <td>RT @dog_rates: This is Klein. These pics were ...</td>\n",
       "      <td>https://twitter.com/dog_rates/status/769940425...</td>\n",
       "      <td>12</td>\n",
       "      <td>10</td>\n",
       "      <td>Klein</td>\n",
       "      <td>https://pbs.twimg.com/media/Cq9guJ5WgAADfpF.jpg</td>\n",
       "      <td>1.0</td>\n",
       "      <td>11131.0</td>\n",
       "      <td>0.0</td>\n",
       "      <td>None</td>\n",
       "      <td>Chihuahua</td>\n",
       "      <td>0.155413</td>\n",
       "    </tr>\n",
       "    <tr>\n",
       "      <th>1303</th>\n",
       "      <td>707420581654872064</td>\n",
       "      <td>2016-03-09 04:19:44</td>\n",
       "      <td>&lt;a href=\"http://twitter.com/download/iphone\" r...</td>\n",
       "      <td>This is Keurig. He's a rare dog. Laughs like a...</td>\n",
       "      <td>https://twitter.com/dog_rates/status/707420581...</td>\n",
       "      <td>4</td>\n",
       "      <td>10</td>\n",
       "      <td>Keurig</td>\n",
       "      <td>https://pbs.twimg.com/media/CdFDQVgWIAArslx.jpg</td>\n",
       "      <td>1.0</td>\n",
       "      <td>789.0</td>\n",
       "      <td>2499.0</td>\n",
       "      <td>None</td>\n",
       "      <td>kuvasz</td>\n",
       "      <td>0.149391</td>\n",
       "    </tr>\n",
       "    <tr>\n",
       "      <th>345</th>\n",
       "      <td>831939777352105988</td>\n",
       "      <td>2017-02-15 18:54:34</td>\n",
       "      <td>&lt;a href=\"http://twitter.com/download/iphone\" r...</td>\n",
       "      <td>This is Emanuel. He's a h*ckin rare doggo. Dwe...</td>\n",
       "      <td>https://twitter.com/dog_rates/status/831939777...</td>\n",
       "      <td>12</td>\n",
       "      <td>10</td>\n",
       "      <td>Emanuel</td>\n",
       "      <td>https://pbs.twimg.com/media/C4uk0EWWQAAaZm1.jpg</td>\n",
       "      <td>1.0</td>\n",
       "      <td>7031.0</td>\n",
       "      <td>26404.0</td>\n",
       "      <td>doggo</td>\n",
       "      <td>Pomeranian</td>\n",
       "      <td>0.153862</td>\n",
       "    </tr>\n",
       "    <tr>\n",
       "      <th>2084</th>\n",
       "      <td>670807719151067136</td>\n",
       "      <td>2015-11-29 03:33:17</td>\n",
       "      <td>&lt;a href=\"http://twitter.com/download/iphone\" r...</td>\n",
       "      <td>Say hello to Andy. He can balance on one foot,...</td>\n",
       "      <td>https://twitter.com/dog_rates/status/670807719...</td>\n",
       "      <td>11</td>\n",
       "      <td>10</td>\n",
       "      <td>Andy</td>\n",
       "      <td>https://pbs.twimg.com/media/CU8v-rdXIAId12Z.jpg</td>\n",
       "      <td>1.0</td>\n",
       "      <td>546.0</td>\n",
       "      <td>1234.0</td>\n",
       "      <td>None</td>\n",
       "      <td>Sealyham_terrier</td>\n",
       "      <td>0.013892</td>\n",
       "    </tr>\n",
       "    <tr>\n",
       "      <th>2341</th>\n",
       "      <td>666094000022159362</td>\n",
       "      <td>2015-11-16 03:22:39</td>\n",
       "      <td>&lt;a href=\"http://twitter.com/download/iphone\" r...</td>\n",
       "      <td>This appears to be a Mongolian Presbyterian mi...</td>\n",
       "      <td>https://twitter.com/dog_rates/status/666094000...</td>\n",
       "      <td>9</td>\n",
       "      <td>10</td>\n",
       "      <td>None</td>\n",
       "      <td>https://pbs.twimg.com/media/CT5w9gUW4AAsBNN.jpg</td>\n",
       "      <td>1.0</td>\n",
       "      <td>79.0</td>\n",
       "      <td>169.0</td>\n",
       "      <td>None</td>\n",
       "      <td>German_shepherd</td>\n",
       "      <td>0.078260</td>\n",
       "    </tr>\n",
       "    <tr>\n",
       "      <th>1803</th>\n",
       "      <td>676948236477857792</td>\n",
       "      <td>2015-12-16 02:13:31</td>\n",
       "      <td>&lt;a href=\"http://twitter.com/download/iphone\" r...</td>\n",
       "      <td>This is Karl. Karl thinks he's slick. 6/10 sne...</td>\n",
       "      <td>https://twitter.com/dog_rates/status/676948236...</td>\n",
       "      <td>6</td>\n",
       "      <td>10</td>\n",
       "      <td>Karl</td>\n",
       "      <td>https://pbs.twimg.com/media/CWUA1GFW4AAowiq.jpg</td>\n",
       "      <td>1.0</td>\n",
       "      <td>980.0</td>\n",
       "      <td>2354.0</td>\n",
       "      <td>None</td>\n",
       "      <td>no_prediction</td>\n",
       "      <td>0.000000</td>\n",
       "    </tr>\n",
       "    <tr>\n",
       "      <th>1907</th>\n",
       "      <td>674447403907457024</td>\n",
       "      <td>2015-12-09 04:36:06</td>\n",
       "      <td>&lt;a href=\"http://twitter.com/download/iphone\" r...</td>\n",
       "      <td>This pupper just wants a belly rub. This puppe...</td>\n",
       "      <td>https://twitter.com/dog_rates/status/674447403...</td>\n",
       "      <td>10</td>\n",
       "      <td>10</td>\n",
       "      <td>None</td>\n",
       "      <td>https://pbs.twimg.com/media/CVweVUfW4AACPwI.jpg</td>\n",
       "      <td>1.0</td>\n",
       "      <td>393.0</td>\n",
       "      <td>1137.0</td>\n",
       "      <td>pupper</td>\n",
       "      <td>malinois</td>\n",
       "      <td>0.244649</td>\n",
       "    </tr>\n",
       "    <tr>\n",
       "      <th>2068</th>\n",
       "      <td>671138694582165504</td>\n",
       "      <td>2015-11-30 01:28:28</td>\n",
       "      <td>&lt;a href=\"http://twitter.com/download/iphone\" r...</td>\n",
       "      <td>Me running from commitment. 10/10 https://t.co...</td>\n",
       "      <td>https://twitter.com/dog_rates/status/671138694...</td>\n",
       "      <td>10</td>\n",
       "      <td>10</td>\n",
       "      <td>None</td>\n",
       "      <td>https://pbs.twimg.com/media/CVBdFahXAAAIe5Y.jpg</td>\n",
       "      <td>1.0</td>\n",
       "      <td>448.0</td>\n",
       "      <td>996.0</td>\n",
       "      <td>None</td>\n",
       "      <td>Great_Pyrenees</td>\n",
       "      <td>0.268952</td>\n",
       "    </tr>\n",
       "    <tr>\n",
       "      <th>1357</th>\n",
       "      <td>703407252292673536</td>\n",
       "      <td>2016-02-27 02:32:12</td>\n",
       "      <td>&lt;a href=\"http://twitter.com/download/iphone\" r...</td>\n",
       "      <td>This pupper doesn't understand gates. 10/10 so...</td>\n",
       "      <td>https://twitter.com/dog_rates/status/703407252...</td>\n",
       "      <td>10</td>\n",
       "      <td>10</td>\n",
       "      <td>None</td>\n",
       "      <td>https://pbs.twimg.com/media/CcMBJODUsAI5-A9.jpg</td>\n",
       "      <td>1.0</td>\n",
       "      <td>786.0</td>\n",
       "      <td>2685.0</td>\n",
       "      <td>pupper</td>\n",
       "      <td>no_prediction</td>\n",
       "      <td>0.000000</td>\n",
       "    </tr>\n",
       "    <tr>\n",
       "      <th>121</th>\n",
       "      <td>869596645499047938</td>\n",
       "      <td>2017-05-30 16:49:31</td>\n",
       "      <td>&lt;a href=\"http://twitter.com/download/iphone\" r...</td>\n",
       "      <td>This is Scout. He just graduated. Officially a...</td>\n",
       "      <td>https://twitter.com/dog_rates/status/869596645...</td>\n",
       "      <td>12</td>\n",
       "      <td>10</td>\n",
       "      <td>Scout</td>\n",
       "      <td>https://pbs.twimg.com/media/DBFtiYqWAAAsjj1.jpg</td>\n",
       "      <td>1.0</td>\n",
       "      <td>3327.0</td>\n",
       "      <td>16476.0</td>\n",
       "      <td>doggo</td>\n",
       "      <td>toy_terrier</td>\n",
       "      <td>0.008054</td>\n",
       "    </tr>\n",
       "    <tr>\n",
       "      <th>788</th>\n",
       "      <td>774314403806253056</td>\n",
       "      <td>2016-09-09 18:31:54</td>\n",
       "      <td>&lt;a href=\"http://twitter.com/download/iphone\" r...</td>\n",
       "      <td>I WAS SENT THE ACTUAL DOG IN THE PROFILE PIC B...</td>\n",
       "      <td>https://twitter.com/dog_rates/status/774314403...</td>\n",
       "      <td>14</td>\n",
       "      <td>10</td>\n",
       "      <td>None</td>\n",
       "      <td>https://pbs.twimg.com/media/Cr7q1VxWIAA5Nm7.jpg</td>\n",
       "      <td>3.0</td>\n",
       "      <td>6478.0</td>\n",
       "      <td>24167.0</td>\n",
       "      <td>None</td>\n",
       "      <td>Siberian_husky</td>\n",
       "      <td>0.223067</td>\n",
       "    </tr>\n",
       "    <tr>\n",
       "      <th>78</th>\n",
       "      <td>877611172832227328</td>\n",
       "      <td>2017-06-21 19:36:23</td>\n",
       "      <td>&lt;a href=\"http://twitter.com/download/iphone\" r...</td>\n",
       "      <td>RT @rachel2195: @dog_rates the boyfriend and h...</td>\n",
       "      <td>https://twitter.com/rachel2195/status/87685077...</td>\n",
       "      <td>14</td>\n",
       "      <td>10</td>\n",
       "      <td>None</td>\n",
       "      <td>https://pbs.twimg.com/media/DCszHgmW0AAmIpT.jpg</td>\n",
       "      <td>1.0</td>\n",
       "      <td>83.0</td>\n",
       "      <td>0.0</td>\n",
       "      <td>pupper</td>\n",
       "      <td>golden_retriever</td>\n",
       "      <td>0.202907</td>\n",
       "    </tr>\n",
       "    <tr>\n",
       "      <th>2167</th>\n",
       "      <td>669359674819481600</td>\n",
       "      <td>2015-11-25 03:39:17</td>\n",
       "      <td>&lt;a href=\"http://twitter.com/download/iphone\" r...</td>\n",
       "      <td>Meet Saydee. She's a Rochester  Ecclesiastical...</td>\n",
       "      <td>https://twitter.com/dog_rates/status/669359674...</td>\n",
       "      <td>11</td>\n",
       "      <td>10</td>\n",
       "      <td>Saydee</td>\n",
       "      <td>https://pbs.twimg.com/media/CUoLEG3XAAE65I0.jpg</td>\n",
       "      <td>1.0</td>\n",
       "      <td>134.0</td>\n",
       "      <td>390.0</td>\n",
       "      <td>None</td>\n",
       "      <td>German_short-haired_pointer</td>\n",
       "      <td>0.280642</td>\n",
       "    </tr>\n",
       "    <tr>\n",
       "      <th>1715</th>\n",
       "      <td>680221482581123072</td>\n",
       "      <td>2015-12-25 03:00:14</td>\n",
       "      <td>&lt;a href=\"http://twitter.com/download/iphone\" r...</td>\n",
       "      <td>This is CeCe. She's patiently waiting for Sant...</td>\n",
       "      <td>https://twitter.com/dog_rates/status/680221482...</td>\n",
       "      <td>10</td>\n",
       "      <td>10</td>\n",
       "      <td>CeCe</td>\n",
       "      <td>https://pbs.twimg.com/media/CXCh0QZW8AALdXm.jpg</td>\n",
       "      <td>1.0</td>\n",
       "      <td>329.0</td>\n",
       "      <td>1598.0</td>\n",
       "      <td>None</td>\n",
       "      <td>no_prediction</td>\n",
       "      <td>0.000000</td>\n",
       "    </tr>\n",
       "    <tr>\n",
       "      <th>1338</th>\n",
       "      <td>705066031337840642</td>\n",
       "      <td>2016-03-02 16:23:36</td>\n",
       "      <td>&lt;a href=\"http://twitter.com/download/iphone\" r...</td>\n",
       "      <td>This is Reese. He's a Chilean Sohcahtoa. Loves...</td>\n",
       "      <td>https://twitter.com/dog_rates/status/705066031...</td>\n",
       "      <td>12</td>\n",
       "      <td>10</td>\n",
       "      <td>Reese</td>\n",
       "      <td>https://pbs.twimg.com/media/CcjlzRkW0AMqmWg.jpg</td>\n",
       "      <td>1.0</td>\n",
       "      <td>683.0</td>\n",
       "      <td>2378.0</td>\n",
       "      <td>None</td>\n",
       "      <td>Irish_terrier</td>\n",
       "      <td>0.027587</td>\n",
       "    </tr>\n",
       "    <tr>\n",
       "      <th>336</th>\n",
       "      <td>832636094638288896</td>\n",
       "      <td>2017-02-17 17:01:29</td>\n",
       "      <td>&lt;a href=\"http://twitter.com/download/iphone\" r...</td>\n",
       "      <td>This is Orion. He just got back from the denti...</td>\n",
       "      <td>https://twitter.com/dog_rates/status/832636094...</td>\n",
       "      <td>12</td>\n",
       "      <td>10</td>\n",
       "      <td>Orion</td>\n",
       "      <td>https://pbs.twimg.com/media/C44eG7oUMAAA4Ss.jpg</td>\n",
       "      <td>1.0</td>\n",
       "      <td>3220.0</td>\n",
       "      <td>17379.0</td>\n",
       "      <td>None</td>\n",
       "      <td>Siberian_husky</td>\n",
       "      <td>0.252238</td>\n",
       "    </tr>\n",
       "    <tr>\n",
       "      <th>1951</th>\n",
       "      <td>673686845050527744</td>\n",
       "      <td>2015-12-07 02:13:55</td>\n",
       "      <td>&lt;a href=\"http://twitter.com/download/iphone\" r...</td>\n",
       "      <td>This is George. He's upset that the 4th of Jul...</td>\n",
       "      <td>https://twitter.com/dog_rates/status/673686845...</td>\n",
       "      <td>11</td>\n",
       "      <td>10</td>\n",
       "      <td>George</td>\n",
       "      <td>https://pbs.twimg.com/media/CVlqi_AXIAASlcD.jpg</td>\n",
       "      <td>1.0</td>\n",
       "      <td>479.0</td>\n",
       "      <td>1544.0</td>\n",
       "      <td>None</td>\n",
       "      <td>Pekinese</td>\n",
       "      <td>0.185903</td>\n",
       "    </tr>\n",
       "  </tbody>\n",
       "</table>\n",
       "</div>"
      ],
      "text/plain": [
       "                tweet_id           timestamp  \\\n",
       "60    880465832366813184 2017-06-29 16:39:47   \n",
       "636   793500921481273345 2016-11-01 17:12:16   \n",
       "1012  747242308580548608 2016-06-27 01:37:04   \n",
       "226   848690551926992896 2017-04-03 00:16:10   \n",
       "2161  669564461267722241 2015-11-25 17:13:02   \n",
       "1069  740365076218183684 2016-06-08 02:09:24   \n",
       "1816  676606785097199616 2015-12-15 03:36:42   \n",
       "2020  672095186491711488 2015-12-02 16:49:14   \n",
       "1560  688519176466644993 2016-01-17 00:32:18   \n",
       "639   793256262322548741 2016-11-01 01:00:05   \n",
       "2057  671355857343524864 2015-11-30 15:51:24   \n",
       "2224  668291999406125056 2015-11-22 04:56:43   \n",
       "624   795464331001561088 2016-11-07 03:14:10   \n",
       "620   796125600683540480 2016-11-08 23:01:49   \n",
       "761   778286810187399168 2016-09-20 17:36:50   \n",
       "714   784057939640352768 2016-10-06 15:49:14   \n",
       "849   766008592277377025 2016-08-17 20:27:34   \n",
       "974   750056684286914561 2016-07-04 20:00:23   \n",
       "771   776813020089548800 2016-09-16 16:00:31   \n",
       "790   773922284943896577 2016-09-08 16:33:46   \n",
       "260   842892208864923648 2017-03-18 00:15:37   \n",
       "1879  675015141583413248 2015-12-10 18:12:05   \n",
       "354   831262627380748289 2017-02-13 22:03:49   \n",
       "1823  676533798876651520 2015-12-14 22:46:41   \n",
       "1721  680130881361686529 2015-12-24 21:00:12   \n",
       "1611  685325112850124800 2016-01-08 05:00:14   \n",
       "437   820078625395449857 2017-01-14 01:22:35   \n",
       "1556  688828561667567616 2016-01-17 21:01:41   \n",
       "1685  681654059175129088 2015-12-29 01:52:46   \n",
       "312   835264098648616962 2017-02-24 23:04:14   \n",
       "486   814530161257443328 2016-12-29 17:54:58   \n",
       "908   757729163776290825 2016-07-26 00:08:05   \n",
       "903   758405701903519748 2016-07-27 20:56:24   \n",
       "343   832040443403784192 2017-02-16 01:34:34   \n",
       "1303  707420581654872064 2016-03-09 04:19:44   \n",
       "345   831939777352105988 2017-02-15 18:54:34   \n",
       "2084  670807719151067136 2015-11-29 03:33:17   \n",
       "2341  666094000022159362 2015-11-16 03:22:39   \n",
       "1803  676948236477857792 2015-12-16 02:13:31   \n",
       "1907  674447403907457024 2015-12-09 04:36:06   \n",
       "2068  671138694582165504 2015-11-30 01:28:28   \n",
       "1357  703407252292673536 2016-02-27 02:32:12   \n",
       "121   869596645499047938 2017-05-30 16:49:31   \n",
       "788   774314403806253056 2016-09-09 18:31:54   \n",
       "78    877611172832227328 2017-06-21 19:36:23   \n",
       "2167  669359674819481600 2015-11-25 03:39:17   \n",
       "1715  680221482581123072 2015-12-25 03:00:14   \n",
       "1338  705066031337840642 2016-03-02 16:23:36   \n",
       "336   832636094638288896 2017-02-17 17:01:29   \n",
       "1951  673686845050527744 2015-12-07 02:13:55   \n",
       "\n",
       "                                                 source  \\\n",
       "60    <a href=\"http://twitter.com/download/iphone\" r...   \n",
       "636   <a href=\"http://twitter.com/download/iphone\" r...   \n",
       "1012  <a href=\"http://twitter.com/download/iphone\" r...   \n",
       "226   <a href=\"http://twitter.com/download/iphone\" r...   \n",
       "2161  <a href=\"http://twitter.com/download/iphone\" r...   \n",
       "1069  <a href=\"http://twitter.com/download/iphone\" r...   \n",
       "1816  <a href=\"http://twitter.com/download/iphone\" r...   \n",
       "2020  <a href=\"http://twitter.com/download/iphone\" r...   \n",
       "1560  <a href=\"http://twitter.com/download/iphone\" r...   \n",
       "639   <a href=\"http://twitter.com/download/iphone\" r...   \n",
       "2057  <a href=\"http://twitter.com/download/iphone\" r...   \n",
       "2224  <a href=\"http://twitter.com/download/iphone\" r...   \n",
       "624   <a href=\"http://twitter.com/download/iphone\" r...   \n",
       "620   <a href=\"http://twitter.com/download/iphone\" r...   \n",
       "761   <a href=\"http://twitter.com/download/iphone\" r...   \n",
       "714   <a href=\"http://vine.co\" rel=\"nofollow\">Vine -...   \n",
       "849   <a href=\"http://twitter.com/download/iphone\" r...   \n",
       "974   <a href=\"https://about.twitter.com/products/tw...   \n",
       "771   <a href=\"http://twitter.com/download/iphone\" r...   \n",
       "790   <a href=\"http://twitter.com/download/iphone\" r...   \n",
       "260   <a href=\"http://twitter.com/download/iphone\" r...   \n",
       "1879  <a href=\"http://twitter.com/download/iphone\" r...   \n",
       "354   <a href=\"http://twitter.com/download/iphone\" r...   \n",
       "1823  <a href=\"http://twitter.com/download/iphone\" r...   \n",
       "1721  <a href=\"http://twitter.com/download/iphone\" r...   \n",
       "1611  <a href=\"http://twitter.com/download/iphone\" r...   \n",
       "437   <a href=\"http://twitter.com/download/iphone\" r...   \n",
       "1556  <a href=\"http://twitter.com/download/iphone\" r...   \n",
       "1685  <a href=\"http://twitter.com/download/iphone\" r...   \n",
       "312   <a href=\"http://twitter.com/download/iphone\" r...   \n",
       "486   <a href=\"http://twitter.com/download/iphone\" r...   \n",
       "908   <a href=\"http://twitter.com/download/iphone\" r...   \n",
       "903   <a href=\"http://twitter.com/download/iphone\" r...   \n",
       "343   <a href=\"http://twitter.com/download/iphone\" r...   \n",
       "1303  <a href=\"http://twitter.com/download/iphone\" r...   \n",
       "345   <a href=\"http://twitter.com/download/iphone\" r...   \n",
       "2084  <a href=\"http://twitter.com/download/iphone\" r...   \n",
       "2341  <a href=\"http://twitter.com/download/iphone\" r...   \n",
       "1803  <a href=\"http://twitter.com/download/iphone\" r...   \n",
       "1907  <a href=\"http://twitter.com/download/iphone\" r...   \n",
       "2068  <a href=\"http://twitter.com/download/iphone\" r...   \n",
       "1357  <a href=\"http://twitter.com/download/iphone\" r...   \n",
       "121   <a href=\"http://twitter.com/download/iphone\" r...   \n",
       "788   <a href=\"http://twitter.com/download/iphone\" r...   \n",
       "78    <a href=\"http://twitter.com/download/iphone\" r...   \n",
       "2167  <a href=\"http://twitter.com/download/iphone\" r...   \n",
       "1715  <a href=\"http://twitter.com/download/iphone\" r...   \n",
       "1338  <a href=\"http://twitter.com/download/iphone\" r...   \n",
       "336   <a href=\"http://twitter.com/download/iphone\" r...   \n",
       "1951  <a href=\"http://twitter.com/download/iphone\" r...   \n",
       "\n",
       "                                                   text  \\\n",
       "60    This is Bella. She had her first beach experie...   \n",
       "636   This is Fiona. She's an extremely mediocre cop...   \n",
       "1012  RT @dog_rates: This pupper killed this great w...   \n",
       "226   Please stop sending in animals other than dogs...   \n",
       "2161  This is a Coriander Baton Rouge named Alfredo....   \n",
       "1069  When the photographer forgets to tell you wher...   \n",
       "1816  *screeches for a sec and then faints* 12/10 ht...   \n",
       "2020  This is Tuco. That's the toast that killed his...   \n",
       "1560  This pupper is sprouting a flower out of her h...   \n",
       "639   Oh h*ck look at this spookling right here. Fri...   \n",
       "2057  This is Lou. He's a Petrarch Sunni Pinto. Well...   \n",
       "2224  I can't do better than he did. 10/10 https://t...   \n",
       "624   Elder doggo does a splash. Both 13/10 incredib...   \n",
       "620          #ImWithThor 13/10\\nhttps://t.co/a18mzkhTf6   \n",
       "761   This is Stanley. He has too much skin. Isn't h...   \n",
       "714   This is Balto. He's very content. Legendary to...   \n",
       "849   This is Angel. She stole the @ShopWeRateDogs s...   \n",
       "974   This is Jameson. He had a few too many in the ...   \n",
       "771   Meet Solomon. He was arrested for possession o...   \n",
       "790   This is Heinrich (pronounced \"Pat\"). He's a Bo...   \n",
       "260   RT @dog_rates: This is Stephan. He just wants ...   \n",
       "1879  Meet Moe. He's a golden Fetty Woof. Doesn't re...   \n",
       "354   This is Tucker. He's feeling h*ckin festive an...   \n",
       "1823      ITSOFLUFFAYYYYY 12/10 https://t.co/bfw13CnuuZ   \n",
       "1721  This is Reggie. His Santa hat is a little big....   \n",
       "1611  \"Tristan do not speak to me with that kind of ...   \n",
       "437   I've never wanted to go to a camp more in my e...   \n",
       "1556  Say hello to Brad. His car probably has a spoi...   \n",
       "1685  This is Toffee. He's a happy pupper. Appears d...   \n",
       "312   Meet Lola. Her hobbies include being precious ...   \n",
       "486   This is Alf. Someone just rubbed a balloon on ...   \n",
       "908   RT @dog_rates: This is Chompsky. He lives up t...   \n",
       "903   This is Odie. He falls asleep wherever he want...   \n",
       "343   RT @dog_rates: This is Klein. These pics were ...   \n",
       "1303  This is Keurig. He's a rare dog. Laughs like a...   \n",
       "345   This is Emanuel. He's a h*ckin rare doggo. Dwe...   \n",
       "2084  Say hello to Andy. He can balance on one foot,...   \n",
       "2341  This appears to be a Mongolian Presbyterian mi...   \n",
       "1803  This is Karl. Karl thinks he's slick. 6/10 sne...   \n",
       "1907  This pupper just wants a belly rub. This puppe...   \n",
       "2068  Me running from commitment. 10/10 https://t.co...   \n",
       "1357  This pupper doesn't understand gates. 10/10 so...   \n",
       "121   This is Scout. He just graduated. Officially a...   \n",
       "788   I WAS SENT THE ACTUAL DOG IN THE PROFILE PIC B...   \n",
       "78    RT @rachel2195: @dog_rates the boyfriend and h...   \n",
       "2167  Meet Saydee. She's a Rochester  Ecclesiastical...   \n",
       "1715  This is CeCe. She's patiently waiting for Sant...   \n",
       "1338  This is Reese. He's a Chilean Sohcahtoa. Loves...   \n",
       "336   This is Orion. He just got back from the denti...   \n",
       "1951  This is George. He's upset that the 4th of Jul...   \n",
       "\n",
       "                                          expanded_urls  rating_numerator  \\\n",
       "60    https://twitter.com/dog_rates/status/880465832...                12   \n",
       "636   https://twitter.com/dog_rates/status/793500921...                12   \n",
       "1012  https://twitter.com/dog_rates/status/704761120...                13   \n",
       "226   https://twitter.com/dog_rates/status/848690551...                12   \n",
       "2161  https://twitter.com/dog_rates/status/669564461...                10   \n",
       "1069  https://twitter.com/dog_rates/status/740365076...                10   \n",
       "1816  https://twitter.com/dog_rates/status/676606785...                12   \n",
       "2020  https://twitter.com/dog_rates/status/672095186...                 9   \n",
       "1560  https://twitter.com/dog_rates/status/688519176...                12   \n",
       "639   https://twitter.com/dog_rates/status/793256262...                12   \n",
       "2057  https://twitter.com/dog_rates/status/671355857...                10   \n",
       "2224  https://twitter.com/dog_rates/status/668291999...                10   \n",
       "624   https://twitter.com/dog_rates/status/795464331...                13   \n",
       "620   https://twitter.com/king5seattle/status/796123...                13   \n",
       "761   https://twitter.com/dog_rates/status/778286810...                11   \n",
       "714                       https://vine.co/v/5gKxeUpuKEr                12   \n",
       "849   https://twitter.com/dog_rates/status/766008592...                11   \n",
       "974   https://twitter.com/dog_rates/status/750056684...                11   \n",
       "771   https://twitter.com/dog_rates/status/776813020...                12   \n",
       "790   https://twitter.com/dog_rates/status/773922284...                12   \n",
       "260   https://twitter.com/dog_rates/status/807106840...                13   \n",
       "1879  https://twitter.com/dog_rates/status/675015141...                10   \n",
       "354   https://twitter.com/dog_rates/status/831262627...                12   \n",
       "1823  https://twitter.com/dog_rates/status/676533798...                12   \n",
       "1721  https://twitter.com/dog_rates/status/680130881...                10   \n",
       "1611  https://twitter.com/dog_rates/status/685325112...                10   \n",
       "437   https://twitter.com/dog_rates/status/820078625...                12   \n",
       "1556  https://twitter.com/dog_rates/status/688828561...                 9   \n",
       "1685  https://twitter.com/dog_rates/status/681654059...                12   \n",
       "312   https://www.gofundme.com/lolas-life-saving-sur...                12   \n",
       "486   https://twitter.com/dog_rates/status/814530161...                12   \n",
       "908   https://twitter.com/dog_rates/status/679062614...                11   \n",
       "903   https://twitter.com/dog_rates/status/758405701...                10   \n",
       "343   https://twitter.com/dog_rates/status/769940425...                12   \n",
       "1303  https://twitter.com/dog_rates/status/707420581...                 4   \n",
       "345   https://twitter.com/dog_rates/status/831939777...                12   \n",
       "2084  https://twitter.com/dog_rates/status/670807719...                11   \n",
       "2341  https://twitter.com/dog_rates/status/666094000...                 9   \n",
       "1803  https://twitter.com/dog_rates/status/676948236...                 6   \n",
       "1907  https://twitter.com/dog_rates/status/674447403...                10   \n",
       "2068  https://twitter.com/dog_rates/status/671138694...                10   \n",
       "1357  https://twitter.com/dog_rates/status/703407252...                10   \n",
       "121   https://twitter.com/dog_rates/status/869596645...                12   \n",
       "788   https://twitter.com/dog_rates/status/774314403...                14   \n",
       "78    https://twitter.com/rachel2195/status/87685077...                14   \n",
       "2167  https://twitter.com/dog_rates/status/669359674...                11   \n",
       "1715  https://twitter.com/dog_rates/status/680221482...                10   \n",
       "1338  https://twitter.com/dog_rates/status/705066031...                12   \n",
       "336   https://twitter.com/dog_rates/status/832636094...                12   \n",
       "1951  https://twitter.com/dog_rates/status/673686845...                11   \n",
       "\n",
       "      rating_denominator      name  \\\n",
       "60                    10     Bella   \n",
       "636                   10     Fiona   \n",
       "1012                  10      None   \n",
       "226                   10      None   \n",
       "2161                  10         a   \n",
       "1069                  10      None   \n",
       "1816                  10      None   \n",
       "2020                  10      Tuco   \n",
       "1560                  10      None   \n",
       "639                   10      None   \n",
       "2057                  10       Lou   \n",
       "2224                  10      None   \n",
       "624                   10      None   \n",
       "620                   10      None   \n",
       "761                   10   Stanley   \n",
       "714                   10     Balto   \n",
       "849                   10     Angel   \n",
       "974                   10   Jameson   \n",
       "771                   10   Solomon   \n",
       "790                   10  Heinrich   \n",
       "260                   10   Stephan   \n",
       "1879                  10       Moe   \n",
       "354                   10    Tucker   \n",
       "1823                  10      None   \n",
       "1721                  10    Reggie   \n",
       "1611                  10      None   \n",
       "437                   10      None   \n",
       "1556                  10      Brad   \n",
       "1685                  10    Toffee   \n",
       "312                   10      Lola   \n",
       "486                   10       Alf   \n",
       "908                   10  Chompsky   \n",
       "903                   10      Odie   \n",
       "343                   10     Klein   \n",
       "1303                  10    Keurig   \n",
       "345                   10   Emanuel   \n",
       "2084                  10      Andy   \n",
       "2341                  10      None   \n",
       "1803                  10      Karl   \n",
       "1907                  10      None   \n",
       "2068                  10      None   \n",
       "1357                  10      None   \n",
       "121                   10     Scout   \n",
       "788                   10      None   \n",
       "78                    10      None   \n",
       "2167                  10    Saydee   \n",
       "1715                  10      CeCe   \n",
       "1338                  10     Reese   \n",
       "336                   10     Orion   \n",
       "1951                  10    George   \n",
       "\n",
       "                                                jpg_url  img_num  \\\n",
       "60      https://pbs.twimg.com/media/DDgK-J4XUAIEV9W.jpg      1.0   \n",
       "636     https://pbs.twimg.com/media/CwMU34YWIAAz1nU.jpg      2.0   \n",
       "1012                                                NaN      NaN   \n",
       "226     https://pbs.twimg.com/media/C8cnjHuXsAAoZQf.jpg      1.0   \n",
       "2161    https://pbs.twimg.com/media/CUrFUvDVAAA9H-F.jpg      1.0   \n",
       "1069    https://pbs.twimg.com/media/CkZOGhJWsAAHvPv.jpg      1.0   \n",
       "1816    https://pbs.twimg.com/media/CWPKSGpWcAQN6mw.jpg      1.0   \n",
       "2020    https://pbs.twimg.com/media/CVPDAR9XIAAm8QB.jpg      1.0   \n",
       "1560    https://pbs.twimg.com/media/CY4ciRFUMAAovos.jpg      1.0   \n",
       "639     https://pbs.twimg.com/media/CwI2XCvXEAEO8mc.jpg      1.0   \n",
       "2057    https://pbs.twimg.com/media/CVEilyCUwAETbJ-.jpg      1.0   \n",
       "2224    https://pbs.twimg.com/media/CUZABzGW4AE5F0k.jpg      1.0   \n",
       "624   https://pbs.twimg.com/ext_tw_video_thumb/79546...      1.0   \n",
       "620                                                 NaN      NaN   \n",
       "761     https://pbs.twimg.com/media/Cs0HuUTWcAUpSE8.jpg      1.0   \n",
       "714                                                 NaN      NaN   \n",
       "849     https://pbs.twimg.com/media/CqFouXOXYAAYpzG.jpg      1.0   \n",
       "974     https://pbs.twimg.com/media/Cmfx2oNW8AAGg4H.jpg      1.0   \n",
       "771     https://pbs.twimg.com/media/CsfLUDbXEAAu0VF.jpg      1.0   \n",
       "790     https://pbs.twimg.com/media/Cr2GNdlW8AAbojw.jpg      1.0   \n",
       "260   https://pbs.twimg.com/ext_tw_video_thumb/80710...      1.0   \n",
       "1879    https://pbs.twimg.com/media/CV4iqh5WcAEV1E6.jpg      1.0   \n",
       "354     https://pbs.twimg.com/media/C4k88lGVMAEKNzb.jpg      1.0   \n",
       "1823    https://pbs.twimg.com/media/CWOH4s9U8AEtkmQ.jpg      1.0   \n",
       "1721    https://pbs.twimg.com/media/CXBPbVtWAAA2Vus.jpg      1.0   \n",
       "1611    https://pbs.twimg.com/media/CYLDikFWEAAIy1y.jpg      1.0   \n",
       "437     https://pbs.twimg.com/media/C2GBJADWIAQvcNb.jpg      3.0   \n",
       "1556    https://pbs.twimg.com/media/CY816snW8AYltrQ.jpg      1.0   \n",
       "1685    https://pbs.twimg.com/media/CXW4wGHWsAE_eBD.jpg      1.0   \n",
       "312     https://pbs.twimg.com/media/C5d0QtvXMAI_7uz.jpg      2.0   \n",
       "486     https://pbs.twimg.com/media/C03K2-VWIAAK1iV.jpg      1.0   \n",
       "908     https://pbs.twimg.com/media/CWyD2HGUYAQ1Xa7.jpg      2.0   \n",
       "903     https://pbs.twimg.com/media/CoZl9fXWgAMox0n.jpg      4.0   \n",
       "343     https://pbs.twimg.com/media/Cq9guJ5WgAADfpF.jpg      1.0   \n",
       "1303    https://pbs.twimg.com/media/CdFDQVgWIAArslx.jpg      1.0   \n",
       "345     https://pbs.twimg.com/media/C4uk0EWWQAAaZm1.jpg      1.0   \n",
       "2084    https://pbs.twimg.com/media/CU8v-rdXIAId12Z.jpg      1.0   \n",
       "2341    https://pbs.twimg.com/media/CT5w9gUW4AAsBNN.jpg      1.0   \n",
       "1803    https://pbs.twimg.com/media/CWUA1GFW4AAowiq.jpg      1.0   \n",
       "1907    https://pbs.twimg.com/media/CVweVUfW4AACPwI.jpg      1.0   \n",
       "2068    https://pbs.twimg.com/media/CVBdFahXAAAIe5Y.jpg      1.0   \n",
       "1357    https://pbs.twimg.com/media/CcMBJODUsAI5-A9.jpg      1.0   \n",
       "121     https://pbs.twimg.com/media/DBFtiYqWAAAsjj1.jpg      1.0   \n",
       "788     https://pbs.twimg.com/media/Cr7q1VxWIAA5Nm7.jpg      3.0   \n",
       "78      https://pbs.twimg.com/media/DCszHgmW0AAmIpT.jpg      1.0   \n",
       "2167    https://pbs.twimg.com/media/CUoLEG3XAAE65I0.jpg      1.0   \n",
       "1715    https://pbs.twimg.com/media/CXCh0QZW8AALdXm.jpg      1.0   \n",
       "1338    https://pbs.twimg.com/media/CcjlzRkW0AMqmWg.jpg      1.0   \n",
       "336     https://pbs.twimg.com/media/C44eG7oUMAAA4Ss.jpg      1.0   \n",
       "1951    https://pbs.twimg.com/media/CVlqi_AXIAASlcD.jpg      1.0   \n",
       "\n",
       "      retweet_count  favorite_count   stage                   prediction  \\\n",
       "60           6546.0         29075.0    None           Labrador_retriever   \n",
       "636          2786.0         11953.0    None           Labrador_retriever   \n",
       "1012         3257.0             0.0  pupper                no_prediction   \n",
       "226          4826.0         27104.0    None                 Newfoundland   \n",
       "2161          133.0           413.0    None             miniature_poodle   \n",
       "1069          495.0          2727.0    None                no_prediction   \n",
       "1816          490.0          2039.0    None                     malinois   \n",
       "2020          395.0          1063.0    None               French_bulldog   \n",
       "1560          825.0          2520.0  pupper                     Cardigan   \n",
       "639          9714.0         22350.0    None                 Walker_hound   \n",
       "2057          119.0           508.0    None                   toy_poodle   \n",
       "2224           34.0           264.0    None                no_prediction   \n",
       "624         27728.0         55683.0   doggo     Chesapeake_Bay_retriever   \n",
       "620          2079.0          5511.0    None                no_prediction   \n",
       "761          3836.0         11576.0    None                          pug   \n",
       "714         12953.0         33505.0    None                no_prediction   \n",
       "849           571.0          4149.0    None                       basset   \n",
       "974          1011.0          3444.0    None                       borzoi   \n",
       "771          1405.0          5444.0    None             miniature_poodle   \n",
       "790          1999.0          7110.0    None                      Samoyed   \n",
       "260         56625.0             0.0    None                   Pomeranian   \n",
       "1879         1335.0          2918.0    None             golden_retriever   \n",
       "354          2350.0         13066.0    None             Brittany_spaniel   \n",
       "1823          621.0          2025.0    None                         chow   \n",
       "1721         1078.0          2519.0    None  West_Highland_white_terrier   \n",
       "1611         4535.0         10471.0    None           Labrador_retriever   \n",
       "437          7246.0         21979.0    None                no_prediction   \n",
       "1556          420.0          1508.0    None                     Cardigan   \n",
       "1685         1045.0          2903.0  pupper                         chow   \n",
       "312          1939.0          8503.0    None     Chesapeake_Bay_retriever   \n",
       "486          2156.0          9629.0    None                   toy_poodle   \n",
       "908          9299.0             0.0    None                   schipperke   \n",
       "903          2204.0          5756.0    None     Chesapeake_Bay_retriever   \n",
       "343         11131.0             0.0    None                    Chihuahua   \n",
       "1303          789.0          2499.0    None                       kuvasz   \n",
       "345          7031.0         26404.0   doggo                   Pomeranian   \n",
       "2084          546.0          1234.0    None             Sealyham_terrier   \n",
       "2341           79.0           169.0    None              German_shepherd   \n",
       "1803          980.0          2354.0    None                no_prediction   \n",
       "1907          393.0          1137.0  pupper                     malinois   \n",
       "2068          448.0           996.0    None               Great_Pyrenees   \n",
       "1357          786.0          2685.0  pupper                no_prediction   \n",
       "121          3327.0         16476.0   doggo                  toy_terrier   \n",
       "788          6478.0         24167.0    None               Siberian_husky   \n",
       "78             83.0             0.0  pupper             golden_retriever   \n",
       "2167          134.0           390.0    None  German_short-haired_pointer   \n",
       "1715          329.0          1598.0    None                no_prediction   \n",
       "1338          683.0          2378.0    None                Irish_terrier   \n",
       "336          3220.0         17379.0    None               Siberian_husky   \n",
       "1951          479.0          1544.0    None                     Pekinese   \n",
       "\n",
       "      confidence  \n",
       "60      0.026329  \n",
       "636     0.219904  \n",
       "1012    0.000000  \n",
       "226     0.100571  \n",
       "2161    0.259920  \n",
       "1069    0.000000  \n",
       "1816    0.142300  \n",
       "2020    0.140796  \n",
       "1560    0.121052  \n",
       "639     0.060574  \n",
       "2057    0.165585  \n",
       "2224    0.000000  \n",
       "624     0.157927  \n",
       "620     0.000000  \n",
       "761     0.229903  \n",
       "714     0.000000  \n",
       "849     0.103842  \n",
       "974     0.263550  \n",
       "771     0.255033  \n",
       "790     0.432158  \n",
       "260     0.120358  \n",
       "1879    0.258372  \n",
       "354     0.200550  \n",
       "1823    0.265274  \n",
       "1721    0.197897  \n",
       "1611    0.398260  \n",
       "437     0.000000  \n",
       "1556    0.614231  \n",
       "1685    0.146892  \n",
       "312     0.087503  \n",
       "486     0.265582  \n",
       "908     0.045519  \n",
       "903     0.702954  \n",
       "343     0.155413  \n",
       "1303    0.149391  \n",
       "345     0.153862  \n",
       "2084    0.013892  \n",
       "2341    0.078260  \n",
       "1803    0.000000  \n",
       "1907    0.244649  \n",
       "2068    0.268952  \n",
       "1357    0.000000  \n",
       "121     0.008054  \n",
       "788     0.223067  \n",
       "78      0.202907  \n",
       "2167    0.280642  \n",
       "1715    0.000000  \n",
       "1338    0.027587  \n",
       "336     0.252238  \n",
       "1951    0.185903  "
      ]
     },
     "execution_count": 63,
     "metadata": {},
     "output_type": "execute_result"
    }
   ],
   "source": [
    "df_123.sample(50)"
   ]
  },
  {
   "cell_type": "markdown",
   "metadata": {},
   "source": [
    "**Define:** Some of the names seem odd.<br>\n",
    "They include only 'the', 'a', 'an'...!"
   ]
  },
  {
   "cell_type": "code",
   "execution_count": 64,
   "metadata": {},
   "outputs": [
    {
     "name": "stdout",
     "output_type": "stream",
     "text": [
      "There are some odd names as follows with their frequencies\n",
      "a: 54\n",
      "an: 6\n",
      "the: 8\n"
     ]
    }
   ],
   "source": [
    "name_a = df_123[df_123['name']=='a'].shape[0]\n",
    "name_an = df_123[df_123['name']=='an'].shape[0]\n",
    "name_the = df_123[df_123['name']=='the'].shape[0]\n",
    "print('There are some odd names as follows with their frequencies')\n",
    "print('a: {}'.format(name_a))\n",
    "print('an: {}'.format(name_an))\n",
    "print('the: {}'.format(name_the))"
   ]
  },
  {
   "cell_type": "markdown",
   "metadata": {},
   "source": [
    "Either we broke the initial data or the initial data was already broken.<br>\n",
    "Let's check the initial data externally (in excel).<br>\n",
    "<br>\n",
    "***(After visual check in excel)***<br>\n",
    "Yes! The data was initially broken.<br>\n",
    "And there are more odd names: \"quite', 'just', 'very', 'such', 'not', 'actually'!<br>\n",
    "Thus, let's we assign 'None' to these odd namings.<br>"
   ]
  },
  {
   "cell_type": "code",
   "execution_count": 65,
   "metadata": {},
   "outputs": [
    {
     "name": "stderr",
     "output_type": "stream",
     "text": [
      "/opt/conda/lib/python3.6/site-packages/ipykernel_launcher.py:6: SettingWithCopyWarning: \n",
      "A value is trying to be set on a copy of a slice from a DataFrame\n",
      "\n",
      "See the caveats in the documentation: http://pandas.pydata.org/pandas-docs/stable/indexing.html#indexing-view-versus-copy\n",
      "  \n"
     ]
    }
   ],
   "source": [
    "#Code\n",
    "odd_names = ['a','an','the','quite','just','very','such','not','actually']\n",
    "#\n",
    "for name in df_123['name']:\n",
    "    if name in odd_names:\n",
    "        df_123.name[df_123['name']==name] = 'None'"
   ]
  },
  {
   "cell_type": "code",
   "execution_count": 66,
   "metadata": {},
   "outputs": [
    {
     "data": {
      "text/plain": [
       "0"
      ]
     },
     "execution_count": 66,
     "metadata": {},
     "output_type": "execute_result"
    }
   ],
   "source": [
    "#Test\n",
    "df_123[df_123['name']=='the'].shape[0] #should return 0"
   ]
  },
  {
   "cell_type": "markdown",
   "metadata": {},
   "source": [
    "**Define:** There are redundant columns.\n",
    "Master dataframe contains 15 columns and we won't use the following ones:\n",
    "1. source\n",
    "2. expanded_urls\n",
    "3. rating_denominator (we know all equals 10)\n",
    "4. img_num\n",
    "\n",
    "It's a good habit to remove unnecessary columns so as to reduce the size of the data.<br>\n",
    "(Of course we could use those columns for example to show the image of top-10 rated dogs.)"
   ]
  },
  {
   "cell_type": "code",
   "execution_count": 67,
   "metadata": {},
   "outputs": [],
   "source": [
    "#Code\n",
    "df_123.drop(columns=['source', 'expanded_urls', 'rating_denominator', 'img_num'], inplace=True)"
   ]
  },
  {
   "cell_type": "code",
   "execution_count": 68,
   "metadata": {},
   "outputs": [
    {
     "data": {
      "text/plain": [
       "11"
      ]
     },
     "execution_count": 68,
     "metadata": {},
     "output_type": "execute_result"
    }
   ],
   "source": [
    "#Test\n",
    "df_123.shape[1] #should return 11!"
   ]
  },
  {
   "cell_type": "code",
   "execution_count": 69,
   "metadata": {},
   "outputs": [
    {
     "data": {
      "text/html": [
       "<div>\n",
       "<style scoped>\n",
       "    .dataframe tbody tr th:only-of-type {\n",
       "        vertical-align: middle;\n",
       "    }\n",
       "\n",
       "    .dataframe tbody tr th {\n",
       "        vertical-align: top;\n",
       "    }\n",
       "\n",
       "    .dataframe thead th {\n",
       "        text-align: right;\n",
       "    }\n",
       "</style>\n",
       "<table border=\"1\" class=\"dataframe\">\n",
       "  <thead>\n",
       "    <tr style=\"text-align: right;\">\n",
       "      <th></th>\n",
       "      <th>tweet_id</th>\n",
       "      <th>timestamp</th>\n",
       "      <th>text</th>\n",
       "      <th>rating_numerator</th>\n",
       "      <th>name</th>\n",
       "      <th>jpg_url</th>\n",
       "      <th>retweet_count</th>\n",
       "      <th>favorite_count</th>\n",
       "      <th>stage</th>\n",
       "      <th>prediction</th>\n",
       "      <th>confidence</th>\n",
       "    </tr>\n",
       "  </thead>\n",
       "  <tbody>\n",
       "    <tr>\n",
       "      <th>0</th>\n",
       "      <td>892420643555336193</td>\n",
       "      <td>2017-08-01 16:23:56</td>\n",
       "      <td>This is Phineas. He's a mystical boy. Only eve...</td>\n",
       "      <td>13</td>\n",
       "      <td>Phineas</td>\n",
       "      <td>https://pbs.twimg.com/media/DGKD1-bXoAAIAUK.jpg</td>\n",
       "      <td>8853.0</td>\n",
       "      <td>39467.0</td>\n",
       "      <td>None</td>\n",
       "      <td>no_prediction</td>\n",
       "      <td>0.000000</td>\n",
       "    </tr>\n",
       "    <tr>\n",
       "      <th>1</th>\n",
       "      <td>892177421306343426</td>\n",
       "      <td>2017-08-01 00:17:27</td>\n",
       "      <td>This is Tilly. She's just checking pup on you....</td>\n",
       "      <td>13</td>\n",
       "      <td>Tilly</td>\n",
       "      <td>https://pbs.twimg.com/media/DGGmoV4XsAAUL6n.jpg</td>\n",
       "      <td>6514.0</td>\n",
       "      <td>33819.0</td>\n",
       "      <td>None</td>\n",
       "      <td>Pekinese</td>\n",
       "      <td>0.090647</td>\n",
       "    </tr>\n",
       "  </tbody>\n",
       "</table>\n",
       "</div>"
      ],
      "text/plain": [
       "             tweet_id           timestamp  \\\n",
       "0  892420643555336193 2017-08-01 16:23:56   \n",
       "1  892177421306343426 2017-08-01 00:17:27   \n",
       "\n",
       "                                                text  rating_numerator  \\\n",
       "0  This is Phineas. He's a mystical boy. Only eve...                13   \n",
       "1  This is Tilly. She's just checking pup on you....                13   \n",
       "\n",
       "      name                                          jpg_url  retweet_count  \\\n",
       "0  Phineas  https://pbs.twimg.com/media/DGKD1-bXoAAIAUK.jpg         8853.0   \n",
       "1    Tilly  https://pbs.twimg.com/media/DGGmoV4XsAAUL6n.jpg         6514.0   \n",
       "\n",
       "   favorite_count stage     prediction  confidence  \n",
       "0         39467.0  None  no_prediction    0.000000  \n",
       "1         33819.0  None       Pekinese    0.090647  "
      ]
     },
     "execution_count": 69,
     "metadata": {},
     "output_type": "execute_result"
    }
   ],
   "source": [
    "df_123.head(2)"
   ]
  },
  {
   "cell_type": "code",
   "execution_count": 70,
   "metadata": {},
   "outputs": [
    {
     "name": "stdout",
     "output_type": "stream",
     "text": [
      "<class 'pandas.core.frame.DataFrame'>\n",
      "Int64Index: 2324 entries, 0 to 2355\n",
      "Data columns (total 11 columns):\n",
      "tweet_id            2324 non-null object\n",
      "timestamp           2324 non-null datetime64[ns]\n",
      "text                2324 non-null object\n",
      "rating_numerator    2324 non-null int64\n",
      "name                2324 non-null object\n",
      "jpg_url             2052 non-null object\n",
      "retweet_count       2322 non-null float64\n",
      "favorite_count      2322 non-null float64\n",
      "stage               2324 non-null category\n",
      "prediction          2324 non-null object\n",
      "confidence          2324 non-null float64\n",
      "dtypes: category(1), datetime64[ns](1), float64(3), int64(1), object(5)\n",
      "memory usage: 202.2+ KB\n"
     ]
    }
   ],
   "source": [
    "df_123.info();"
   ]
  },
  {
   "cell_type": "markdown",
   "metadata": {},
   "source": [
    "**Define:** We need an additional column to fullfill to requirements of the research question 1: \"Which dog breeds are popular? Find top-10!\"<br>\n",
    "In order to find the popular dog breeds, we should define the 'popularity' first.\n",
    "We can directly use ratings as a measure of popularity, however in social media popularity comes from sharing (e.g. retweet).\n",
    "Thus, we can use both number of retweets and number of favorites to define 'popularity' as follows:"
   ]
  },
  {
   "cell_type": "code",
   "execution_count": 71,
   "metadata": {},
   "outputs": [
    {
     "ename": "NameError",
     "evalue": "name 'df_123c' is not defined",
     "output_type": "error",
     "traceback": [
      "\u001b[0;31m---------------------------------------------------------------------------\u001b[0m",
      "\u001b[0;31mNameError\u001b[0m                                 Traceback (most recent call last)",
      "\u001b[0;32m<ipython-input-71-30d3976dc01d>\u001b[0m in \u001b[0;36m<module>\u001b[0;34m()\u001b[0m\n\u001b[1;32m      1\u001b[0m \u001b[0;31m#Code\u001b[0m\u001b[0;34m\u001b[0m\u001b[0;34m\u001b[0m\u001b[0m\n\u001b[0;32m----> 2\u001b[0;31m \u001b[0mdf_123c\u001b[0m\u001b[0;34m[\u001b[0m\u001b[0;34m'popularity'\u001b[0m\u001b[0;34m]\u001b[0m \u001b[0;34m=\u001b[0m \u001b[0mdf_123c\u001b[0m\u001b[0;34m[\u001b[0m\u001b[0;34m'favorite_count'\u001b[0m\u001b[0;34m]\u001b[0m \u001b[0;34m+\u001b[0m \u001b[0mdf_123c\u001b[0m\u001b[0;34m[\u001b[0m\u001b[0;34m'retweet_count'\u001b[0m\u001b[0;34m]\u001b[0m\u001b[0;34m\u001b[0m\u001b[0m\n\u001b[0m",
      "\u001b[0;31mNameError\u001b[0m: name 'df_123c' is not defined"
     ]
    }
   ],
   "source": [
    "#Code\n",
    "df_123c['popularity'] = df_123c['favorite_count'] + df_123c['retweet_count']"
   ]
  },
  {
   "cell_type": "code",
   "execution_count": null,
   "metadata": {},
   "outputs": [],
   "source": [
    "#Test\n",
    "sum(df_123c.retweet_count + df_123c.favorite_count != df_123c.popularity) #this should return to 0 ideally!"
   ]
  },
  {
   "cell_type": "markdown",
   "metadata": {},
   "source": [
    "**Comment:** The reason why we got 2 instead of 0 there are two None values in the columns however there is no need to drop these observations, later these columns will be used separately as well!\n"
   ]
  },
  {
   "cell_type": "markdown",
   "metadata": {},
   "source": [
    "**SAVING THE MASTER DATAFRAME after ADDITIONAL CHECKS:**<br>"
   ]
  },
  {
   "cell_type": "code",
   "execution_count": null,
   "metadata": {},
   "outputs": [],
   "source": [
    "#At this stage a clean master data frame is created and saved.\n",
    "df_123c.to_csv('twitter_archive_master.csv', encoding='UTF-8', index=False)\n",
    "#Now we can work with a single dataframe in the ANALYZE phase.\n",
    "df_123c = pd.read_csv('twitter_archive_master.csv')"
   ]
  },
  {
   "cell_type": "markdown",
   "metadata": {},
   "source": [
    "Since there are issues to address above, an additional data-assessment is needed as some insights might be affected and might change.<br>\n",
    "It's done externally in excel.<br>\n",
    "And also let's check the data again by using head(), tail(), info() and describe() methods."
   ]
  },
  {
   "cell_type": "code",
   "execution_count": null,
   "metadata": {},
   "outputs": [],
   "source": [
    "df_123c.head(2)"
   ]
  },
  {
   "cell_type": "code",
   "execution_count": null,
   "metadata": {},
   "outputs": [],
   "source": [
    "df_123c.tail(2)"
   ]
  },
  {
   "cell_type": "code",
   "execution_count": null,
   "metadata": {},
   "outputs": [],
   "source": [
    "df_123c.info();"
   ]
  },
  {
   "cell_type": "code",
   "execution_count": null,
   "metadata": {},
   "outputs": [],
   "source": [
    "df_123c.describe()"
   ]
  },
  {
   "cell_type": "markdown",
   "metadata": {},
   "source": [
    "Now, everything seem fine!<br>\n",
    "Let's start to anaylze the data!"
   ]
  },
  {
   "cell_type": "markdown",
   "metadata": {},
   "source": [
    "### ANALYZE"
   ]
  },
  {
   "cell_type": "markdown",
   "metadata": {},
   "source": [
    "**Research questions:**\n",
    "1. Which dog breeds are popular? Find top-10!<br>\n",
    "2. Is there a time-trend of rating?<br>\n",
    "3. Is there a correlation between favorites, ratings and number of retweets? How strong is it?<br>\n",
    "4. Try to find the proportion of genders of dogs.\n",
    "5. Find the photo of the most favourited dog!"
   ]
  },
  {
   "cell_type": "markdown",
   "metadata": {},
   "source": [
    "#### 1. Which dog breeds are popular? Find top-10!"
   ]
  },
  {
   "cell_type": "markdown",
   "metadata": {},
   "source": [
    "In order to find the popular dog breeds, we should define the 'popularity' first.<br>\n",
    "We can directly use **ratings** as a measure of popularity, however in social media popularity comes from sharing (e.g. retweet).<br>\n",
    "Thus, we can use both number of retweets and number of favorites to define 'popularity' as follows:<br>\n",
    "****popularity = favorite_count + retweet_count****"
   ]
  },
  {
   "cell_type": "code",
   "execution_count": null,
   "metadata": {},
   "outputs": [],
   "source": [
    "#Creating a new column: 'popularity'\n",
    "df_123c['popularity'] = df_123c['favorite_count'] + df_123c['retweet_count']\n",
    "df_123c.head(2)"
   ]
  },
  {
   "cell_type": "code",
   "execution_count": null,
   "metadata": {},
   "outputs": [],
   "source": [
    "df_123c_pop = df_123c[['prediction', 'popularity']] \n",
    "df_123c_pop.groupby(['prediction']).mean().sort_values('popularity',ascending=False).head(10)"
   ]
  },
  {
   "cell_type": "markdown",
   "metadata": {},
   "source": [
    "#### 2. Is there a time-trend of rating?<br>"
   ]
  },
  {
   "cell_type": "code",
   "execution_count": null,
   "metadata": {},
   "outputs": [],
   "source": [
    "#Convert the timestamp into datetime format\n",
    "#df_123c['timestamp'] = pd.to_datetime(df_123c.timestamp)\n",
    "\n",
    "#Plot the diagram\n",
    "from matplotlib.pyplot import figure\n",
    "df_123c.plot(x='timestamp', y ='rating_numerator', style = '.', alpha = .8, figsize=(12,8))\n",
    "plt.title('Rating plot over Time',fontsize=18)\n",
    "plt.xlabel('Date',fontsize=14)\n",
    "plt.ylabel('Rating',fontsize=14);"
   ]
  },
  {
   "cell_type": "markdown",
   "metadata": {},
   "source": [
    "Above diagram shows that ratings increase over time!"
   ]
  },
  {
   "cell_type": "markdown",
   "metadata": {},
   "source": [
    "#### 3. Is there a correlation between favorites, ratings and number of retweets? How strong is it?"
   ]
  },
  {
   "cell_type": "markdown",
   "metadata": {},
   "source": [
    "Intuitively, we expect a pairwise correlation rating and between number of favorites. Because we give high ratings to our favorites!<br>\n",
    "Let's start with those 2."
   ]
  },
  {
   "cell_type": "code",
   "execution_count": null,
   "metadata": {},
   "outputs": [],
   "source": [
    "sns.set_style('ticks')\n",
    "fig, ax = plt.subplots()\n",
    "fig.set_size_inches(12, 8)\n",
    "cor1 = sns.regplot(df_123c.rating_numerator,df_123c.favorite_count, ax=ax);\n",
    "sns.despine();\n",
    "plt.title(\"Ratings and Number of Favorites\",fontsize=18);\n",
    "plt.xlabel('Rating',fontsize=14);\n",
    "plt.ylabel('Favorites',fontsize=14);\n",
    "cor1.set(ylim=(0, None));"
   ]
  },
  {
   "cell_type": "markdown",
   "metadata": {},
   "source": [
    "**Note that:** The scatter plot given  above shows that there are some tweets in which the rating numerator is less than 10. Because **there are haters in social media**! We did not drop these row so as to detect the number of haters later, however we can basically re-plot the above diagram by limiting the minimum-x as 10!"
   ]
  },
  {
   "cell_type": "code",
   "execution_count": null,
   "metadata": {},
   "outputs": [],
   "source": [
    "sns.set_style('ticks')\n",
    "fig, ax = plt.subplots()\n",
    "fig.set_size_inches(12, 8)\n",
    "cor1 = sns.regplot(df_123c.rating_numerator,df_123c.favorite_count, ax=ax);\n",
    "sns.despine();\n",
    "plt.title(\"Ratings and Number of Favorites\",fontsize=18);\n",
    "plt.xlabel('Rating',fontsize=14);\n",
    "plt.ylabel('Favorites',fontsize=14);\n",
    "cor1.set(ylim=(0, None));\n",
    "cor1.set(xlim=(10, None));"
   ]
  },
  {
   "cell_type": "markdown",
   "metadata": {},
   "source": [
    "It's hard to say whether there is a correlation between ratings and favorites.<br>\n",
    "Let's calculate the pearson's correlation coefficient."
   ]
  },
  {
   "cell_type": "code",
   "execution_count": null,
   "metadata": {},
   "outputs": [],
   "source": [
    "#Building a correlation table\n",
    "cor2 = df_123c[['favorite_count', 'retweet_count']]\n",
    "corr = cor2.corr()\n",
    "corr.style.background_gradient()"
   ]
  },
  {
   "cell_type": "markdown",
   "metadata": {},
   "source": [
    "There is a moderate correlation (~70%) between number of favorites and number of retweets.<br>\n",
    "Now, let's also consider the retweets."
   ]
  },
  {
   "cell_type": "code",
   "execution_count": null,
   "metadata": {},
   "outputs": [],
   "source": [
    "#Plotting the correlation matrix with a color scale\n",
    "f,ax = plt.subplots(figsize=(5, 5))\n",
    "sns.heatmap(df_123c[['rating_numerator', 'favorite_count', 'retweet_count']].corr(), annot=True, linewidths=.5, fmt= '.1f')\n",
    "plt.title('Correlation Matrix');"
   ]
  },
  {
   "cell_type": "code",
   "execution_count": null,
   "metadata": {},
   "outputs": [],
   "source": [
    "#Building a correlation table\n",
    "cor3 = df_123c[['rating_numerator', 'favorite_count', 'retweet_count']]\n",
    "corr = cor3.corr()\n",
    "corr.style.background_gradient()"
   ]
  },
  {
   "cell_type": "markdown",
   "metadata": {},
   "source": [
    "**Conclusion:** There is a moderate correlation between number of favorites and number of retweets.<br>\n",
    "However, those two have a weak correlation with ratings!"
   ]
  },
  {
   "cell_type": "markdown",
   "metadata": {},
   "source": [
    "#### 4. Try to find the proportion of genders."
   ]
  },
  {
   "cell_type": "markdown",
   "metadata": {},
   "source": [
    "Let's check the text column in the masterframe."
   ]
  },
  {
   "cell_type": "code",
   "execution_count": null,
   "metadata": {},
   "outputs": [],
   "source": [
    "df_123c.text"
   ]
  },
  {
   "cell_type": "markdown",
   "metadata": {},
   "source": [
    "As it can be seen above, text contains some words (he,she,He's,boy,girl etc.) that describe the gender of the dog!<br>\n",
    "Let's try to derive gender information based on those words."
   ]
  },
  {
   "cell_type": "code",
   "execution_count": null,
   "metadata": {},
   "outputs": [],
   "source": [
    "#Gender descriptive words\n",
    "male = ['he', 'He', 'he\\'s', 'He\\'s', 'him', 'his', 'boy']\n",
    "female = ['she', 'She', 'she\\'s', 'She\\'s', 'her', 'hers', 'girl']\n",
    "\n",
    "gender = [] #empty list\n",
    "\n",
    "for text in df_123c['text']:\n",
    "    #Words in male\n",
    "    if any(map(lambda v:v in male, text.split())):\n",
    "        gender.append('male')\n",
    "    #Words in female\n",
    "    elif any(map(lambda v:v in female, text.split())):\n",
    "        gender.append('female')\n",
    "    # If group or not specified\n",
    "    else:\n",
    "        gender.append(None)\n",
    "#\n",
    "df_123c['gender'] = gender\n",
    "df_123c.head(4)"
   ]
  },
  {
   "cell_type": "code",
   "execution_count": null,
   "metadata": {},
   "outputs": [],
   "source": [
    "#Number of genders\n",
    "num_gen = df_123c[df_123c['gender'].notnull()]['gender'].value_counts()\n",
    "num_gen"
   ]
  },
  {
   "cell_type": "code",
   "execution_count": null,
   "metadata": {},
   "outputs": [],
   "source": [
    "#Bar-Plot\n",
    "sex = ('Male', 'Female')\n",
    "numgen = [num_gen.male,num_gen.female]\n",
    "\n",
    "y_pos = np.arange(len(sex))\n",
    "plt.bar(y_pos, numgen, align='center', alpha=0.5)\n",
    "plt.xticks(y_pos, sex)\n",
    "plt.title('Number of Dog Genders')\n",
    "\n",
    "plt.show()"
   ]
  },
  {
   "cell_type": "markdown",
   "metadata": {},
   "source": [
    "**Conclusion:** It's clear that number of male dogs are significantly higher than female dogs."
   ]
  },
  {
   "cell_type": "markdown",
   "metadata": {},
   "source": [
    "#### 5. Find the most favourite dog photo!"
   ]
  },
  {
   "cell_type": "code",
   "execution_count": null,
   "metadata": {},
   "outputs": [],
   "source": [
    "most_fav = max(df_123c['favorite_count'])\n",
    "most_fav_jpg = df_123c[df_123c['favorite_count']==most_fav].jpg_url[407]\n",
    "#\n",
    "photo = open('most_fav_jpg.jpg','wb')\n",
    "photo.write(requests.get(most_fav_jpg).content)\n",
    "photo.close()"
   ]
  },
  {
   "cell_type": "markdown",
   "metadata": {},
   "source": [
    "![title](most_fav_jpg.jpg)"
   ]
  },
  {
   "cell_type": "markdown",
   "metadata": {},
   "source": [
    "***Reports for wrangling and analysis-insight are loaded to the NB workspace!***<br>\n",
    "Thanks!"
   ]
  }
 ],
 "metadata": {
  "kernelspec": {
   "display_name": "Python 3",
   "language": "python",
   "name": "python3"
  },
  "language_info": {
   "codemirror_mode": {
    "name": "ipython",
    "version": 3
   },
   "file_extension": ".py",
   "mimetype": "text/x-python",
   "name": "python",
   "nbconvert_exporter": "python",
   "pygments_lexer": "ipython3",
   "version": "3.6.3"
  }
 },
 "nbformat": 4,
 "nbformat_minor": 2
}
